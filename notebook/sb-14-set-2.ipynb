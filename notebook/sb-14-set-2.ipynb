{
 "cells": [
  {
   "cell_type": "code",
   "execution_count": 66,
   "metadata": {
    "colab": {
     "base_uri": "https://localhost:8080/"
    },
    "id": "oPkTkFzOf8p4",
    "outputId": "afdb1d7c-a9c4-4e38-9a5b-985d49ff3737"
   },
   "outputs": [
    {
     "name": "stdout",
     "output_type": "stream",
     "text": [
      "Requirement already satisfied: tensorflow_decision_forests in /usr/local/lib/python3.7/dist-packages (0.2.1)\n",
      "Requirement already satisfied: numpy in /usr/local/lib/python3.7/dist-packages (from tensorflow_decision_forests) (1.19.5)\n",
      "Requirement already satisfied: tensorflow~=2.7.0 in /usr/local/lib/python3.7/dist-packages (from tensorflow_decision_forests) (2.7.0)\n",
      "Requirement already satisfied: wheel in /usr/local/lib/python3.7/dist-packages (from tensorflow_decision_forests) (0.37.0)\n",
      "Requirement already satisfied: six in /usr/local/lib/python3.7/dist-packages (from tensorflow_decision_forests) (1.15.0)\n",
      "Requirement already satisfied: absl-py in /usr/local/lib/python3.7/dist-packages (from tensorflow_decision_forests) (0.12.0)\n",
      "Requirement already satisfied: pandas in /usr/local/lib/python3.7/dist-packages (from tensorflow_decision_forests) (1.1.5)\n",
      "Requirement already satisfied: libclang>=9.0.1 in /usr/local/lib/python3.7/dist-packages (from tensorflow~=2.7.0->tensorflow_decision_forests) (12.0.0)\n",
      "Requirement already satisfied: h5py>=2.9.0 in /usr/local/lib/python3.7/dist-packages (from tensorflow~=2.7.0->tensorflow_decision_forests) (3.1.0)\n",
      "Requirement already satisfied: gast<0.5.0,>=0.2.1 in /usr/local/lib/python3.7/dist-packages (from tensorflow~=2.7.0->tensorflow_decision_forests) (0.4.0)\n",
      "Requirement already satisfied: tensorflow-estimator<2.8,~=2.7.0rc0 in /usr/local/lib/python3.7/dist-packages (from tensorflow~=2.7.0->tensorflow_decision_forests) (2.7.0)\n",
      "Requirement already satisfied: google-pasta>=0.1.1 in /usr/local/lib/python3.7/dist-packages (from tensorflow~=2.7.0->tensorflow_decision_forests) (0.2.0)\n",
      "Requirement already satisfied: astunparse>=1.6.0 in /usr/local/lib/python3.7/dist-packages (from tensorflow~=2.7.0->tensorflow_decision_forests) (1.6.3)\n",
      "Requirement already satisfied: grpcio<2.0,>=1.24.3 in /usr/local/lib/python3.7/dist-packages (from tensorflow~=2.7.0->tensorflow_decision_forests) (1.42.0)\n",
      "Requirement already satisfied: tensorflow-io-gcs-filesystem>=0.21.0 in /usr/local/lib/python3.7/dist-packages (from tensorflow~=2.7.0->tensorflow_decision_forests) (0.22.0)\n",
      "Requirement already satisfied: keras<2.8,>=2.7.0rc0 in /usr/local/lib/python3.7/dist-packages (from tensorflow~=2.7.0->tensorflow_decision_forests) (2.7.0)\n",
      "Requirement already satisfied: keras-preprocessing>=1.1.1 in /usr/local/lib/python3.7/dist-packages (from tensorflow~=2.7.0->tensorflow_decision_forests) (1.1.2)\n",
      "Requirement already satisfied: flatbuffers<3.0,>=1.12 in /usr/local/lib/python3.7/dist-packages (from tensorflow~=2.7.0->tensorflow_decision_forests) (2.0)\n",
      "Requirement already satisfied: protobuf>=3.9.2 in /usr/local/lib/python3.7/dist-packages (from tensorflow~=2.7.0->tensorflow_decision_forests) (3.17.3)\n",
      "Requirement already satisfied: typing-extensions>=3.6.6 in /usr/local/lib/python3.7/dist-packages (from tensorflow~=2.7.0->tensorflow_decision_forests) (3.10.0.2)\n",
      "Requirement already satisfied: termcolor>=1.1.0 in /usr/local/lib/python3.7/dist-packages (from tensorflow~=2.7.0->tensorflow_decision_forests) (1.1.0)\n",
      "Requirement already satisfied: wrapt>=1.11.0 in /usr/local/lib/python3.7/dist-packages (from tensorflow~=2.7.0->tensorflow_decision_forests) (1.13.3)\n",
      "Requirement already satisfied: opt-einsum>=2.3.2 in /usr/local/lib/python3.7/dist-packages (from tensorflow~=2.7.0->tensorflow_decision_forests) (3.3.0)\n",
      "Requirement already satisfied: tensorboard~=2.6 in /usr/local/lib/python3.7/dist-packages (from tensorflow~=2.7.0->tensorflow_decision_forests) (2.7.0)\n",
      "Requirement already satisfied: cached-property in /usr/local/lib/python3.7/dist-packages (from h5py>=2.9.0->tensorflow~=2.7.0->tensorflow_decision_forests) (1.5.2)\n",
      "Requirement already satisfied: werkzeug>=0.11.15 in /usr/local/lib/python3.7/dist-packages (from tensorboard~=2.6->tensorflow~=2.7.0->tensorflow_decision_forests) (1.0.1)\n",
      "Requirement already satisfied: setuptools>=41.0.0 in /usr/local/lib/python3.7/dist-packages (from tensorboard~=2.6->tensorflow~=2.7.0->tensorflow_decision_forests) (57.4.0)\n",
      "Requirement already satisfied: tensorboard-data-server<0.7.0,>=0.6.0 in /usr/local/lib/python3.7/dist-packages (from tensorboard~=2.6->tensorflow~=2.7.0->tensorflow_decision_forests) (0.6.1)\n",
      "Requirement already satisfied: google-auth-oauthlib<0.5,>=0.4.1 in /usr/local/lib/python3.7/dist-packages (from tensorboard~=2.6->tensorflow~=2.7.0->tensorflow_decision_forests) (0.4.6)\n",
      "Requirement already satisfied: requests<3,>=2.21.0 in /usr/local/lib/python3.7/dist-packages (from tensorboard~=2.6->tensorflow~=2.7.0->tensorflow_decision_forests) (2.23.0)\n",
      "Requirement already satisfied: google-auth<3,>=1.6.3 in /usr/local/lib/python3.7/dist-packages (from tensorboard~=2.6->tensorflow~=2.7.0->tensorflow_decision_forests) (1.35.0)\n",
      "Requirement already satisfied: markdown>=2.6.8 in /usr/local/lib/python3.7/dist-packages (from tensorboard~=2.6->tensorflow~=2.7.0->tensorflow_decision_forests) (3.3.6)\n",
      "Requirement already satisfied: tensorboard-plugin-wit>=1.6.0 in /usr/local/lib/python3.7/dist-packages (from tensorboard~=2.6->tensorflow~=2.7.0->tensorflow_decision_forests) (1.8.0)\n",
      "Requirement already satisfied: cachetools<5.0,>=2.0.0 in /usr/local/lib/python3.7/dist-packages (from google-auth<3,>=1.6.3->tensorboard~=2.6->tensorflow~=2.7.0->tensorflow_decision_forests) (4.2.4)\n",
      "Requirement already satisfied: pyasn1-modules>=0.2.1 in /usr/local/lib/python3.7/dist-packages (from google-auth<3,>=1.6.3->tensorboard~=2.6->tensorflow~=2.7.0->tensorflow_decision_forests) (0.2.8)\n",
      "Requirement already satisfied: rsa<5,>=3.1.4 in /usr/local/lib/python3.7/dist-packages (from google-auth<3,>=1.6.3->tensorboard~=2.6->tensorflow~=2.7.0->tensorflow_decision_forests) (4.7.2)\n",
      "Requirement already satisfied: requests-oauthlib>=0.7.0 in /usr/local/lib/python3.7/dist-packages (from google-auth-oauthlib<0.5,>=0.4.1->tensorboard~=2.6->tensorflow~=2.7.0->tensorflow_decision_forests) (1.3.0)\n",
      "Requirement already satisfied: importlib-metadata>=4.4 in /usr/local/lib/python3.7/dist-packages (from markdown>=2.6.8->tensorboard~=2.6->tensorflow~=2.7.0->tensorflow_decision_forests) (4.8.2)\n",
      "Requirement already satisfied: zipp>=0.5 in /usr/local/lib/python3.7/dist-packages (from importlib-metadata>=4.4->markdown>=2.6.8->tensorboard~=2.6->tensorflow~=2.7.0->tensorflow_decision_forests) (3.6.0)\n",
      "Requirement already satisfied: pyasn1<0.5.0,>=0.4.6 in /usr/local/lib/python3.7/dist-packages (from pyasn1-modules>=0.2.1->google-auth<3,>=1.6.3->tensorboard~=2.6->tensorflow~=2.7.0->tensorflow_decision_forests) (0.4.8)\n",
      "Requirement already satisfied: urllib3!=1.25.0,!=1.25.1,<1.26,>=1.21.1 in /usr/local/lib/python3.7/dist-packages (from requests<3,>=2.21.0->tensorboard~=2.6->tensorflow~=2.7.0->tensorflow_decision_forests) (1.24.3)\n",
      "Requirement already satisfied: idna<3,>=2.5 in /usr/local/lib/python3.7/dist-packages (from requests<3,>=2.21.0->tensorboard~=2.6->tensorflow~=2.7.0->tensorflow_decision_forests) (2.10)\n",
      "Requirement already satisfied: certifi>=2017.4.17 in /usr/local/lib/python3.7/dist-packages (from requests<3,>=2.21.0->tensorboard~=2.6->tensorflow~=2.7.0->tensorflow_decision_forests) (2021.10.8)\n",
      "Requirement already satisfied: chardet<4,>=3.0.2 in /usr/local/lib/python3.7/dist-packages (from requests<3,>=2.21.0->tensorboard~=2.6->tensorflow~=2.7.0->tensorflow_decision_forests) (3.0.4)\n",
      "Requirement already satisfied: oauthlib>=3.0.0 in /usr/local/lib/python3.7/dist-packages (from requests-oauthlib>=0.7.0->google-auth-oauthlib<0.5,>=0.4.1->tensorboard~=2.6->tensorflow~=2.7.0->tensorflow_decision_forests) (3.1.1)\n",
      "Requirement already satisfied: python-dateutil>=2.7.3 in /usr/local/lib/python3.7/dist-packages (from pandas->tensorflow_decision_forests) (2.8.2)\n",
      "Requirement already satisfied: pytz>=2017.2 in /usr/local/lib/python3.7/dist-packages (from pandas->tensorflow_decision_forests) (2018.9)\n"
     ]
    }
   ],
   "source": [
    "# install needed stuff\n",
    "!pip install tensorflow_decision_forests"
   ]
  },
  {
   "cell_type": "code",
   "execution_count": 67,
   "metadata": {
    "id": "JiEEtYmOVmtc"
   },
   "outputs": [],
   "source": [
    "# imports\n",
    "import pandas as pd\n",
    "import numpy as np\n",
    "import time\n",
    "from random import sample\n",
    "from sklearn.model_selection import train_test_split\n",
    "from sklearn.metrics import classification_report, roc_auc_score\n",
    "import tensorflow_decision_forests as tfdf\n",
    "\n",
    "# seed\n",
    "np.random.seed(0)"
   ]
  },
  {
   "cell_type": "markdown",
   "metadata": {
    "id": "qHxYwpxQVdLJ"
   },
   "source": [
    "## Note for implementation\n",
    "- Model: We apply Random Forests classifier implemented using scikit- learn toolkit16 and 100 decision tree estimators.\n",
    "- 5 fold cross validation (quite special, detail in paper)\n",
    "- Dataset has a 4 bands separation according to account's follower count"
   ]
  },
  {
   "cell_type": "code",
   "execution_count": 68,
   "metadata": {
    "colab": {
     "base_uri": "https://localhost:8080/"
    },
    "id": "aqAA_MfgVoE7",
    "outputId": "fc5bcf5e-72fc-4c2c-8ac2-7cdca33055ad"
   },
   "outputs": [
    {
     "name": "stdout",
     "output_type": "stream",
     "text": [
      "tweets\tusers\n"
     ]
    }
   ],
   "source": [
    "# where data is located\n",
    "!ls ./drive/MyDrive/Thesis\\ Workspace/Notebooks/data/set-2\n",
    "DATA_PATH = \"./drive/MyDrive/Thesis Workspace/Notebooks/data/sb14-set2/\""
   ]
  },
  {
   "cell_type": "code",
   "execution_count": 69,
   "metadata": {
    "colab": {
     "base_uri": "https://localhost:8080/"
    },
    "id": "3fJs-LsSVsFT",
    "outputId": "c2bfe4d0-c299-4663-88b6-6dbad17a5171"
   },
   "outputs": [
    {
     "name": "stdout",
     "output_type": "stream",
     "text": [
      "Shapes (4912, 12) (3394, 12)\n"
     ]
    }
   ],
   "source": [
    "# load user data\n",
    "df_bot = pd.read_csv(DATA_PATH + 'bot.csv')\n",
    "df_naive = pd.read_csv(DATA_PATH + 'naive.csv')\n",
    "print('Shapes', df_bot.shape, df_naive.shape)\n"
   ]
  },
  {
   "cell_type": "code",
   "execution_count": 70,
   "metadata": {
    "colab": {
     "base_uri": "https://localhost:8080/",
     "height": 241
    },
    "id": "5a6xbtavWrAx",
    "outputId": "ef4bb7d2-6f05-47f9-a65b-d7a77c25c931"
   },
   "outputs": [
    {
     "name": "stdout",
     "output_type": "stream",
     "text": [
      "[1 0]\n"
     ]
    },
    {
     "data": {
      "text/html": [
       "<div>\n",
       "<style scoped>\n",
       "    .dataframe tbody tr th:only-of-type {\n",
       "        vertical-align: middle;\n",
       "    }\n",
       "\n",
       "    .dataframe tbody tr th {\n",
       "        vertical-align: top;\n",
       "    }\n",
       "\n",
       "    .dataframe thead th {\n",
       "        text-align: right;\n",
       "    }\n",
       "</style>\n",
       "<table border=\"1\" class=\"dataframe\">\n",
       "  <thead>\n",
       "    <tr style=\"text-align: right;\">\n",
       "      <th></th>\n",
       "      <th>statuses_count</th>\n",
       "      <th>favourites_count</th>\n",
       "      <th>listed_count</th>\n",
       "      <th>age</th>\n",
       "      <th>tweet_frequency</th>\n",
       "      <th>user_id</th>\n",
       "      <th>favorite_received</th>\n",
       "      <th>favorite_received_ratio</th>\n",
       "      <th>retweet_received</th>\n",
       "      <th>retweet_received_ratio</th>\n",
       "      <th>url_count</th>\n",
       "      <th>activity_source_count</th>\n",
       "      <th>label</th>\n",
       "    </tr>\n",
       "  </thead>\n",
       "  <tbody>\n",
       "    <tr>\n",
       "      <th>0</th>\n",
       "      <td>1299</td>\n",
       "      <td>1</td>\n",
       "      <td>0</td>\n",
       "      <td>6.995963</td>\n",
       "      <td>185.678511</td>\n",
       "      <td>24858289</td>\n",
       "      <td>8</td>\n",
       "      <td>0.003177</td>\n",
       "      <td>11</td>\n",
       "      <td>0.004369</td>\n",
       "      <td>2038</td>\n",
       "      <td>34</td>\n",
       "      <td>1</td>\n",
       "    </tr>\n",
       "    <tr>\n",
       "      <th>1</th>\n",
       "      <td>18665</td>\n",
       "      <td>16358</td>\n",
       "      <td>110</td>\n",
       "      <td>6.904962</td>\n",
       "      <td>2703.128629</td>\n",
       "      <td>33212890</td>\n",
       "      <td>31586</td>\n",
       "      <td>9.858302</td>\n",
       "      <td>37519</td>\n",
       "      <td>11.710050</td>\n",
       "      <td>1073</td>\n",
       "      <td>4</td>\n",
       "      <td>1</td>\n",
       "    </tr>\n",
       "    <tr>\n",
       "      <th>2</th>\n",
       "      <td>22987</td>\n",
       "      <td>14</td>\n",
       "      <td>6</td>\n",
       "      <td>6.839143</td>\n",
       "      <td>3361.093391</td>\n",
       "      <td>39773427</td>\n",
       "      <td>109</td>\n",
       "      <td>0.033893</td>\n",
       "      <td>477172</td>\n",
       "      <td>148.374378</td>\n",
       "      <td>2025</td>\n",
       "      <td>12</td>\n",
       "      <td>1</td>\n",
       "    </tr>\n",
       "    <tr>\n",
       "      <th>3</th>\n",
       "      <td>7975</td>\n",
       "      <td>11</td>\n",
       "      <td>2</td>\n",
       "      <td>6.666963</td>\n",
       "      <td>1196.196831</td>\n",
       "      <td>57007623</td>\n",
       "      <td>46</td>\n",
       "      <td>0.014237</td>\n",
       "      <td>171137</td>\n",
       "      <td>52.967193</td>\n",
       "      <td>479</td>\n",
       "      <td>8</td>\n",
       "      <td>1</td>\n",
       "    </tr>\n",
       "    <tr>\n",
       "      <th>4</th>\n",
       "      <td>20218</td>\n",
       "      <td>162</td>\n",
       "      <td>8</td>\n",
       "      <td>6.608517</td>\n",
       "      <td>3059.385303</td>\n",
       "      <td>63258466</td>\n",
       "      <td>834</td>\n",
       "      <td>0.260544</td>\n",
       "      <td>100333</td>\n",
       "      <td>31.344267</td>\n",
       "      <td>423</td>\n",
       "      <td>14</td>\n",
       "      <td>1</td>\n",
       "    </tr>\n",
       "  </tbody>\n",
       "</table>\n",
       "</div>"
      ],
      "text/plain": [
       "   statuses_count  favourites_count  ...  activity_source_count  label\n",
       "0            1299                 1  ...                     34      1\n",
       "1           18665             16358  ...                      4      1\n",
       "2           22987                14  ...                     12      1\n",
       "3            7975                11  ...                      8      1\n",
       "4           20218               162  ...                     14      1\n",
       "\n",
       "[5 rows x 13 columns]"
      ]
     },
     "execution_count": 70,
     "metadata": {},
     "output_type": "execute_result"
    }
   ],
   "source": [
    "df_bot['label'] = 1\n",
    "df_naive['label'] = 0\n",
    "df = pd.concat([df_bot, df_naive], ignore_index=True)\n",
    "print(df['label'].unique())\n",
    "df.head()"
   ]
  },
  {
   "cell_type": "code",
   "execution_count": 71,
   "metadata": {
    "colab": {
     "base_uri": "https://localhost:8080/"
    },
    "id": "6iS5Y_9EXabc",
    "outputId": "1fe2b9aa-c3ef-4486-a726-bb4031105f72"
   },
   "outputs": [
    {
     "name": "stdout",
     "output_type": "stream",
     "text": [
      "(6644, 13) (1662, 13)\n"
     ]
    }
   ],
   "source": [
    "# train test split\n",
    "train, val = train_test_split(df, train_size=0.8)\n",
    "print(train.shape, val.shape)"
   ]
  },
  {
   "cell_type": "code",
   "execution_count": 73,
   "metadata": {
    "colab": {
     "base_uri": "https://localhost:8080/"
    },
    "id": "Q7d3uvdzWoe0",
    "outputId": "2f92dadf-b9ef-4355-bece-dd1f6bd23bc0"
   },
   "outputs": [
    {
     "name": "stdout",
     "output_type": "stream",
     "text": [
      "104/104 [==============================] - 3s 28ms/step\n"
     ]
    },
    {
     "data": {
      "text/plain": [
       "<keras.callbacks.History at 0x7fe55c9fa0d0>"
      ]
     },
     "execution_count": 73,
     "metadata": {},
     "output_type": "execute_result"
    }
   ],
   "source": [
    "# Convert the dataset into a TensorFlow dataset.\n",
    "train_ds = tfdf.keras.pd_dataframe_to_tf_dataset(train, label=\"label\")\n",
    "test_ds = tfdf.keras.pd_dataframe_to_tf_dataset(val, label=\"label\")\n",
    "\n",
    "# Train a Random Forest model.\n",
    "model = tfdf.keras.RandomForestModel()\n",
    "model.fit(train_ds)"
   ]
  },
  {
   "cell_type": "code",
   "execution_count": 74,
   "metadata": {
    "colab": {
     "base_uri": "https://localhost:8080/"
    },
    "id": "588zbbC5Y4ql",
    "outputId": "ae8585f1-d190-4fcb-a185-5d27b31da418"
   },
   "outputs": [
    {
     "name": "stdout",
     "output_type": "stream",
     "text": [
      "Model: \"random_forest_model_5\"\n",
      "_________________________________________________________________\n",
      " Layer (type)                Output Shape              Param #   \n",
      "=================================================================\n",
      "=================================================================\n",
      "Total params: 1\n",
      "Trainable params: 0\n",
      "Non-trainable params: 1\n",
      "_________________________________________________________________\n",
      "Type: \"RANDOM_FOREST\"\n",
      "Task: CLASSIFICATION\n",
      "Label: \"__LABEL\"\n",
      "\n",
      "Input Features (12):\n",
      "\tactivity_source_count\n",
      "\tage\n",
      "\tfavorite_received\n",
      "\tfavorite_received_ratio\n",
      "\tfavourites_count\n",
      "\tlisted_count\n",
      "\tretweet_received\n",
      "\tretweet_received_ratio\n",
      "\tstatuses_count\n",
      "\ttweet_frequency\n",
      "\turl_count\n",
      "\tuser_id\n",
      "\n",
      "No weights\n",
      "\n",
      "Variable Importance: MEAN_MIN_DEPTH:\n",
      "    1.                 \"__LABEL\"  7.331854 ################\n",
      "    2.            \"listed_count\"  6.672851 ##############\n",
      "    3.          \"statuses_count\"  6.146248 ############\n",
      "    4.                 \"user_id\"  6.074903 ############\n",
      "    5.                     \"age\"  6.018574 ############\n",
      "    6. \"favorite_received_ratio\"  5.998170 ############\n",
      "    7.         \"tweet_frequency\"  5.758356 ###########\n",
      "    8.       \"favorite_received\"  5.704426 ###########\n",
      "    9.               \"url_count\"  5.680505 ###########\n",
      "   10.   \"activity_source_count\"  5.192930 ##########\n",
      "   11.        \"retweet_received\"  3.947633 ######\n",
      "   12.  \"retweet_received_ratio\"  2.875554 ###\n",
      "   13.        \"favourites_count\"  1.528032 \n",
      "\n",
      "Variable Importance: NUM_AS_ROOT:\n",
      "    1.       \"favourites_count\" 119.000000 ################\n",
      "    2. \"retweet_received_ratio\" 82.000000 ##########\n",
      "    3.       \"retweet_received\" 58.000000 #######\n",
      "    4.  \"activity_source_count\" 25.000000 ###\n",
      "    5.        \"tweet_frequency\" 13.000000 #\n",
      "    6.         \"statuses_count\"  2.000000 \n",
      "    7.              \"url_count\"  1.000000 \n",
      "\n",
      "Variable Importance: NUM_NODES:\n",
      "    1.        \"favourites_count\" 2192.000000 ################\n",
      "    2.  \"retweet_received_ratio\" 1766.000000 ##########\n",
      "    3.        \"retweet_received\" 1706.000000 ##########\n",
      "    4.               \"url_count\" 1678.000000 #########\n",
      "    5.                 \"user_id\" 1655.000000 #########\n",
      "    6.                     \"age\" 1597.000000 ########\n",
      "    7.         \"tweet_frequency\" 1549.000000 ########\n",
      "    8.       \"favorite_received\" 1512.000000 #######\n",
      "    9. \"favorite_received_ratio\" 1471.000000 #######\n",
      "   10.          \"statuses_count\" 1420.000000 ######\n",
      "   11.   \"activity_source_count\" 1239.000000 ####\n",
      "   12.            \"listed_count\" 851.000000 \n",
      "\n",
      "Variable Importance: SUM_SCORE:\n",
      "    1.        \"favourites_count\" 564235.250284 ################\n",
      "    2.  \"retweet_received_ratio\" 305614.117920 ########\n",
      "    3.        \"retweet_received\" 203618.893327 #####\n",
      "    4.   \"activity_source_count\" 109206.081231 ###\n",
      "    5.         \"tweet_frequency\" 42841.931074 #\n",
      "    6.                 \"user_id\" 22817.012258 \n",
      "    7.                     \"age\" 22096.715205 \n",
      "    8.          \"statuses_count\" 14862.559680 \n",
      "    9.               \"url_count\" 12448.051462 \n",
      "   10.       \"favorite_received\" 11241.022886 \n",
      "   11. \"favorite_received_ratio\" 9168.255921 \n",
      "   12.            \"listed_count\" 4099.702736 \n",
      "\n",
      "\n",
      "\n",
      "Winner take all: true\n",
      "Out-of-bag evaluation: accuracy:0.985701 logloss:0.075813\n",
      "Number of trees: 300\n",
      "Total number of nodes: 37572\n",
      "\n",
      "Number of nodes by tree:\n",
      "Count: 300 Average: 125.24 StdDev: 10.2526\n",
      "Min: 101 Max: 155 Ignored: 0\n",
      "----------------------------------------------\n",
      "[ 101, 103)  2   0.67%   0.67%\n",
      "[ 103, 106)  5   1.67%   2.33% #\n",
      "[ 106, 109)  4   1.33%   3.67% #\n",
      "[ 109, 112) 18   6.00%   9.67% ####\n",
      "[ 112, 114) 16   5.33%  15.00% ####\n",
      "[ 114, 117) 11   3.67%  18.67% ###\n",
      "[ 117, 120) 34  11.33%  30.00% ########\n",
      "[ 120, 123) 24   8.00%  38.00% ######\n",
      "[ 123, 125) 30  10.00%  48.00% #######\n",
      "[ 125, 128) 41  13.67%  61.67% ##########\n",
      "[ 128, 131) 20   6.67%  68.33% #####\n",
      "[ 131, 134) 38  12.67%  81.00% #########\n",
      "[ 134, 136) 14   4.67%  85.67% ###\n",
      "[ 136, 139)  7   2.33%  88.00% ##\n",
      "[ 139, 142) 22   7.33%  95.33% #####\n",
      "[ 142, 145)  3   1.00%  96.33% #\n",
      "[ 145, 147)  3   1.00%  97.33% #\n",
      "[ 147, 150)  4   1.33%  98.67% #\n",
      "[ 150, 153)  1   0.33%  99.00%\n",
      "[ 153, 155]  3   1.00% 100.00% #\n",
      "\n",
      "Depth by leafs:\n",
      "Count: 18936 Average: 7.34321 StdDev: 2.3106\n",
      "Min: 2 Max: 15 Ignored: 0\n",
      "----------------------------------------------\n",
      "[  2,  3)   20   0.11%   0.11%\n",
      "[  3,  4)  310   1.64%   1.74% #\n",
      "[  4,  5) 1325   7.00%   8.74% ####\n",
      "[  5,  6) 2468  13.03%  21.77% #######\n",
      "[  6,  7) 3344  17.66%  39.43% ##########\n",
      "[  7,  8) 3491  18.44%  57.87% ##########\n",
      "[  8,  9) 2834  14.97%  72.83% ########\n",
      "[  9, 10) 1978  10.45%  83.28% ######\n",
      "[ 10, 11) 1322   6.98%  90.26% ####\n",
      "[ 11, 12)  826   4.36%  94.62% ##\n",
      "[ 12, 13)  470   2.48%  97.11% #\n",
      "[ 13, 14)  272   1.44%  98.54% #\n",
      "[ 14, 15)  156   0.82%  99.37%\n",
      "[ 15, 15]  120   0.63% 100.00%\n",
      "\n",
      "Number of training obs by leaf:\n",
      "Count: 18936 Average: 105.26 StdDev: 441.943\n",
      "Min: 5 Max: 3764 Ignored: 0\n",
      "----------------------------------------------\n",
      "[    5,  193) 17544  92.65%  92.65% ##########\n",
      "[  193,  381)   514   2.71%  95.36%\n",
      "[  381,  569)   126   0.67%  96.03%\n",
      "[  569,  757)   101   0.53%  96.56%\n",
      "[  757,  945)    86   0.45%  97.02%\n",
      "[  945, 1133)    82   0.43%  97.45%\n",
      "[ 1133, 1321)    64   0.34%  97.79%\n",
      "[ 1321, 1509)    77   0.41%  98.19%\n",
      "[ 1509, 1697)    26   0.14%  98.33%\n",
      "[ 1697, 1885)    13   0.07%  98.40%\n",
      "[ 1885, 2073)     3   0.02%  98.42%\n",
      "[ 2073, 2261)     0   0.00%  98.42%\n",
      "[ 2261, 2449)     1   0.01%  98.42%\n",
      "[ 2449, 2637)     1   0.01%  98.43%\n",
      "[ 2637, 2825)    50   0.26%  98.69%\n",
      "[ 2825, 3013)    19   0.10%  98.79%\n",
      "[ 3013, 3201)    36   0.19%  98.98%\n",
      "[ 3201, 3389)    46   0.24%  99.22%\n",
      "[ 3389, 3577)    82   0.43%  99.66%\n",
      "[ 3577, 3764]    65   0.34% 100.00%\n",
      "\n",
      "Attribute in nodes:\n",
      "\t2192 : favourites_count [NUMERICAL]\n",
      "\t1766 : retweet_received_ratio [NUMERICAL]\n",
      "\t1706 : retweet_received [NUMERICAL]\n",
      "\t1678 : url_count [NUMERICAL]\n",
      "\t1655 : user_id [NUMERICAL]\n",
      "\t1597 : age [NUMERICAL]\n",
      "\t1549 : tweet_frequency [NUMERICAL]\n",
      "\t1512 : favorite_received [NUMERICAL]\n",
      "\t1471 : favorite_received_ratio [NUMERICAL]\n",
      "\t1420 : statuses_count [NUMERICAL]\n",
      "\t1239 : activity_source_count [NUMERICAL]\n",
      "\t851 : listed_count [NUMERICAL]\n",
      "\n",
      "Attribute in nodes with depth <= 0:\n",
      "\t119 : favourites_count [NUMERICAL]\n",
      "\t82 : retweet_received_ratio [NUMERICAL]\n",
      "\t58 : retweet_received [NUMERICAL]\n",
      "\t25 : activity_source_count [NUMERICAL]\n",
      "\t13 : tweet_frequency [NUMERICAL]\n",
      "\t2 : statuses_count [NUMERICAL]\n",
      "\t1 : url_count [NUMERICAL]\n",
      "\n",
      "Attribute in nodes with depth <= 1:\n",
      "\t317 : favourites_count [NUMERICAL]\n",
      "\t180 : retweet_received_ratio [NUMERICAL]\n",
      "\t133 : retweet_received [NUMERICAL]\n",
      "\t125 : activity_source_count [NUMERICAL]\n",
      "\t32 : user_id [NUMERICAL]\n",
      "\t30 : tweet_frequency [NUMERICAL]\n",
      "\t29 : age [NUMERICAL]\n",
      "\t19 : favorite_received [NUMERICAL]\n",
      "\t17 : statuses_count [NUMERICAL]\n",
      "\t12 : url_count [NUMERICAL]\n",
      "\t5 : favorite_received_ratio [NUMERICAL]\n",
      "\t1 : listed_count [NUMERICAL]\n",
      "\n",
      "Attribute in nodes with depth <= 2:\n",
      "\t530 : favourites_count [NUMERICAL]\n",
      "\t314 : retweet_received_ratio [NUMERICAL]\n",
      "\t261 : activity_source_count [NUMERICAL]\n",
      "\t218 : retweet_received [NUMERICAL]\n",
      "\t196 : age [NUMERICAL]\n",
      "\t156 : user_id [NUMERICAL]\n",
      "\t97 : tweet_frequency [NUMERICAL]\n",
      "\t90 : favorite_received [NUMERICAL]\n",
      "\t84 : url_count [NUMERICAL]\n",
      "\t66 : statuses_count [NUMERICAL]\n",
      "\t56 : favorite_received_ratio [NUMERICAL]\n",
      "\t12 : listed_count [NUMERICAL]\n",
      "\n",
      "Attribute in nodes with depth <= 3:\n",
      "\t772 : favourites_count [NUMERICAL]\n",
      "\t494 : retweet_received_ratio [NUMERICAL]\n",
      "\t398 : age [NUMERICAL]\n",
      "\t391 : retweet_received [NUMERICAL]\n",
      "\t383 : user_id [NUMERICAL]\n",
      "\t382 : activity_source_count [NUMERICAL]\n",
      "\t288 : tweet_frequency [NUMERICAL]\n",
      "\t265 : url_count [NUMERICAL]\n",
      "\t256 : favorite_received [NUMERICAL]\n",
      "\t204 : statuses_count [NUMERICAL]\n",
      "\t203 : favorite_received_ratio [NUMERICAL]\n",
      "\t94 : listed_count [NUMERICAL]\n",
      "\n",
      "Attribute in nodes with depth <= 5:\n",
      "\t1384 : favourites_count [NUMERICAL]\n",
      "\t1022 : retweet_received_ratio [NUMERICAL]\n",
      "\t907 : user_id [NUMERICAL]\n",
      "\t898 : age [NUMERICAL]\n",
      "\t882 : retweet_received [NUMERICAL]\n",
      "\t843 : url_count [NUMERICAL]\n",
      "\t792 : tweet_frequency [NUMERICAL]\n",
      "\t752 : favorite_received [NUMERICAL]\n",
      "\t730 : activity_source_count [NUMERICAL]\n",
      "\t701 : favorite_received_ratio [NUMERICAL]\n",
      "\t687 : statuses_count [NUMERICAL]\n",
      "\t389 : listed_count [NUMERICAL]\n",
      "\n",
      "Condition type in nodes:\n",
      "\t18636 : HigherCondition\n",
      "Condition type in nodes with depth <= 0:\n",
      "\t300 : HigherCondition\n",
      "Condition type in nodes with depth <= 1:\n",
      "\t900 : HigherCondition\n",
      "Condition type in nodes with depth <= 2:\n",
      "\t2080 : HigherCondition\n",
      "Condition type in nodes with depth <= 3:\n",
      "\t4130 : HigherCondition\n",
      "Condition type in nodes with depth <= 5:\n",
      "\t9987 : HigherCondition\n",
      "Node format: NOT_SET\n",
      "\n",
      "Training OOB:\n",
      "\ttrees: 1, Out-of-bag evaluation: accuracy:0.972552 logloss:0.989318\n",
      "\ttrees: 11, Out-of-bag evaluation: accuracy:0.983212 logloss:0.357034\n",
      "\ttrees: 21, Out-of-bag evaluation: accuracy:0.984949 logloss:0.221068\n",
      "\ttrees: 31, Out-of-bag evaluation: accuracy:0.984798 logloss:0.181005\n",
      "\ttrees: 41, Out-of-bag evaluation: accuracy:0.98525 logloss:0.139584\n",
      "\ttrees: 51, Out-of-bag evaluation: accuracy:0.9854 logloss:0.128993\n",
      "\ttrees: 61, Out-of-bag evaluation: accuracy:0.985852 logloss:0.113905\n",
      "\ttrees: 71, Out-of-bag evaluation: accuracy:0.985852 logloss:0.108759\n",
      "\ttrees: 81, Out-of-bag evaluation: accuracy:0.986002 logloss:0.108366\n",
      "\ttrees: 91, Out-of-bag evaluation: accuracy:0.9854 logloss:0.0940841\n",
      "\ttrees: 101, Out-of-bag evaluation: accuracy:0.985852 logloss:0.0942314\n",
      "\ttrees: 111, Out-of-bag evaluation: accuracy:0.985701 logloss:0.0940508\n",
      "\ttrees: 121, Out-of-bag evaluation: accuracy:0.986153 logloss:0.0941943\n",
      "\ttrees: 131, Out-of-bag evaluation: accuracy:0.986153 logloss:0.0894311\n",
      "\ttrees: 141, Out-of-bag evaluation: accuracy:0.986153 logloss:0.0895602\n",
      "\ttrees: 151, Out-of-bag evaluation: accuracy:0.986303 logloss:0.0848735\n",
      "\ttrees: 161, Out-of-bag evaluation: accuracy:0.986153 logloss:0.0848965\n",
      "\ttrees: 171, Out-of-bag evaluation: accuracy:0.986153 logloss:0.0850062\n",
      "\ttrees: 181, Out-of-bag evaluation: accuracy:0.985852 logloss:0.0849303\n",
      "\ttrees: 191, Out-of-bag evaluation: accuracy:0.986002 logloss:0.0850222\n",
      "\ttrees: 201, Out-of-bag evaluation: accuracy:0.986002 logloss:0.0852604\n",
      "\ttrees: 211, Out-of-bag evaluation: accuracy:0.986153 logloss:0.0852424\n",
      "\ttrees: 221, Out-of-bag evaluation: accuracy:0.986153 logloss:0.0802942\n",
      "\ttrees: 231, Out-of-bag evaluation: accuracy:0.986153 logloss:0.0757201\n",
      "\ttrees: 241, Out-of-bag evaluation: accuracy:0.986153 logloss:0.0758852\n",
      "\ttrees: 253, Out-of-bag evaluation: accuracy:0.986002 logloss:0.0759939\n",
      "\ttrees: 263, Out-of-bag evaluation: accuracy:0.985852 logloss:0.0760145\n",
      "\ttrees: 273, Out-of-bag evaluation: accuracy:0.985701 logloss:0.0760542\n",
      "\ttrees: 283, Out-of-bag evaluation: accuracy:0.985551 logloss:0.0758325\n",
      "\ttrees: 293, Out-of-bag evaluation: accuracy:0.985701 logloss:0.0757668\n",
      "\ttrees: 300, Out-of-bag evaluation: accuracy:0.985701 logloss:0.075813\n",
      "\n"
     ]
    }
   ],
   "source": [
    "# Summary of the model structure.\n",
    "model.summary()"
   ]
  },
  {
   "cell_type": "markdown",
   "metadata": {
    "id": "-xPEByvhcUfa"
   },
   "source": [
    "### Note\n",
    "1. No crossvalidation needed cause the model document states that:\n",
    "\n",
    "\"If true, compute the Out-of-bag evaluation (then available in the summary and model inspector). This evaluation is a cheap alternative to cross-validation evaluation. Default: True.\"\n",
    "\n",
    "2. No data band separation since our data is so small"
   ]
  },
  {
   "cell_type": "code",
   "execution_count": 75,
   "metadata": {
    "colab": {
     "base_uri": "https://localhost:8080/"
    },
    "id": "dMPaLbrEZrTS",
    "outputId": "3f6c75f1-8ba3-4160-91c3-9c360c6e4bda"
   },
   "outputs": [
    {
     "name": "stdout",
     "output_type": "stream",
     "text": [
      "26/26 [==============================] - 1s 9ms/step - loss: 0.0000e+00 - accuracy: 0.9916 - auc: 0.9970 - recall: 0.9899 - precision: 0.9960\n",
      "{'loss': 0.0, 'accuracy': 0.9915764331817627, 'auc': 0.996954083442688, 'recall': 0.9899497628211975, 'precision': 0.9959555268287659}\n"
     ]
    }
   ],
   "source": [
    "# Evaluate the model.\n",
    "model.compile(metrics=['accuracy','AUC','Recall','Precision'])\n",
    "print(model.evaluate(test_ds,return_dict=True))"
   ]
  },
  {
   "cell_type": "code",
   "execution_count": 76,
   "metadata": {
    "colab": {
     "base_uri": "https://localhost:8080/"
    },
    "id": "ajq3tIGod71R",
    "outputId": "7a6d53fe-d152-4b57-81bd-00b624d5737d"
   },
   "outputs": [
    {
     "name": "stdout",
     "output_type": "stream",
     "text": [
      "              precision    recall  f1-score   support\n",
      "\n",
      "       False     0.9940    0.9851    0.9896       673\n",
      "        True     0.9899    0.9960    0.9929       989\n",
      "\n",
      "    accuracy                         0.9916      1662\n",
      "   macro avg     0.9920    0.9905    0.9912      1662\n",
      "weighted avg     0.9916    0.9916    0.9916      1662\n",
      "\n",
      "ROC acc:  0.9905483348031918\n"
     ]
    }
   ],
   "source": [
    "\n",
    "pred = model.predict(test_ds) > 0.5\n",
    "print(classification_report(pred, val['label'], digits=4))\n",
    "print('ROC acc: ',roc_auc_score(pred, val['label']))\n"
   ]
  }
 ],
 "metadata": {
  "accelerator": "GPU",
  "colab": {
   "name": "sb14-set2.ipynb",
   "provenance": []
  },
  "kernelspec": {
   "display_name": "Python 3",
   "language": "python",
   "name": "python3"
  },
  "language_info": {
   "codemirror_mode": {
    "name": "ipython",
    "version": 3
   },
   "file_extension": ".py",
   "mimetype": "text/x-python",
   "name": "python",
   "nbconvert_exporter": "python",
   "pygments_lexer": "ipython3",
   "version": "3.8.8"
  }
 },
 "nbformat": 4,
 "nbformat_minor": 1
}
