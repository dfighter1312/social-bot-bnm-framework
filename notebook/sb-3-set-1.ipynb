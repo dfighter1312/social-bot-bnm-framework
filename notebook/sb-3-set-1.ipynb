{
 "cells": [
  {
   "cell_type": "code",
   "execution_count": 1,
   "id": "f82d17c5",
   "metadata": {},
   "outputs": [],
   "source": [
    "import pandas as pd\n",
    "import numpy as np\n",
    "import math\n",
    "import time\n",
    "\n",
    "from imblearn.over_sampling import SMOTE\n",
    "from imblearn.under_sampling import EditedNearestNeighbours\n",
    "\n",
    "from sklearn.ensemble import AdaBoostClassifier\n",
    "from sklearn.metrics import classification_report, roc_auc_score\n",
    "from sklearn.model_selection import train_test_split\n",
    "from sklearn.svm import SVC"
   ]
  },
  {
   "cell_type": "code",
   "execution_count": 2,
   "id": "950c47e7",
   "metadata": {},
   "outputs": [],
   "source": [
    "df_bot = bot_accounts = pd.concat(\n",
    "    [\n",
    "        pd.read_csv('../data/set-1/social_spambots_1.csv'),\n",
    "        pd.read_csv('../data/set-1/social_spambots_2.csv'),\n",
    "        pd.read_csv('../data/set-1/social_spambots_3.csv')\n",
    "    ]\n",
    ").reset_index(drop=True)\n",
    "\n",
    "df_naive = pd.read_csv('../data/set-1/geniune_accounts.csv')"
   ]
  },
  {
   "cell_type": "code",
   "execution_count": 3,
   "id": "2f6c5df7",
   "metadata": {},
   "outputs": [],
   "source": [
    "def feature_engineering(df):\n",
    "    used_columns = [\n",
    "        'statuses_count',\n",
    "        'followers_count',\n",
    "        'friends_count',\n",
    "        'favourites_count',\n",
    "        'listed_count',\n",
    "        'geo_enabled',\n",
    "        'profile_use_background_image',\n",
    "        'default_profile',\n",
    "        'default_profile_image',\n",
    "        'profile_banner_url',\n",
    "        'profile_text_color',\n",
    "        'profile_sidebar_border_color',\n",
    "        'profile_background_tile',\n",
    "        'profile_sidebar_fill_color',\n",
    "        'profile_background_color',\n",
    "        'profile_link_color'\n",
    "    ]\n",
    "    df_return = df[used_columns]\n",
    "    \n",
    "    df_int = df_return.select_dtypes('int64')\n",
    "    df_float = df_return.select_dtypes('float64')\n",
    "    df_other = df_return.select_dtypes('object')\n",
    "    \n",
    "    df_float = 1 - df_float.isna()\n",
    "    df_profile_banner_url = 1 - df_other['profile_banner_url'].isna()\n",
    "    df_other = df_other.drop('profile_banner_url', axis=1)\n",
    "    for i in df_other.columns:\n",
    "        df_other[i] = df_other[i].apply(lambda x: int(x, 16) if isinstance(x, str) else 0)\n",
    "    return pd.concat([df_int, df_float, df_profile_banner_url, df_other], axis=1)"
   ]
  },
  {
   "cell_type": "code",
   "execution_count": 4,
   "id": "999ac813",
   "metadata": {
    "scrolled": true
   },
   "outputs": [
    {
     "data": {
      "text/html": [
       "<div>\n",
       "<style scoped>\n",
       "    .dataframe tbody tr th:only-of-type {\n",
       "        vertical-align: middle;\n",
       "    }\n",
       "\n",
       "    .dataframe tbody tr th {\n",
       "        vertical-align: top;\n",
       "    }\n",
       "\n",
       "    .dataframe thead th {\n",
       "        text-align: right;\n",
       "    }\n",
       "</style>\n",
       "<table border=\"1\" class=\"dataframe\">\n",
       "  <thead>\n",
       "    <tr style=\"text-align: right;\">\n",
       "      <th></th>\n",
       "      <th>statuses_count</th>\n",
       "      <th>followers_count</th>\n",
       "      <th>friends_count</th>\n",
       "      <th>favourites_count</th>\n",
       "      <th>listed_count</th>\n",
       "      <th>geo_enabled</th>\n",
       "      <th>profile_use_background_image</th>\n",
       "      <th>default_profile</th>\n",
       "      <th>default_profile_image</th>\n",
       "      <th>profile_background_tile</th>\n",
       "      <th>profile_banner_url</th>\n",
       "      <th>profile_text_color</th>\n",
       "      <th>profile_sidebar_border_color</th>\n",
       "      <th>profile_sidebar_fill_color</th>\n",
       "      <th>profile_background_color</th>\n",
       "      <th>profile_link_color</th>\n",
       "    </tr>\n",
       "  </thead>\n",
       "  <tbody>\n",
       "    <tr>\n",
       "      <th>0</th>\n",
       "      <td>1299</td>\n",
       "      <td>22</td>\n",
       "      <td>40</td>\n",
       "      <td>1</td>\n",
       "      <td>0</td>\n",
       "      <td>1</td>\n",
       "      <td>1</td>\n",
       "      <td>1</td>\n",
       "      <td>1</td>\n",
       "      <td>0</td>\n",
       "      <td>0</td>\n",
       "      <td>3355443</td>\n",
       "      <td>12639981</td>\n",
       "      <td>14544630</td>\n",
       "      <td>12639981</td>\n",
       "      <td>33972</td>\n",
       "    </tr>\n",
       "    <tr>\n",
       "      <th>1</th>\n",
       "      <td>18665</td>\n",
       "      <td>12561</td>\n",
       "      <td>3442</td>\n",
       "      <td>16358</td>\n",
       "      <td>110</td>\n",
       "      <td>1</td>\n",
       "      <td>1</td>\n",
       "      <td>0</td>\n",
       "      <td>0</td>\n",
       "      <td>1</td>\n",
       "      <td>1</td>\n",
       "      <td>3355443</td>\n",
       "      <td>16777215</td>\n",
       "      <td>15987699</td>\n",
       "      <td>15461355</td>\n",
       "      <td>10027008</td>\n",
       "    </tr>\n",
       "    <tr>\n",
       "      <th>2</th>\n",
       "      <td>22987</td>\n",
       "      <td>600</td>\n",
       "      <td>755</td>\n",
       "      <td>14</td>\n",
       "      <td>6</td>\n",
       "      <td>0</td>\n",
       "      <td>1</td>\n",
       "      <td>0</td>\n",
       "      <td>0</td>\n",
       "      <td>1</td>\n",
       "      <td>1</td>\n",
       "      <td>3355443</td>\n",
       "      <td>16777215</td>\n",
       "      <td>15724527</td>\n",
       "      <td>1250582</td>\n",
       "      <td>39321</td>\n",
       "    </tr>\n",
       "    <tr>\n",
       "      <th>3</th>\n",
       "      <td>7975</td>\n",
       "      <td>398</td>\n",
       "      <td>350</td>\n",
       "      <td>11</td>\n",
       "      <td>2</td>\n",
       "      <td>0</td>\n",
       "      <td>1</td>\n",
       "      <td>0</td>\n",
       "      <td>0</td>\n",
       "      <td>1</td>\n",
       "      <td>1</td>\n",
       "      <td>4080661</td>\n",
       "      <td>8559966</td>\n",
       "      <td>9160466</td>\n",
       "      <td>15074692</td>\n",
       "      <td>4966668</td>\n",
       "    </tr>\n",
       "    <tr>\n",
       "      <th>4</th>\n",
       "      <td>20218</td>\n",
       "      <td>413</td>\n",
       "      <td>405</td>\n",
       "      <td>162</td>\n",
       "      <td>8</td>\n",
       "      <td>1</td>\n",
       "      <td>1</td>\n",
       "      <td>0</td>\n",
       "      <td>0</td>\n",
       "      <td>0</td>\n",
       "      <td>1</td>\n",
       "      <td>14054213</td>\n",
       "      <td>1459997</td>\n",
       "      <td>14676207</td>\n",
       "      <td>15461355</td>\n",
       "      <td>0</td>\n",
       "    </tr>\n",
       "  </tbody>\n",
       "</table>\n",
       "</div>"
      ],
      "text/plain": [
       "   statuses_count  followers_count  friends_count  favourites_count  \\\n",
       "0            1299               22             40                 1   \n",
       "1           18665            12561           3442             16358   \n",
       "2           22987              600            755                14   \n",
       "3            7975              398            350                11   \n",
       "4           20218              413            405               162   \n",
       "\n",
       "   listed_count  geo_enabled  profile_use_background_image  default_profile  \\\n",
       "0             0            1                             1                1   \n",
       "1           110            1                             1                0   \n",
       "2             6            0                             1                0   \n",
       "3             2            0                             1                0   \n",
       "4             8            1                             1                0   \n",
       "\n",
       "   default_profile_image  profile_background_tile  profile_banner_url  \\\n",
       "0                      1                        0                   0   \n",
       "1                      0                        1                   1   \n",
       "2                      0                        1                   1   \n",
       "3                      0                        1                   1   \n",
       "4                      0                        0                   1   \n",
       "\n",
       "   profile_text_color  profile_sidebar_border_color  \\\n",
       "0             3355443                      12639981   \n",
       "1             3355443                      16777215   \n",
       "2             3355443                      16777215   \n",
       "3             4080661                       8559966   \n",
       "4            14054213                       1459997   \n",
       "\n",
       "   profile_sidebar_fill_color  profile_background_color  profile_link_color  \n",
       "0                    14544630                  12639981               33972  \n",
       "1                    15987699                  15461355            10027008  \n",
       "2                    15724527                   1250582               39321  \n",
       "3                     9160466                  15074692             4966668  \n",
       "4                    14676207                  15461355                   0  "
      ]
     },
     "execution_count": 4,
     "metadata": {},
     "output_type": "execute_result"
    }
   ],
   "source": [
    "df_new = feature_engineering(\n",
    "    pd.concat([df_bot, df_naive])\n",
    ")\n",
    "df_new.head()"
   ]
  },
  {
   "cell_type": "code",
   "execution_count": 5,
   "id": "db727ce6",
   "metadata": {},
   "outputs": [
    {
     "name": "stdout",
     "output_type": "stream",
     "text": [
      "<class 'pandas.core.frame.DataFrame'>\n",
      "Int64Index: 8386 entries, 0 to 3473\n",
      "Data columns (total 16 columns):\n",
      " #   Column                        Non-Null Count  Dtype\n",
      "---  ------                        --------------  -----\n",
      " 0   statuses_count                8386 non-null   int64\n",
      " 1   followers_count               8386 non-null   int64\n",
      " 2   friends_count                 8386 non-null   int64\n",
      " 3   favourites_count              8386 non-null   int64\n",
      " 4   listed_count                  8386 non-null   int64\n",
      " 5   geo_enabled                   8386 non-null   int32\n",
      " 6   profile_use_background_image  8386 non-null   int32\n",
      " 7   default_profile               8386 non-null   int32\n",
      " 8   default_profile_image         8386 non-null   int32\n",
      " 9   profile_background_tile       8386 non-null   int32\n",
      " 10  profile_banner_url            8386 non-null   int32\n",
      " 11  profile_text_color            8386 non-null   int64\n",
      " 12  profile_sidebar_border_color  8386 non-null   int64\n",
      " 13  profile_sidebar_fill_color    8386 non-null   int64\n",
      " 14  profile_background_color      8386 non-null   int64\n",
      " 15  profile_link_color            8386 non-null   int64\n",
      "dtypes: int32(6), int64(10)\n",
      "memory usage: 917.2 KB\n"
     ]
    }
   ],
   "source": [
    "df_new.info()"
   ]
  },
  {
   "cell_type": "code",
   "execution_count": 6,
   "id": "47b81549",
   "metadata": {},
   "outputs": [],
   "source": [
    "# Select 2 feature sets as in Figure 2 of the paper\n",
    "set_1 = [0, 6, 10, 11, 13, 14]\n",
    "set_2 = [1, 3, 9, 13, 14, 15]\n",
    "set_3 = [2, 4, 10, 13, 14, 15]\n",
    "#00101000001000111\n",
    "df_set_1 = df_new.iloc[:, set_1]\n",
    "df_set_2 = df_new.iloc[:, set_2]\n",
    "df_set_3 = df_new.iloc[:, set_3]"
   ]
  },
  {
   "cell_type": "code",
   "execution_count": 7,
   "id": "a2cd186d",
   "metadata": {},
   "outputs": [],
   "source": [
    "X = df_set_2.values\n",
    "y = y = np.concatenate(\n",
    "    [\n",
    "        np.zeros((df_bot.shape[0],)),\n",
    "        np.ones((df_naive.shape[0],))\n",
    "    ]\n",
    ")"
   ]
  },
  {
   "cell_type": "code",
   "execution_count": 8,
   "id": "71d174c1",
   "metadata": {},
   "outputs": [],
   "source": [
    "def svm_nn_algorithm(X_train, X_test, y_train, y_test):\n",
    "    # SVM-NN implementation for only 1 subset feature\n",
    "    svm = SVC()\n",
    "\n",
    "    # Use SVM classification algorithm to Train the model using the training set,\n",
    "    # and the identifying labels rLable\n",
    "    svm.fit(X_train, y_train)\n",
    "    \n",
    "    # Predict the output using the SVM trained model,\n",
    "    # and set the output decision-values to decisionV\n",
    "    decisionV = svm.predict_proba(X_train)\n",
    "    \n",
    "# Currently pending"
   ]
  },
  {
   "cell_type": "code",
   "execution_count": 9,
   "id": "cf5ff8d9",
   "metadata": {},
   "outputs": [
    {
     "data": {
      "text/plain": [
       "SVC()"
      ]
     },
     "execution_count": 9,
     "metadata": {},
     "output_type": "execute_result"
    }
   ],
   "source": [
    "svm = SVC()\n",
    "svm.fit(X, y)"
   ]
  },
  {
   "cell_type": "code",
   "execution_count": 10,
   "id": "82c4546f",
   "metadata": {},
   "outputs": [],
   "source": [
    "decision_values = svm.decision_function(X)"
   ]
  },
  {
   "cell_type": "code",
   "execution_count": 11,
   "id": "89254132",
   "metadata": {},
   "outputs": [
    {
     "data": {
      "text/plain": [
       "array([ 1.00030271,  0.92518797, -1.00002731, ...,  1.00030284,\n",
       "        1.29440755,  1.02525795])"
      ]
     },
     "execution_count": 11,
     "metadata": {},
     "output_type": "execute_result"
    }
   ],
   "source": [
    "decision_values"
   ]
  },
  {
   "cell_type": "code",
   "execution_count": 12,
   "id": "d0896985",
   "metadata": {},
   "outputs": [],
   "source": [
    "import tensorflow as tf"
   ]
  },
  {
   "cell_type": "code",
   "execution_count": 13,
   "id": "316598a4",
   "metadata": {},
   "outputs": [],
   "source": [
    "model = tf.keras.Sequential([\n",
    "    tf.keras.layers.Dense(7, activation='relu', input_shape=(1,)),\n",
    "    tf.keras.layers.Dense(1, activation='sigmoid')\n",
    "])"
   ]
  },
  {
   "cell_type": "code",
   "execution_count": 14,
   "id": "bb91fef5",
   "metadata": {},
   "outputs": [],
   "source": [
    "model.compile(\n",
    "    loss='binary_crossentropy',\n",
    "    optimizer=tf.keras.optimizers.Adam(learning_rate=0.003),\n",
    "    metrics=['accuracy'],\n",
    ")"
   ]
  },
  {
   "cell_type": "code",
   "execution_count": 15,
   "id": "05998a67",
   "metadata": {},
   "outputs": [
    {
     "name": "stdout",
     "output_type": "stream",
     "text": [
      "Epoch 1/50\n",
      "263/263 [==============================] - 0s 945us/step - loss: 0.4133 - accuracy: 0.8350\n",
      "Epoch 2/50\n",
      "263/263 [==============================] - 0s 935us/step - loss: 0.3982 - accuracy: 0.8353\n",
      "Epoch 3/50\n",
      "263/263 [==============================] - 0s 952us/step - loss: 0.3962 - accuracy: 0.8357\n",
      "Epoch 4/50\n",
      "263/263 [==============================] - 0s 896us/step - loss: 0.3943 - accuracy: 0.8362\n",
      "Epoch 5/50\n",
      "263/263 [==============================] - 0s 928us/step - loss: 0.3927 - accuracy: 0.8366\n",
      "Epoch 6/50\n",
      "263/263 [==============================] - 0s 951us/step - loss: 0.3911 - accuracy: 0.8371\n",
      "Epoch 7/50\n",
      "263/263 [==============================] - 0s 888us/step - loss: 0.3897 - accuracy: 0.8373\n",
      "Epoch 8/50\n",
      "263/263 [==============================] - 0s 1ms/step - loss: 0.3882 - accuracy: 0.8379\n",
      "Epoch 9/50\n",
      "263/263 [==============================] - 0s 986us/step - loss: 0.3873 - accuracy: 0.8383\n",
      "Epoch 10/50\n",
      "263/263 [==============================] - 0s 1ms/step - loss: 0.3862 - accuracy: 0.8384\n",
      "Epoch 11/50\n",
      "263/263 [==============================] - 0s 1ms/step - loss: 0.3851 - accuracy: 0.8389\n",
      "Epoch 12/50\n",
      "263/263 [==============================] - 0s 2ms/step - loss: 0.3841 - accuracy: 0.8403\n",
      "Epoch 13/50\n",
      "263/263 [==============================] - 0s 1ms/step - loss: 0.3832 - accuracy: 0.8409\n",
      "Epoch 14/50\n",
      "263/263 [==============================] - 0s 1ms/step - loss: 0.3828 - accuracy: 0.8420\n",
      "Epoch 15/50\n",
      "263/263 [==============================] - 0s 908us/step - loss: 0.3827 - accuracy: 0.8421\n",
      "Epoch 16/50\n",
      "263/263 [==============================] - 0s 871us/step - loss: 0.3816 - accuracy: 0.8421\n",
      "Epoch 17/50\n",
      "263/263 [==============================] - 0s 917us/step - loss: 0.3815 - accuracy: 0.8426\n",
      "Epoch 18/50\n",
      "263/263 [==============================] - 0s 1ms/step - loss: 0.3813 - accuracy: 0.8422\n",
      "Epoch 19/50\n",
      "263/263 [==============================] - 0s 1ms/step - loss: 0.3808 - accuracy: 0.8420\n",
      "Epoch 20/50\n",
      "263/263 [==============================] - 0s 897us/step - loss: 0.3809 - accuracy: 0.8422\n",
      "Epoch 21/50\n",
      "263/263 [==============================] - 0s 1ms/step - loss: 0.3811 - accuracy: 0.8422\n",
      "Epoch 22/50\n",
      "263/263 [==============================] - 0s 1ms/step - loss: 0.3809 - accuracy: 0.8424\n",
      "Epoch 23/50\n",
      "263/263 [==============================] - 0s 1ms/step - loss: 0.3806 - accuracy: 0.8422\n",
      "Epoch 24/50\n",
      "263/263 [==============================] - 0s 982us/step - loss: 0.3807 - accuracy: 0.8426\n",
      "Epoch 25/50\n",
      "263/263 [==============================] - 0s 703us/step - loss: 0.3804 - accuracy: 0.8425\n",
      "Epoch 26/50\n",
      "263/263 [==============================] - 0s 681us/step - loss: 0.3801 - accuracy: 0.8426\n",
      "Epoch 27/50\n",
      "263/263 [==============================] - 0s 1ms/step - loss: 0.3805 - accuracy: 0.8432\n",
      "Epoch 28/50\n",
      "263/263 [==============================] - 0s 1ms/step - loss: 0.3800 - accuracy: 0.8430\n",
      "Epoch 29/50\n",
      "263/263 [==============================] - 0s 1ms/step - loss: 0.3803 - accuracy: 0.8421\n",
      "Epoch 30/50\n",
      "263/263 [==============================] - 0s 1ms/step - loss: 0.3799 - accuracy: 0.8431\n",
      "Epoch 31/50\n",
      "263/263 [==============================] - 0s 2ms/step - loss: 0.3805 - accuracy: 0.8431\n",
      "Epoch 32/50\n",
      "263/263 [==============================] - 0s 1ms/step - loss: 0.3801 - accuracy: 0.8431\n",
      "Epoch 33/50\n",
      "263/263 [==============================] - 0s 840us/step - loss: 0.3801 - accuracy: 0.8432\n",
      "Epoch 34/50\n",
      "263/263 [==============================] - 0s 875us/step - loss: 0.3798 - accuracy: 0.8432\n",
      "Epoch 35/50\n",
      "263/263 [==============================] - 0s 968us/step - loss: 0.3801 - accuracy: 0.8432\n",
      "Epoch 36/50\n",
      "263/263 [==============================] - 0s 829us/step - loss: 0.3799 - accuracy: 0.8431\n",
      "Epoch 37/50\n",
      "263/263 [==============================] - 0s 2ms/step - loss: 0.3800 - accuracy: 0.8434\n",
      "Epoch 38/50\n",
      "263/263 [==============================] - 0s 817us/step - loss: 0.3800 - accuracy: 0.8434\n",
      "Epoch 39/50\n",
      "263/263 [==============================] - 0s 1ms/step - loss: 0.3800 - accuracy: 0.8432\n",
      "Epoch 40/50\n",
      "263/263 [==============================] - ETA: 0s - loss: 0.3808 - accuracy: 0.84 - 0s 1ms/step - loss: 0.3807 - accuracy: 0.8433\n",
      "Epoch 41/50\n",
      "263/263 [==============================] - 0s 1ms/step - loss: 0.3800 - accuracy: 0.8434\n",
      "Epoch 42/50\n",
      "263/263 [==============================] - 0s 934us/step - loss: 0.3800 - accuracy: 0.8435\n",
      "Epoch 43/50\n",
      "263/263 [==============================] - 0s 1ms/step - loss: 0.3804 - accuracy: 0.8434\n",
      "Epoch 44/50\n",
      "263/263 [==============================] - 0s 916us/step - loss: 0.3805 - accuracy: 0.8434\n"
     ]
    },
    {
     "data": {
      "text/plain": [
       "<tensorflow.python.keras.callbacks.History at 0x2211aedaa90>"
      ]
     },
     "execution_count": 15,
     "metadata": {},
     "output_type": "execute_result"
    }
   ],
   "source": [
    "model.fit(\n",
    "    decision_values,\n",
    "    y,\n",
    "    epochs=50,\n",
    "    callbacks=[\n",
    "        tf.keras.callbacks.EarlyStopping(\n",
    "            monitor=\"loss\",\n",
    "            patience=10,\n",
    "        )\n",
    "    ]\n",
    ")"
   ]
  },
  {
   "cell_type": "code",
   "execution_count": 16,
   "id": "78d6eef7",
   "metadata": {},
   "outputs": [
    {
     "ename": "NameError",
     "evalue": "name 'X_train' is not defined",
     "output_type": "error",
     "traceback": [
      "\u001b[1;31m---------------------------------------------------------------------------\u001b[0m",
      "\u001b[1;31mNameError\u001b[0m                                 Traceback (most recent call last)",
      "\u001b[1;32m<ipython-input-16-e889d48013bd>\u001b[0m in \u001b[0;36m<module>\u001b[1;34m\u001b[0m\n\u001b[1;32m----> 1\u001b[1;33m \u001b[0mmodel\u001b[0m\u001b[1;33m.\u001b[0m\u001b[0mpredict\u001b[0m\u001b[1;33m(\u001b[0m\u001b[0mX_train\u001b[0m\u001b[1;33m)\u001b[0m\u001b[1;33m\u001b[0m\u001b[1;33m\u001b[0m\u001b[0m\n\u001b[0m",
      "\u001b[1;31mNameError\u001b[0m: name 'X_train' is not defined"
     ]
    }
   ],
   "source": [
    "model.predict(X_train)"
   ]
  }
 ],
 "metadata": {
  "kernelspec": {
   "display_name": "Python 3",
   "language": "python",
   "name": "python3"
  },
  "language_info": {
   "codemirror_mode": {
    "name": "ipython",
    "version": 3
   },
   "file_extension": ".py",
   "mimetype": "text/x-python",
   "name": "python",
   "nbconvert_exporter": "python",
   "pygments_lexer": "ipython3",
   "version": "3.8.8"
  }
 },
 "nbformat": 4,
 "nbformat_minor": 5
}
