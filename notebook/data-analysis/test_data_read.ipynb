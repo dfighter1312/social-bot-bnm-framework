{
 "cells": [
  {
   "cell_type": "code",
   "execution_count": 2,
   "metadata": {},
   "outputs": [
    {
     "name": "stdout",
     "output_type": "stream",
     "text": [
      "f:\\Projects\\fake-profile-detection\n"
     ]
    }
   ],
   "source": [
    "%cd ../../../fake-profile-detection"
   ]
  },
  {
   "cell_type": "markdown",
   "metadata": {},
   "source": [
    "# Setup"
   ]
  },
  {
   "cell_type": "code",
   "execution_count": 4,
   "metadata": {},
   "outputs": [],
   "source": [
    "from IPython.core.interactiveshell import InteractiveShell\n",
    "InteractiveShell.ast_node_interactivity = 'all'"
   ]
  },
  {
   "cell_type": "code",
   "execution_count": 7,
   "metadata": {},
   "outputs": [],
   "source": [
    "def reconfig_feature_list(feature_list, id_col):\n",
    "    if feature_list == 'all':\n",
    "        return feature_list\n",
    "    elif feature_list is None:\n",
    "        return [id_col]\n",
    "    elif isinstance(feature_list, list):\n",
    "        return feature_list + [id_col]\n",
    "    else:\n",
    "        raise TypeError('user_features or tweet_metadata_features is not valid')\n"
   ]
  },
  {
   "cell_type": "code",
   "execution_count": 8,
   "metadata": {},
   "outputs": [],
   "source": [
    "from src.data_read import LocalFileReader\n",
    "\n",
    "file_reader = LocalFileReader()\n",
    "config = file_reader.get_mib_config()\n",
    "id_col = 'id'\n",
    "user_id_col = 'user_id'\n",
    "label_col = 'label'\n",
    "user_features = 'all'\n",
    "user_features = reconfig_feature_list(None, id_col)\n",
    "tweet_features = reconfig_feature_list(None, user_id_col)\n",
    "\n",
    "use_user = (len(user_features) != 1)\n",
    "use_tweet_metadata = (len(tweet_features) != 1)\n",
    "use_tweet = False\n"
   ]
  },
  {
   "cell_type": "markdown",
   "metadata": {},
   "source": [
    "## Run with old method"
   ]
  },
  {
   "cell_type": "code",
   "execution_count": 9,
   "metadata": {},
   "outputs": [
    {
     "data": {
      "text/plain": [
       "dict_keys(['train', 'dev', 'test'])"
      ]
     },
     "execution_count": 9,
     "metadata": {},
     "output_type": "execute_result"
    },
    {
     "name": "stdout",
     "output_type": "stream",
     "text": [
      "train\n",
      "user_df (5631, 43)\n"
     ]
    },
    {
     "data": {
      "text/html": [
       "<div>\n",
       "<style scoped>\n",
       "    .dataframe tbody tr th:only-of-type {\n",
       "        vertical-align: middle;\n",
       "    }\n",
       "\n",
       "    .dataframe tbody tr th {\n",
       "        vertical-align: top;\n",
       "    }\n",
       "\n",
       "    .dataframe thead th {\n",
       "        text-align: right;\n",
       "    }\n",
       "</style>\n",
       "<table border=\"1\" class=\"dataframe\">\n",
       "  <thead>\n",
       "    <tr style=\"text-align: right;\">\n",
       "      <th></th>\n",
       "      <th>id</th>\n",
       "      <th>name</th>\n",
       "      <th>screen_name</th>\n",
       "      <th>statuses_count</th>\n",
       "      <th>followers_count</th>\n",
       "      <th>friends_count</th>\n",
       "      <th>favourites_count</th>\n",
       "      <th>listed_count</th>\n",
       "      <th>url</th>\n",
       "      <th>lang</th>\n",
       "      <th>...</th>\n",
       "      <th>description</th>\n",
       "      <th>contributors_enabled</th>\n",
       "      <th>following</th>\n",
       "      <th>created_at</th>\n",
       "      <th>timestamp</th>\n",
       "      <th>crawled_at</th>\n",
       "      <th>updated</th>\n",
       "      <th>test_set_1</th>\n",
       "      <th>test_set_2</th>\n",
       "      <th>label</th>\n",
       "    </tr>\n",
       "  </thead>\n",
       "  <tbody>\n",
       "    <tr>\n",
       "      <th>1545</th>\n",
       "      <td>2352917684</td>\n",
       "      <td>Naida Speciale</td>\n",
       "      <td>NaidaSpeciale</td>\n",
       "      <td>76</td>\n",
       "      <td>11</td>\n",
       "      <td>44</td>\n",
       "      <td>0</td>\n",
       "      <td>0</td>\n",
       "      <td>NaN</td>\n",
       "      <td>en</td>\n",
       "      <td>...</td>\n",
       "      <td>NaN</td>\n",
       "      <td>NaN</td>\n",
       "      <td>NaN</td>\n",
       "      <td>2014-02-20 08:15:08</td>\n",
       "      <td>2014-02-20 09:15:08</td>\n",
       "      <td>2014-05-05 00:20:21</td>\n",
       "      <td>2016-03-15 15:05:05</td>\n",
       "      <td>NaN</td>\n",
       "      <td>NaN</td>\n",
       "      <td>1</td>\n",
       "    </tr>\n",
       "  </tbody>\n",
       "</table>\n",
       "<p>1 rows × 43 columns</p>\n",
       "</div>"
      ],
      "text/plain": [
       "              id            name    screen_name  statuses_count  \\\n",
       "1545  2352917684  Naida Speciale  NaidaSpeciale              76   \n",
       "\n",
       "      followers_count  friends_count  favourites_count  listed_count  url  \\\n",
       "1545               11             44                 0             0  NaN   \n",
       "\n",
       "     lang  ... description contributors_enabled  following  \\\n",
       "1545   en  ...         NaN                  NaN        NaN   \n",
       "\n",
       "               created_at            timestamp           crawled_at  \\\n",
       "1545  2014-02-20 08:15:08  2014-02-20 09:15:08  2014-05-05 00:20:21   \n",
       "\n",
       "                  updated  test_set_1 test_set_2 label  \n",
       "1545  2016-03-15 15:05:05         NaN        NaN     1  \n",
       "\n",
       "[1 rows x 43 columns]"
      ]
     },
     "execution_count": 9,
     "metadata": {},
     "output_type": "execute_result"
    },
    {
     "name": "stdout",
     "output_type": "stream",
     "text": [
      "tweet_df None\n",
      "tweet_metadata_df None\n",
      "dev\n",
      "user_df (938, 43)\n"
     ]
    },
    {
     "data": {
      "text/html": [
       "<div>\n",
       "<style scoped>\n",
       "    .dataframe tbody tr th:only-of-type {\n",
       "        vertical-align: middle;\n",
       "    }\n",
       "\n",
       "    .dataframe tbody tr th {\n",
       "        vertical-align: top;\n",
       "    }\n",
       "\n",
       "    .dataframe thead th {\n",
       "        text-align: right;\n",
       "    }\n",
       "</style>\n",
       "<table border=\"1\" class=\"dataframe\">\n",
       "  <thead>\n",
       "    <tr style=\"text-align: right;\">\n",
       "      <th></th>\n",
       "      <th>id</th>\n",
       "      <th>name</th>\n",
       "      <th>screen_name</th>\n",
       "      <th>statuses_count</th>\n",
       "      <th>followers_count</th>\n",
       "      <th>friends_count</th>\n",
       "      <th>favourites_count</th>\n",
       "      <th>listed_count</th>\n",
       "      <th>url</th>\n",
       "      <th>lang</th>\n",
       "      <th>...</th>\n",
       "      <th>description</th>\n",
       "      <th>contributors_enabled</th>\n",
       "      <th>following</th>\n",
       "      <th>created_at</th>\n",
       "      <th>timestamp</th>\n",
       "      <th>crawled_at</th>\n",
       "      <th>updated</th>\n",
       "      <th>test_set_1</th>\n",
       "      <th>test_set_2</th>\n",
       "      <th>label</th>\n",
       "    </tr>\n",
       "  </thead>\n",
       "  <tbody>\n",
       "    <tr>\n",
       "      <th>3369</th>\n",
       "      <td>2354094438</td>\n",
       "      <td>Cecelia Osawa</td>\n",
       "      <td>CeceliaOsawa</td>\n",
       "      <td>71</td>\n",
       "      <td>4</td>\n",
       "      <td>39</td>\n",
       "      <td>0</td>\n",
       "      <td>0</td>\n",
       "      <td>NaN</td>\n",
       "      <td>en</td>\n",
       "      <td>...</td>\n",
       "      <td>NaN</td>\n",
       "      <td>NaN</td>\n",
       "      <td>NaN</td>\n",
       "      <td>2014-02-21 02:31:25</td>\n",
       "      <td>2014-02-21 03:31:25</td>\n",
       "      <td>2014-05-05 00:21:42</td>\n",
       "      <td>2016-03-15 15:14:53</td>\n",
       "      <td>NaN</td>\n",
       "      <td>NaN</td>\n",
       "      <td>1</td>\n",
       "    </tr>\n",
       "  </tbody>\n",
       "</table>\n",
       "<p>1 rows × 43 columns</p>\n",
       "</div>"
      ],
      "text/plain": [
       "              id           name   screen_name  statuses_count  \\\n",
       "3369  2354094438  Cecelia Osawa  CeceliaOsawa              71   \n",
       "\n",
       "      followers_count  friends_count  favourites_count  listed_count  url  \\\n",
       "3369                4             39                 0             0  NaN   \n",
       "\n",
       "     lang  ... description contributors_enabled  following  \\\n",
       "3369   en  ...         NaN                  NaN        NaN   \n",
       "\n",
       "               created_at            timestamp           crawled_at  \\\n",
       "3369  2014-02-21 02:31:25  2014-02-21 03:31:25  2014-05-05 00:21:42   \n",
       "\n",
       "                  updated  test_set_1 test_set_2 label  \n",
       "3369  2016-03-15 15:14:53         NaN        NaN     1  \n",
       "\n",
       "[1 rows x 43 columns]"
      ]
     },
     "execution_count": 9,
     "metadata": {},
     "output_type": "execute_result"
    },
    {
     "name": "stdout",
     "output_type": "stream",
     "text": [
      "tweet_df None\n",
      "tweet_metadata_df None\n",
      "test\n",
      "user_df (2817, 43)\n"
     ]
    },
    {
     "data": {
      "text/html": [
       "<div>\n",
       "<style scoped>\n",
       "    .dataframe tbody tr th:only-of-type {\n",
       "        vertical-align: middle;\n",
       "    }\n",
       "\n",
       "    .dataframe tbody tr th {\n",
       "        vertical-align: top;\n",
       "    }\n",
       "\n",
       "    .dataframe thead th {\n",
       "        text-align: right;\n",
       "    }\n",
       "</style>\n",
       "<table border=\"1\" class=\"dataframe\">\n",
       "  <thead>\n",
       "    <tr style=\"text-align: right;\">\n",
       "      <th></th>\n",
       "      <th>id</th>\n",
       "      <th>name</th>\n",
       "      <th>screen_name</th>\n",
       "      <th>statuses_count</th>\n",
       "      <th>followers_count</th>\n",
       "      <th>friends_count</th>\n",
       "      <th>favourites_count</th>\n",
       "      <th>listed_count</th>\n",
       "      <th>url</th>\n",
       "      <th>lang</th>\n",
       "      <th>...</th>\n",
       "      <th>description</th>\n",
       "      <th>contributors_enabled</th>\n",
       "      <th>following</th>\n",
       "      <th>created_at</th>\n",
       "      <th>timestamp</th>\n",
       "      <th>crawled_at</th>\n",
       "      <th>updated</th>\n",
       "      <th>test_set_1</th>\n",
       "      <th>test_set_2</th>\n",
       "      <th>label</th>\n",
       "    </tr>\n",
       "  </thead>\n",
       "  <tbody>\n",
       "    <tr>\n",
       "      <th>9103</th>\n",
       "      <td>514061230</td>\n",
       "      <td>Amarendra</td>\n",
       "      <td>sona15148758k</td>\n",
       "      <td>3</td>\n",
       "      <td>1</td>\n",
       "      <td>7</td>\n",
       "      <td>1</td>\n",
       "      <td>0</td>\n",
       "      <td>NaN</td>\n",
       "      <td>en</td>\n",
       "      <td>...</td>\n",
       "      <td>NaN</td>\n",
       "      <td>NaN</td>\n",
       "      <td>NaN</td>\n",
       "      <td>Sun Mar 04 07:26:06 +0000 2012</td>\n",
       "      <td>2012-03-04 08:26:06</td>\n",
       "      <td>2015-05-01 13:24:57</td>\n",
       "      <td>2016-03-15 16:09:57</td>\n",
       "      <td>0.0</td>\n",
       "      <td>0.0</td>\n",
       "      <td>0</td>\n",
       "    </tr>\n",
       "  </tbody>\n",
       "</table>\n",
       "<p>1 rows × 43 columns</p>\n",
       "</div>"
      ],
      "text/plain": [
       "             id       name    screen_name  statuses_count  followers_count  \\\n",
       "9103  514061230  Amarendra  sona15148758k               3                1   \n",
       "\n",
       "      friends_count  favourites_count  listed_count  url lang  ...  \\\n",
       "9103              7                 1             0  NaN   en  ...   \n",
       "\n",
       "     description contributors_enabled  following  \\\n",
       "9103         NaN                  NaN        NaN   \n",
       "\n",
       "                          created_at            timestamp  \\\n",
       "9103  Sun Mar 04 07:26:06 +0000 2012  2012-03-04 08:26:06   \n",
       "\n",
       "               crawled_at              updated  test_set_1 test_set_2 label  \n",
       "9103  2015-05-01 13:24:57  2016-03-15 16:09:57         0.0        0.0     0  \n",
       "\n",
       "[1 rows x 43 columns]"
      ]
     },
     "execution_count": 9,
     "metadata": {},
     "output_type": "execute_result"
    },
    {
     "name": "stdout",
     "output_type": "stream",
     "text": [
      "tweet_df None\n",
      "tweet_metadata_df None\n"
     ]
    }
   ],
   "source": [
    "dict_read_mib = file_reader.read_mib(\n",
    "    config,\n",
    "    'label',\n",
    "    use_user,\n",
    "    use_tweet,\n",
    "    use_tweet_metadata\n",
    ")\n",
    "dict_read_mib.keys()\n",
    "for key, dfs in dict_read_mib.items():\n",
    "    print(key)\n",
    "    for k, v in dfs.items():\n",
    "        print(k, v.shape if v is not None else 'None')\n",
    "        v.head(1) if v is not None else None"
   ]
  },
  {
   "cell_type": "markdown",
   "metadata": {},
   "source": [
    "## New method\n",
    "Read first, split later"
   ]
  },
  {
   "cell_type": "code",
   "execution_count": 10,
   "metadata": {},
   "outputs": [
    {
     "data": {
      "text/plain": [
       "dict_keys(['user_df', 'tweet_df', 'tweet_metadata_df'])"
      ]
     },
     "execution_count": 10,
     "metadata": {},
     "output_type": "execute_result"
    },
    {
     "name": "stdout",
     "output_type": "stream",
     "text": [
      "user_df (9386, 43)\n"
     ]
    },
    {
     "data": {
      "text/html": [
       "<div>\n",
       "<style scoped>\n",
       "    .dataframe tbody tr th:only-of-type {\n",
       "        vertical-align: middle;\n",
       "    }\n",
       "\n",
       "    .dataframe tbody tr th {\n",
       "        vertical-align: top;\n",
       "    }\n",
       "\n",
       "    .dataframe thead th {\n",
       "        text-align: right;\n",
       "    }\n",
       "</style>\n",
       "<table border=\"1\" class=\"dataframe\">\n",
       "  <thead>\n",
       "    <tr style=\"text-align: right;\">\n",
       "      <th></th>\n",
       "      <th>id</th>\n",
       "      <th>name</th>\n",
       "      <th>screen_name</th>\n",
       "      <th>statuses_count</th>\n",
       "      <th>followers_count</th>\n",
       "      <th>friends_count</th>\n",
       "      <th>favourites_count</th>\n",
       "      <th>listed_count</th>\n",
       "      <th>url</th>\n",
       "      <th>lang</th>\n",
       "      <th>...</th>\n",
       "      <th>description</th>\n",
       "      <th>contributors_enabled</th>\n",
       "      <th>following</th>\n",
       "      <th>created_at</th>\n",
       "      <th>timestamp</th>\n",
       "      <th>crawled_at</th>\n",
       "      <th>updated</th>\n",
       "      <th>test_set_1</th>\n",
       "      <th>test_set_2</th>\n",
       "      <th>label</th>\n",
       "    </tr>\n",
       "  </thead>\n",
       "  <tbody>\n",
       "    <tr>\n",
       "      <th>0</th>\n",
       "      <td>24858289</td>\n",
       "      <td>Davide Bertoli</td>\n",
       "      <td>davideb66</td>\n",
       "      <td>1299</td>\n",
       "      <td>22</td>\n",
       "      <td>40</td>\n",
       "      <td>1</td>\n",
       "      <td>0</td>\n",
       "      <td>NaN</td>\n",
       "      <td>it</td>\n",
       "      <td>...</td>\n",
       "      <td>NaN</td>\n",
       "      <td>NaN</td>\n",
       "      <td>NaN</td>\n",
       "      <td>2009-03-17 08:51:12</td>\n",
       "      <td>2009-03-17 09:51:12</td>\n",
       "      <td>2014-04-19 14:46:19</td>\n",
       "      <td>2016-03-15 14:12:22</td>\n",
       "      <td>1.0</td>\n",
       "      <td>NaN</td>\n",
       "      <td>1</td>\n",
       "    </tr>\n",
       "  </tbody>\n",
       "</table>\n",
       "<p>1 rows × 43 columns</p>\n",
       "</div>"
      ],
      "text/plain": [
       "         id            name screen_name  statuses_count  followers_count  \\\n",
       "0  24858289  Davide Bertoli   davideb66            1299               22   \n",
       "\n",
       "   friends_count  favourites_count  listed_count  url lang  ... description  \\\n",
       "0             40                 1             0  NaN   it  ...         NaN   \n",
       "\n",
       "  contributors_enabled  following           created_at            timestamp  \\\n",
       "0                  NaN        NaN  2009-03-17 08:51:12  2009-03-17 09:51:12   \n",
       "\n",
       "            crawled_at              updated  test_set_1 test_set_2 label  \n",
       "0  2014-04-19 14:46:19  2016-03-15 14:12:22         1.0        NaN     1  \n",
       "\n",
       "[1 rows x 43 columns]"
      ]
     },
     "execution_count": 10,
     "metadata": {},
     "output_type": "execute_result"
    },
    {
     "name": "stdout",
     "output_type": "stream",
     "text": [
      "tweet_df None\n",
      "tweet_metadata_df None\n"
     ]
    }
   ],
   "source": [
    "dict_no_split = file_reader.read_mib_no_split(\n",
    "    config,\n",
    "    'label',\n",
    "    use_user,\n",
    "    use_tweet,\n",
    "    use_tweet_metadata\n",
    ")\n",
    "dict_no_split.keys()\n",
    "for key, df in dict_no_split.items():\n",
    "    print(key, df.shape if df is not None else 'None')\n",
    "    df.head(1) if df is not None else None"
   ]
  },
  {
   "cell_type": "code",
   "execution_count": 13,
   "metadata": {},
   "outputs": [
    {
     "name": "stdout",
     "output_type": "stream",
     "text": [
      "train\n",
      "user_df (5631, 43)\n"
     ]
    },
    {
     "data": {
      "text/html": [
       "<div>\n",
       "<style scoped>\n",
       "    .dataframe tbody tr th:only-of-type {\n",
       "        vertical-align: middle;\n",
       "    }\n",
       "\n",
       "    .dataframe tbody tr th {\n",
       "        vertical-align: top;\n",
       "    }\n",
       "\n",
       "    .dataframe thead th {\n",
       "        text-align: right;\n",
       "    }\n",
       "</style>\n",
       "<table border=\"1\" class=\"dataframe\">\n",
       "  <thead>\n",
       "    <tr style=\"text-align: right;\">\n",
       "      <th></th>\n",
       "      <th>id</th>\n",
       "      <th>name</th>\n",
       "      <th>screen_name</th>\n",
       "      <th>statuses_count</th>\n",
       "      <th>followers_count</th>\n",
       "      <th>friends_count</th>\n",
       "      <th>favourites_count</th>\n",
       "      <th>listed_count</th>\n",
       "      <th>url</th>\n",
       "      <th>lang</th>\n",
       "      <th>...</th>\n",
       "      <th>description</th>\n",
       "      <th>contributors_enabled</th>\n",
       "      <th>following</th>\n",
       "      <th>created_at</th>\n",
       "      <th>timestamp</th>\n",
       "      <th>crawled_at</th>\n",
       "      <th>updated</th>\n",
       "      <th>test_set_1</th>\n",
       "      <th>test_set_2</th>\n",
       "      <th>label</th>\n",
       "    </tr>\n",
       "  </thead>\n",
       "  <tbody>\n",
       "    <tr>\n",
       "      <th>1545</th>\n",
       "      <td>2352917684</td>\n",
       "      <td>Naida Speciale</td>\n",
       "      <td>NaidaSpeciale</td>\n",
       "      <td>76</td>\n",
       "      <td>11</td>\n",
       "      <td>44</td>\n",
       "      <td>0</td>\n",
       "      <td>0</td>\n",
       "      <td>NaN</td>\n",
       "      <td>en</td>\n",
       "      <td>...</td>\n",
       "      <td>NaN</td>\n",
       "      <td>NaN</td>\n",
       "      <td>NaN</td>\n",
       "      <td>2014-02-20 08:15:08</td>\n",
       "      <td>2014-02-20 09:15:08</td>\n",
       "      <td>2014-05-05 00:20:21</td>\n",
       "      <td>2016-03-15 15:05:05</td>\n",
       "      <td>NaN</td>\n",
       "      <td>NaN</td>\n",
       "      <td>1</td>\n",
       "    </tr>\n",
       "  </tbody>\n",
       "</table>\n",
       "<p>1 rows × 43 columns</p>\n",
       "</div>"
      ],
      "text/plain": [
       "              id            name    screen_name  statuses_count  \\\n",
       "1545  2352917684  Naida Speciale  NaidaSpeciale              76   \n",
       "\n",
       "      followers_count  friends_count  favourites_count  listed_count  url  \\\n",
       "1545               11             44                 0             0  NaN   \n",
       "\n",
       "     lang  ... description contributors_enabled  following  \\\n",
       "1545   en  ...         NaN                  NaN        NaN   \n",
       "\n",
       "               created_at            timestamp           crawled_at  \\\n",
       "1545  2014-02-20 08:15:08  2014-02-20 09:15:08  2014-05-05 00:20:21   \n",
       "\n",
       "                  updated  test_set_1 test_set_2 label  \n",
       "1545  2016-03-15 15:05:05         NaN        NaN     1  \n",
       "\n",
       "[1 rows x 43 columns]"
      ]
     },
     "execution_count": 13,
     "metadata": {},
     "output_type": "execute_result"
    },
    {
     "name": "stdout",
     "output_type": "stream",
     "text": [
      "tweet_df None\n",
      "tweet_metadata_df None\n",
      "dev\n",
      "user_df (938, 43)\n"
     ]
    },
    {
     "data": {
      "text/html": [
       "<div>\n",
       "<style scoped>\n",
       "    .dataframe tbody tr th:only-of-type {\n",
       "        vertical-align: middle;\n",
       "    }\n",
       "\n",
       "    .dataframe tbody tr th {\n",
       "        vertical-align: top;\n",
       "    }\n",
       "\n",
       "    .dataframe thead th {\n",
       "        text-align: right;\n",
       "    }\n",
       "</style>\n",
       "<table border=\"1\" class=\"dataframe\">\n",
       "  <thead>\n",
       "    <tr style=\"text-align: right;\">\n",
       "      <th></th>\n",
       "      <th>id</th>\n",
       "      <th>name</th>\n",
       "      <th>screen_name</th>\n",
       "      <th>statuses_count</th>\n",
       "      <th>followers_count</th>\n",
       "      <th>friends_count</th>\n",
       "      <th>favourites_count</th>\n",
       "      <th>listed_count</th>\n",
       "      <th>url</th>\n",
       "      <th>lang</th>\n",
       "      <th>...</th>\n",
       "      <th>description</th>\n",
       "      <th>contributors_enabled</th>\n",
       "      <th>following</th>\n",
       "      <th>created_at</th>\n",
       "      <th>timestamp</th>\n",
       "      <th>crawled_at</th>\n",
       "      <th>updated</th>\n",
       "      <th>test_set_1</th>\n",
       "      <th>test_set_2</th>\n",
       "      <th>label</th>\n",
       "    </tr>\n",
       "  </thead>\n",
       "  <tbody>\n",
       "    <tr>\n",
       "      <th>3369</th>\n",
       "      <td>2354094438</td>\n",
       "      <td>Cecelia Osawa</td>\n",
       "      <td>CeceliaOsawa</td>\n",
       "      <td>71</td>\n",
       "      <td>4</td>\n",
       "      <td>39</td>\n",
       "      <td>0</td>\n",
       "      <td>0</td>\n",
       "      <td>NaN</td>\n",
       "      <td>en</td>\n",
       "      <td>...</td>\n",
       "      <td>NaN</td>\n",
       "      <td>NaN</td>\n",
       "      <td>NaN</td>\n",
       "      <td>2014-02-21 02:31:25</td>\n",
       "      <td>2014-02-21 03:31:25</td>\n",
       "      <td>2014-05-05 00:21:42</td>\n",
       "      <td>2016-03-15 15:14:53</td>\n",
       "      <td>NaN</td>\n",
       "      <td>NaN</td>\n",
       "      <td>1</td>\n",
       "    </tr>\n",
       "  </tbody>\n",
       "</table>\n",
       "<p>1 rows × 43 columns</p>\n",
       "</div>"
      ],
      "text/plain": [
       "              id           name   screen_name  statuses_count  \\\n",
       "3369  2354094438  Cecelia Osawa  CeceliaOsawa              71   \n",
       "\n",
       "      followers_count  friends_count  favourites_count  listed_count  url  \\\n",
       "3369                4             39                 0             0  NaN   \n",
       "\n",
       "     lang  ... description contributors_enabled  following  \\\n",
       "3369   en  ...         NaN                  NaN        NaN   \n",
       "\n",
       "               created_at            timestamp           crawled_at  \\\n",
       "3369  2014-02-21 02:31:25  2014-02-21 03:31:25  2014-05-05 00:21:42   \n",
       "\n",
       "                  updated  test_set_1 test_set_2 label  \n",
       "3369  2016-03-15 15:14:53         NaN        NaN     1  \n",
       "\n",
       "[1 rows x 43 columns]"
      ]
     },
     "execution_count": 13,
     "metadata": {},
     "output_type": "execute_result"
    },
    {
     "name": "stdout",
     "output_type": "stream",
     "text": [
      "tweet_df None\n",
      "tweet_metadata_df None\n",
      "test\n",
      "user_df (2817, 43)\n"
     ]
    },
    {
     "data": {
      "text/html": [
       "<div>\n",
       "<style scoped>\n",
       "    .dataframe tbody tr th:only-of-type {\n",
       "        vertical-align: middle;\n",
       "    }\n",
       "\n",
       "    .dataframe tbody tr th {\n",
       "        vertical-align: top;\n",
       "    }\n",
       "\n",
       "    .dataframe thead th {\n",
       "        text-align: right;\n",
       "    }\n",
       "</style>\n",
       "<table border=\"1\" class=\"dataframe\">\n",
       "  <thead>\n",
       "    <tr style=\"text-align: right;\">\n",
       "      <th></th>\n",
       "      <th>id</th>\n",
       "      <th>name</th>\n",
       "      <th>screen_name</th>\n",
       "      <th>statuses_count</th>\n",
       "      <th>followers_count</th>\n",
       "      <th>friends_count</th>\n",
       "      <th>favourites_count</th>\n",
       "      <th>listed_count</th>\n",
       "      <th>url</th>\n",
       "      <th>lang</th>\n",
       "      <th>...</th>\n",
       "      <th>description</th>\n",
       "      <th>contributors_enabled</th>\n",
       "      <th>following</th>\n",
       "      <th>created_at</th>\n",
       "      <th>timestamp</th>\n",
       "      <th>crawled_at</th>\n",
       "      <th>updated</th>\n",
       "      <th>test_set_1</th>\n",
       "      <th>test_set_2</th>\n",
       "      <th>label</th>\n",
       "    </tr>\n",
       "  </thead>\n",
       "  <tbody>\n",
       "    <tr>\n",
       "      <th>9103</th>\n",
       "      <td>514061230</td>\n",
       "      <td>Amarendra</td>\n",
       "      <td>sona15148758k</td>\n",
       "      <td>3</td>\n",
       "      <td>1</td>\n",
       "      <td>7</td>\n",
       "      <td>1</td>\n",
       "      <td>0</td>\n",
       "      <td>NaN</td>\n",
       "      <td>en</td>\n",
       "      <td>...</td>\n",
       "      <td>NaN</td>\n",
       "      <td>NaN</td>\n",
       "      <td>NaN</td>\n",
       "      <td>Sun Mar 04 07:26:06 +0000 2012</td>\n",
       "      <td>2012-03-04 08:26:06</td>\n",
       "      <td>2015-05-01 13:24:57</td>\n",
       "      <td>2016-03-15 16:09:57</td>\n",
       "      <td>0.0</td>\n",
       "      <td>0.0</td>\n",
       "      <td>0</td>\n",
       "    </tr>\n",
       "  </tbody>\n",
       "</table>\n",
       "<p>1 rows × 43 columns</p>\n",
       "</div>"
      ],
      "text/plain": [
       "             id       name    screen_name  statuses_count  followers_count  \\\n",
       "9103  514061230  Amarendra  sona15148758k               3                1   \n",
       "\n",
       "      friends_count  favourites_count  listed_count  url lang  ...  \\\n",
       "9103              7                 1             0  NaN   en  ...   \n",
       "\n",
       "     description contributors_enabled  following  \\\n",
       "9103         NaN                  NaN        NaN   \n",
       "\n",
       "                          created_at            timestamp  \\\n",
       "9103  Sun Mar 04 07:26:06 +0000 2012  2012-03-04 08:26:06   \n",
       "\n",
       "               crawled_at              updated  test_set_1 test_set_2 label  \n",
       "9103  2015-05-01 13:24:57  2016-03-15 16:09:57         0.0        0.0     0  \n",
       "\n",
       "[1 rows x 43 columns]"
      ]
     },
     "execution_count": 13,
     "metadata": {},
     "output_type": "execute_result"
    },
    {
     "name": "stdout",
     "output_type": "stream",
     "text": [
      "tweet_df None\n",
      "tweet_metadata_df None\n"
     ]
    }
   ],
   "source": [
    "dict_after_split = file_reader.split_dfs(dict_no_split)\n",
    "for key, dfs in dict_after_split.items():\n",
    "    print(key)\n",
    "    for k, v in dfs.items():\n",
    "        print(k, v.shape if v is not None else 'None')\n",
    "        v.head(1) if v is not None else None"
   ]
  },
  {
   "cell_type": "markdown",
   "metadata": {},
   "source": [
    "# Compare algos\n",
    "Make sure result is same as expected"
   ]
  },
  {
   "cell_type": "code",
   "execution_count": 24,
   "metadata": {},
   "outputs": [],
   "source": [
    "for k_out in ['train', 'dev', 'test']:\n",
    "    for k_in in ['user_df', 'tweet_df', 'tweet_metadata_df']:\n",
    "        algo1_result = dict_read_mib[k_out][k_in]\n",
    "        algo2_result = dict_after_split[k_out][k_in]\n",
    "        if algo1_result is None:\n",
    "            if algo2_result == algo1_result: continue\n",
    "            else: raise Exception(\"in-equal algo\")\n",
    "        if not algo1_result.equals(algo2_result):\n",
    "            raise Exception(\"in-equal algo\")"
   ]
  },
  {
   "cell_type": "markdown",
   "metadata": {},
   "source": [
    "# Compare runtime"
   ]
  },
  {
   "cell_type": "code",
   "execution_count": 36,
   "metadata": {},
   "outputs": [],
   "source": [
    "file_reader = LocalFileReader()"
   ]
  },
  {
   "cell_type": "code",
   "execution_count": 37,
   "metadata": {},
   "outputs": [
    {
     "name": "stdout",
     "output_type": "stream",
     "text": [
      "1.17 s ± 51.5 ms per loop (mean ± std. dev. of 7 runs, 1 loop each)\n"
     ]
    }
   ],
   "source": [
    "%%timeit\n",
    "dict_read_mib = file_reader.read_mib(\n",
    "    config,\n",
    "    'label',\n",
    "    use_user,\n",
    "    use_tweet,\n",
    "    use_tweet_metadata\n",
    ")"
   ]
  },
  {
   "cell_type": "code",
   "execution_count": 38,
   "metadata": {},
   "outputs": [],
   "source": [
    "file_reader = LocalFileReader()"
   ]
  },
  {
   "cell_type": "code",
   "execution_count": 39,
   "metadata": {},
   "outputs": [
    {
     "name": "stdout",
     "output_type": "stream",
     "text": [
      "1.14 s ± 35.8 ms per loop (mean ± std. dev. of 7 runs, 1 loop each)\n"
     ]
    }
   ],
   "source": [
    "%%timeit\n",
    "dict_no_split = file_reader.read_mib_no_split(\n",
    "    config,\n",
    "    'label',\n",
    "    use_user,\n",
    "    use_tweet,\n",
    "    use_tweet_metadata\n",
    ")\n",
    "dict_split = file_reader.split_dfs(dict_no_split)"
   ]
  },
  {
   "cell_type": "markdown",
   "metadata": {},
   "source": [
    "## Result\n",
    "Similar Performance but 2nd approach is modular, better for EDA"
   ]
  }
 ],
 "metadata": {
  "interpreter": {
   "hash": "b356d97e15ae0cad74e5900418c5028c30d11493bc881011292b38a512233234"
  },
  "kernelspec": {
   "display_name": "Python 3.9.12 ('thesis-ml')",
   "language": "python",
   "name": "python3"
  },
  "language_info": {
   "codemirror_mode": {
    "name": "ipython",
    "version": 3
   },
   "file_extension": ".py",
   "mimetype": "text/x-python",
   "name": "python",
   "nbconvert_exporter": "python",
   "pygments_lexer": "ipython3",
   "version": "3.9.12"
  },
  "orig_nbformat": 4
 },
 "nbformat": 4,
 "nbformat_minor": 2
}
