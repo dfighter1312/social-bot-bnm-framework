{
  "nbformat": 4,
  "nbformat_minor": 0,
  "metadata": {
    "colab": {
      "name": "sb15-set3.ipynb",
      "provenance": [],
      "collapsed_sections": []
    },
    "kernelspec": {
      "name": "python3",
      "display_name": "Python 3"
    },
    "language_info": {
      "name": "python"
    }
  },
  "cells": [
    {
      "cell_type": "code",
      "execution_count": 16,
      "metadata": {
        "colab": {
          "base_uri": "https://localhost:8080/"
        },
        "id": "coT1PTpfbhvF",
        "outputId": "783a80df-44b3-451a-8ff8-21e5731f449a"
      },
      "outputs": [
        {
          "output_type": "stream",
          "name": "stdout",
          "text": [
            "Requirement already satisfied: logitboost in /usr/local/lib/python3.7/dist-packages (0.7)\n",
            "Requirement already satisfied: scikit-learn in /usr/local/lib/python3.7/dist-packages (from logitboost) (1.0.1)\n",
            "Requirement already satisfied: scipy in /usr/local/lib/python3.7/dist-packages (from logitboost) (1.4.1)\n",
            "Requirement already satisfied: numpy in /usr/local/lib/python3.7/dist-packages (from logitboost) (1.19.5)\n",
            "Requirement already satisfied: joblib>=0.11 in /usr/local/lib/python3.7/dist-packages (from scikit-learn->logitboost) (1.1.0)\n",
            "Requirement already satisfied: threadpoolctl>=2.0.0 in /usr/local/lib/python3.7/dist-packages (from scikit-learn->logitboost) (3.0.0)\n"
          ]
        }
      ],
      "source": [
        "!pip install logitboost;"
      ]
    },
    {
      "cell_type": "code",
      "source": [
        "# imports\n",
        "import pandas as pd\n",
        "import numpy as np\n",
        "import sklearn as sk\n",
        "import time\n",
        "\n",
        "from sklearn.ensemble import RandomForestClassifier\n",
        "from logitboost import LogitBoost\n",
        "from sklearn.svm import SVC\n",
        "from sklearn.neural_network import MLPClassifier\n",
        "\n",
        "from sklearn.model_selection import train_test_split\n",
        "from sklearn.preprocessing import normalize\n",
        "\n",
        "from sklearn.metrics import classification_report, roc_auc_score\n",
        "# seed\n",
        "np.random.seed(0)"
      ],
      "metadata": {
        "id": "Y-DQqJBvboGa"
      },
      "execution_count": 17,
      "outputs": []
    },
    {
      "cell_type": "code",
      "source": [
        "# where data is located\n",
        "!ls ./drive/MyDrive/Thesis\\ Workspace/Notebooks/data/sb15-set3\n",
        "DATA_PATH = \"./drive/MyDrive/Thesis Workspace/Notebooks/data/sb15-set3/\""
      ],
      "metadata": {
        "colab": {
          "base_uri": "https://localhost:8080/"
        },
        "id": "no1jg4dIbqIg",
        "outputId": "5b5e8aa6-0d73-4dc8-85f0-7d7931c55e7d"
      },
      "execution_count": 18,
      "outputs": [
        {
          "output_type": "stream",
          "name": "stdout",
          "text": [
            "dev.csv  test.csv  train.csv\n"
          ]
        }
      ]
    },
    {
      "cell_type": "code",
      "source": [
        "# load user data\n",
        "df_train = pd.read_csv(DATA_PATH + 'train.csv')\n",
        "df_test = pd.read_csv(DATA_PATH + 'test.csv')\n",
        "print('Shapes', df_train.shape, df_test.shape)"
      ],
      "metadata": {
        "colab": {
          "base_uri": "https://localhost:8080/"
        },
        "id": "mwlEVUrvcE6X",
        "outputId": "92f5d850-caa2-4561-d7ac-fc5688ba4a99"
      },
      "execution_count": 19,
      "outputs": [
        {
          "output_type": "stream",
          "name": "stdout",
          "text": [
            "Shapes (8278, 6) (1183, 6)\n"
          ]
        }
      ]
    },
    {
      "cell_type": "code",
      "source": [
        "X_train = df_train.drop('label', axis=1).values\n",
        "y_train = df_train['label'].values\n",
        "\n",
        "X_test = df_test.drop('label', axis=1).values\n",
        "y_test = df_test['label'].values\n",
        "\n",
        "print([x.shape for x in [X_train, y_train, X_test, y_test]])"
      ],
      "metadata": {
        "colab": {
          "base_uri": "https://localhost:8080/"
        },
        "id": "oNCF1PqncZmG",
        "outputId": "58aa4d5c-7363-4ae5-fa4f-e2b437a6fdce"
      },
      "execution_count": 20,
      "outputs": [
        {
          "output_type": "stream",
          "name": "stdout",
          "text": [
            "[(8278, 5), (8278,), (1183, 5), (1183,)]\n"
          ]
        }
      ]
    },
    {
      "cell_type": "markdown",
      "source": [
        "## Random Forest\n",
        "10 trees with unlimited depth"
      ],
      "metadata": {
        "id": "COWP49jWdGKP"
      }
    },
    {
      "cell_type": "code",
      "source": [
        "random_forest_model = RandomForestClassifier(\n",
        "    n_estimators = 10,\n",
        "    max_depth = None,\n",
        "    criterion = 'gini'\n",
        ")\n",
        "random_forest_model.fit(X_train,y_train)\n",
        "pred = random_forest_model.predict(X_test)\n",
        "print(classification_report(pred, y_test, digits=4))\n",
        "print('ROC acc: ',roc_auc_score(pred, y_test))"
      ],
      "metadata": {
        "colab": {
          "base_uri": "https://localhost:8080/"
        },
        "id": "zN-igsrldAfd",
        "outputId": "14421856-a894-4f30-ab04-b97ed98decd9"
      },
      "execution_count": 21,
      "outputs": [
        {
          "output_type": "stream",
          "name": "stdout",
          "text": [
            "              precision    recall  f1-score   support\n",
            "\n",
            "           0     0.6409    0.5939    0.6165       586\n",
            "           1     0.6281    0.6734    0.6500       597\n",
            "\n",
            "    accuracy                         0.6340      1183\n",
            "   macro avg     0.6345    0.6336    0.6332      1183\n",
            "weighted avg     0.6344    0.6340    0.6334      1183\n",
            "\n",
            "ROC acc:  0.6336117447304783\n"
          ]
        }
      ]
    },
    {
      "cell_type": "markdown",
      "source": [
        "\n",
        "## Logit Boost\n",
        "- Base estimator is decision stump"
      ],
      "metadata": {
        "id": "9cHlXLnWdNZI"
      }
    },
    {
      "cell_type": "code",
      "source": [
        "logit_boost_model = LogitBoost(\n",
        "    base_estimator = None, #default None equals decision stump\n",
        "    n_estimators=30, #just a number i choose\n",
        ")\n",
        "logit_boost_model.fit(X_train,y_train)\n",
        "pred = logit_boost_model.predict(X_test)\n",
        "print(classification_report(pred, y_test, digits=4))\n",
        "print('ROC acc: ',roc_auc_score(pred, y_test))"
      ],
      "metadata": {
        "colab": {
          "base_uri": "https://localhost:8080/"
        },
        "id": "aQTQxrC5dT7N",
        "outputId": "d784c771-11de-40da-a760-08ad1e62feac"
      },
      "execution_count": 22,
      "outputs": [
        {
          "output_type": "stream",
          "name": "stdout",
          "text": [
            "              precision    recall  f1-score   support\n",
            "\n",
            "           0     0.5046    0.6049    0.5502       453\n",
            "           1     0.7203    0.6315    0.6730       730\n",
            "\n",
            "    accuracy                         0.6213      1183\n",
            "   macro avg     0.6125    0.6182    0.6116      1183\n",
            "weighted avg     0.6377    0.6213    0.6260      1183\n",
            "\n",
            "ROC acc:  0.6181816807281744\n"
          ]
        }
      ]
    },
    {
      "cell_type": "markdown",
      "source": [
        "## SVM Poly\n",
        "- Complexity param c = 1\n",
        "- Paper state that data is to be normalized when used with SVM"
      ],
      "metadata": {
        "id": "1cYleHpvdVCO"
      }
    },
    {
      "cell_type": "code",
      "source": [
        "x_train_norm, x_test_norm = [normalize(X, norm='l2') for X in [X_train, X_test]]\n",
        "svm_poly_model = SVC(\n",
        "    C = 1,\n",
        "    kernel = 'poly',\n",
        "    degree = 3\n",
        ")\n",
        "svm_poly_model.fit(x_train_norm,y_train)\n",
        "pred = svm_poly_model.predict(x_test_norm)\n",
        "print(classification_report(pred, y_test, digits=4))\n",
        "print('ROC acc: ',roc_auc_score(pred, y_test))"
      ],
      "metadata": {
        "colab": {
          "base_uri": "https://localhost:8080/"
        },
        "id": "fXNUHOCCdbRe",
        "outputId": "aa29f001-7169-4662-faef-a71a71925776"
      },
      "execution_count": 23,
      "outputs": [
        {
          "output_type": "stream",
          "name": "stdout",
          "text": [
            "              precision    recall  f1-score   support\n",
            "\n",
            "           0     0.0387    0.5385    0.0722        39\n",
            "           1     0.9719    0.5437    0.6973      1144\n",
            "\n",
            "    accuracy                         0.5435      1183\n",
            "   macro avg     0.5053    0.5411    0.3847      1183\n",
            "weighted avg     0.9411    0.5435    0.6767      1183\n",
            "\n",
            "ROC acc:  0.541083916083916\n"
          ]
        }
      ]
    },
    {
      "cell_type": "markdown",
      "source": [
        "## SVM RBF\n",
        "- Similar"
      ],
      "metadata": {
        "id": "O6MBCht9dcGD"
      }
    },
    {
      "cell_type": "code",
      "source": [
        "\n",
        "svm_rbf_model = SVC(\n",
        "    C = 1,\n",
        "    kernel = 'rbf',\n",
        ")\n",
        "svm_rbf_model.fit(x_train_norm,y_train)\n",
        "pred = svm_rbf_model.predict(x_test_norm)\n",
        "print(classification_report(pred, y_test, digits=4))\n",
        "print('ROC acc: ',roc_auc_score(pred, y_test))"
      ],
      "metadata": {
        "colab": {
          "base_uri": "https://localhost:8080/"
        },
        "id": "-FmK-HSVddj3",
        "outputId": "622af8f5-2fd2-42b5-b4ec-398144f7c9f5"
      },
      "execution_count": 24,
      "outputs": [
        {
          "output_type": "stream",
          "name": "stdout",
          "text": [
            "              precision    recall  f1-score   support\n",
            "\n",
            "           0     0.0276    0.5357    0.0525        28\n",
            "           1     0.9797    0.5429    0.6986      1155\n",
            "\n",
            "    accuracy                         0.5427      1183\n",
            "   macro avg     0.5037    0.5393    0.3756      1183\n",
            "weighted avg     0.9572    0.5427    0.6833      1183\n",
            "\n",
            "ROC acc:  0.5392857142857143\n"
          ]
        }
      ]
    },
    {
      "cell_type": "markdown",
      "source": [
        "## Multilayer Perceptron 10\n",
        "- Gradient Decent\n",
        "- Normalization\n",
        "- 500 train epoch\n",
        "- Learn rate 0.3\n",
        "- Momentum 0.2\n",
        "- Hidden layer with 10 nodes\n",
        "- Sigmoid activation\n",
        "- Validation threshold 20"
      ],
      "metadata": {
        "id": "toQD1UQ7ddK0"
      }
    },
    {
      "cell_type": "markdown",
      "source": [
        "### NOTE:\n",
        "validation threshold is the number of traing epochs that we allow the model to not improve, if error does not decrease within this validation threshold epochs, we terminate training. This param in sklearn is `n_iter_no_change`"
      ],
      "metadata": {
        "id": "EmY2Na0zdhir"
      }
    },
    {
      "cell_type": "code",
      "source": [
        "mlp_10_model = MLPClassifier(\n",
        "    hidden_layer_sizes=(10,), #means only one hidden layer with 10 nodes\n",
        "    learning_rate='constant',\n",
        "    learning_rate_init=0.3,\n",
        "    max_iter=500,\n",
        "    solver='sgd',\n",
        "    activation='logistic', #this is sigmoid\n",
        "    momentum=0.2,\n",
        "    early_stopping=True,\n",
        "    validation_fraction=0.1,\n",
        "    n_iter_no_change=20\n",
        ")\n",
        "mlp_10_model.fit(x_train_norm,y_train)\n",
        "pred = mlp_10_model.predict(x_test_norm)\n",
        "print(classification_report(pred, y_test, digits=4))\n",
        "try:\n",
        "  print('ROC acc: ',roc_auc_score(pred, y_test))\n",
        "except:\n",
        "  print('ROC acc:', 'Undefined due to prediction only having one class')"
      ],
      "metadata": {
        "colab": {
          "base_uri": "https://localhost:8080/"
        },
        "id": "eKEsd43fdk0C",
        "outputId": "8a0630f0-45cf-48a5-ce3e-1d809b305ed0"
      },
      "execution_count": 25,
      "outputs": [
        {
          "output_type": "stream",
          "name": "stdout",
          "text": [
            "              precision    recall  f1-score   support\n",
            "\n",
            "           0     0.0000    0.0000    0.0000         0\n",
            "           1     1.0000    0.5410    0.7021      1183\n",
            "\n",
            "    accuracy                         0.5410      1183\n",
            "   macro avg     0.5000    0.2705    0.3511      1183\n",
            "weighted avg     1.0000    0.5410    0.7021      1183\n",
            "\n",
            "ROC acc: Undefined due to prediction only having one class\n"
          ]
        },
        {
          "output_type": "stream",
          "name": "stderr",
          "text": [
            "/usr/local/lib/python3.7/dist-packages/sklearn/metrics/_classification.py:1308: UndefinedMetricWarning: Recall and F-score are ill-defined and being set to 0.0 in labels with no true samples. Use `zero_division` parameter to control this behavior.\n",
            "  _warn_prf(average, modifier, msg_start, len(result))\n",
            "/usr/local/lib/python3.7/dist-packages/sklearn/metrics/_classification.py:1308: UndefinedMetricWarning: Recall and F-score are ill-defined and being set to 0.0 in labels with no true samples. Use `zero_division` parameter to control this behavior.\n",
            "  _warn_prf(average, modifier, msg_start, len(result))\n",
            "/usr/local/lib/python3.7/dist-packages/sklearn/metrics/_classification.py:1308: UndefinedMetricWarning: Recall and F-score are ill-defined and being set to 0.0 in labels with no true samples. Use `zero_division` parameter to control this behavior.\n",
            "  _warn_prf(average, modifier, msg_start, len(result))\n"
          ]
        }
      ]
    },
    {
      "cell_type": "markdown",
      "source": [
        "\n",
        "## Multilayer Perceptron 20\n",
        "Same but hidden layer has 20 nodes"
      ],
      "metadata": {
        "id": "SZMQVp7xdkmK"
      }
    },
    {
      "cell_type": "code",
      "source": [
        "mlp_20_model = MLPClassifier(\n",
        "    hidden_layer_sizes=(20,), #means only one hidden layer with 10 nodes\n",
        "    learning_rate='constant',\n",
        "    learning_rate_init=0.3,\n",
        "    max_iter=500,\n",
        "    solver='sgd',\n",
        "    activation='logistic', #this is sigmoid\n",
        "    momentum=0.2,\n",
        "    early_stopping=True,\n",
        "    validation_fraction=0.1,\n",
        "    n_iter_no_change=20\n",
        ")\n",
        "mlp_20_model.fit(x_train_norm,y_train)\n",
        "pred = mlp_20_model.predict(x_test_norm)\n",
        "print(classification_report(pred, y_test, digits=4))\n",
        "try:\n",
        "  print('ROC acc: ',roc_auc_score(pred, y_test))\n",
        "except:\n",
        "  print('ROC acc:', 'Undefined due to prediction only having one class')"
      ],
      "metadata": {
        "colab": {
          "base_uri": "https://localhost:8080/"
        },
        "id": "VXKcFjRidnUV",
        "outputId": "c65d267b-a16f-42a9-dbc4-70bc7f91c83d"
      },
      "execution_count": 26,
      "outputs": [
        {
          "output_type": "stream",
          "name": "stdout",
          "text": [
            "              precision    recall  f1-score   support\n",
            "\n",
            "           0     0.2615    0.5772    0.3599       246\n",
            "           1     0.8375    0.5720    0.6798       937\n",
            "\n",
            "    accuracy                         0.5731      1183\n",
            "   macro avg     0.5495    0.5746    0.5199      1183\n",
            "weighted avg     0.7177    0.5731    0.6133      1183\n",
            "\n",
            "ROC acc:  0.5746370964243259\n"
          ]
        }
      ]
    },
    {
      "cell_type": "markdown",
      "source": [
        "## Conclude\n",
        "\n",
        "**All things goo downnn hill!!!**\n",
        "\n",
        "Random 4Rest > LogiBoost > MLP20  > SVM-P > SVM-R\n",
        "\n",
        "MLP10 -> ??? worst??"
      ],
      "metadata": {
        "id": "elHpjbLkfK1X"
      }
    }
  ]
}