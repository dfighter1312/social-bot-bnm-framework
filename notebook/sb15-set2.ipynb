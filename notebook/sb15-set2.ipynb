{
  "nbformat": 4,
  "nbformat_minor": 0,
  "metadata": {
    "colab": {
      "name": "sb15-set2.ipynb",
      "provenance": []
    },
    "kernelspec": {
      "name": "python3",
      "display_name": "Python 3"
    },
    "language_info": {
      "name": "python"
    }
  },
  "cells": [
    {
      "cell_type": "code",
      "metadata": {
        "colab": {
          "base_uri": "https://localhost:8080/"
        },
        "id": "0UZdklWRQUQh",
        "outputId": "03a09499-0c97-4b38-bc3f-bc2be0158838"
      },
      "source": [
        "!pip install logitboost;"
      ],
      "execution_count": 18,
      "outputs": [
        {
          "output_type": "stream",
          "name": "stdout",
          "text": [
            "Collecting logitboost\n",
            "  Downloading logitboost-0.7-py3-none-any.whl (9.1 kB)\n",
            "Requirement already satisfied: numpy in /usr/local/lib/python3.7/dist-packages (from logitboost) (1.19.5)\n",
            "Requirement already satisfied: scikit-learn in /usr/local/lib/python3.7/dist-packages (from logitboost) (1.0.1)\n",
            "Requirement already satisfied: scipy in /usr/local/lib/python3.7/dist-packages (from logitboost) (1.4.1)\n",
            "Requirement already satisfied: threadpoolctl>=2.0.0 in /usr/local/lib/python3.7/dist-packages (from scikit-learn->logitboost) (3.0.0)\n",
            "Requirement already satisfied: joblib>=0.11 in /usr/local/lib/python3.7/dist-packages (from scikit-learn->logitboost) (1.1.0)\n",
            "Installing collected packages: logitboost\n",
            "Successfully installed logitboost-0.7\n"
          ]
        }
      ]
    },
    {
      "cell_type": "code",
      "metadata": {
        "id": "Dun6NUBRGgar"
      },
      "source": [
        "# imports\n",
        "import pandas as pd\n",
        "import numpy as np\n",
        "import sklearn as sk\n",
        "import time\n",
        "\n",
        "from sklearn.ensemble import RandomForestClassifier\n",
        "from logitboost import LogitBoost\n",
        "from sklearn.svm import SVC\n",
        "from sklearn.neural_network import MLPClassifier\n",
        "\n",
        "from sklearn.model_selection import train_test_split\n",
        "from sklearn.preprocessing import normalize\n",
        "\n",
        "from sklearn.metrics import classification_report, roc_auc_score\n",
        "# seed\n",
        "np.random.seed(0)"
      ],
      "execution_count": 35,
      "outputs": []
    },
    {
      "cell_type": "code",
      "metadata": {
        "colab": {
          "base_uri": "https://localhost:8080/"
        },
        "id": "JrjObVxQI904",
        "outputId": "2a4be2ec-baff-4385-8ac4-5f0550257fd5"
      },
      "source": [
        "# where data is located\n",
        "!ls ./drive/MyDrive/Thesis\\ Workspace/Notebooks/data/sb15-set2\n",
        "DATA_PATH = \"./drive/MyDrive/Thesis Workspace/Notebooks/data/sb15-set2/\"\n",
        "# load user data\n",
        "df_bot = pd.read_csv(DATA_PATH + 'bot.csv')\n",
        "df_naive = pd.read_csv(DATA_PATH + 'naive.csv')\n",
        "print('Shapes', df_bot.shape, df_naive.shape)"
      ],
      "execution_count": 3,
      "outputs": [
        {
          "output_type": "stream",
          "name": "stdout",
          "text": [
            "bot.csv  naive.csv\n",
            "Shapes (4912, 8) (3394, 8)\n"
          ]
        }
      ]
    },
    {
      "cell_type": "code",
      "metadata": {
        "colab": {
          "base_uri": "https://localhost:8080/",
          "height": 206
        },
        "id": "bkuwxx3JJIgT",
        "outputId": "194805cb-e0ac-422d-87d6-caf94134d819"
      },
      "source": [
        "df = pd.concat([df_bot, df_naive], ignore_index=True)\n",
        "label = y = np.concatenate(\n",
        "    [\n",
        "        np.zeros((df_bot.shape[0],)),\n",
        "        np.ones((df_naive.shape[0],))\n",
        "    ]\n",
        ")\n",
        "df.head()"
      ],
      "execution_count": 5,
      "outputs": [
        {
          "output_type": "execute_result",
          "data": {
            "text/html": [
              "<div>\n",
              "<style scoped>\n",
              "    .dataframe tbody tr th:only-of-type {\n",
              "        vertical-align: middle;\n",
              "    }\n",
              "\n",
              "    .dataframe tbody tr th {\n",
              "        vertical-align: top;\n",
              "    }\n",
              "\n",
              "    .dataframe thead th {\n",
              "        text-align: right;\n",
              "    }\n",
              "</style>\n",
              "<table border=\"1\" class=\"dataframe\">\n",
              "  <thead>\n",
              "    <tr style=\"text-align: right;\">\n",
              "      <th></th>\n",
              "      <th>avg_characters</th>\n",
              "      <th>std_characters</th>\n",
              "      <th>avg_hashtags</th>\n",
              "      <th>avg_mentions</th>\n",
              "      <th>avg_urls</th>\n",
              "      <th>favorites_received</th>\n",
              "      <th>retweets_received</th>\n",
              "      <th>avg_tweet_same_time</th>\n",
              "    </tr>\n",
              "  </thead>\n",
              "  <tbody>\n",
              "    <tr>\n",
              "      <th>0</th>\n",
              "      <td>98.029920</td>\n",
              "      <td>37.936346</td>\n",
              "      <td>0.377545</td>\n",
              "      <td>0.190623</td>\n",
              "      <td>0.719001</td>\n",
              "      <td>437</td>\n",
              "      <td>0.194941</td>\n",
              "      <td>1.005895</td>\n",
              "    </tr>\n",
              "    <tr>\n",
              "      <th>1</th>\n",
              "      <td>60.562248</td>\n",
              "      <td>46.763043</td>\n",
              "      <td>0.002794</td>\n",
              "      <td>0.003726</td>\n",
              "      <td>0.868053</td>\n",
              "      <td>23</td>\n",
              "      <td>0.008693</td>\n",
              "      <td>1.000932</td>\n",
              "    </tr>\n",
              "    <tr>\n",
              "      <th>2</th>\n",
              "      <td>94.849587</td>\n",
              "      <td>32.945352</td>\n",
              "      <td>0.155372</td>\n",
              "      <td>0.576860</td>\n",
              "      <td>0.343802</td>\n",
              "      <td>84</td>\n",
              "      <td>482.842975</td>\n",
              "      <td>1.003317</td>\n",
              "    </tr>\n",
              "    <tr>\n",
              "      <th>3</th>\n",
              "      <td>90.990078</td>\n",
              "      <td>25.093100</td>\n",
              "      <td>0.640310</td>\n",
              "      <td>0.017984</td>\n",
              "      <td>0.038450</td>\n",
              "      <td>1872</td>\n",
              "      <td>2.408992</td>\n",
              "      <td>1.000000</td>\n",
              "    </tr>\n",
              "    <tr>\n",
              "      <th>4</th>\n",
              "      <td>91.341674</td>\n",
              "      <td>31.425261</td>\n",
              "      <td>0.114612</td>\n",
              "      <td>0.068273</td>\n",
              "      <td>0.494285</td>\n",
              "      <td>125</td>\n",
              "      <td>1.559778</td>\n",
              "      <td>1.001857</td>\n",
              "    </tr>\n",
              "  </tbody>\n",
              "</table>\n",
              "</div>"
            ],
            "text/plain": [
              "   avg_characters  std_characters  ...  retweets_received  avg_tweet_same_time\n",
              "0       98.029920       37.936346  ...           0.194941             1.005895\n",
              "1       60.562248       46.763043  ...           0.008693             1.000932\n",
              "2       94.849587       32.945352  ...         482.842975             1.003317\n",
              "3       90.990078       25.093100  ...           2.408992             1.000000\n",
              "4       91.341674       31.425261  ...           1.559778             1.001857\n",
              "\n",
              "[5 rows x 8 columns]"
            ]
          },
          "metadata": {},
          "execution_count": 5
        }
      ]
    },
    {
      "cell_type": "code",
      "metadata": {
        "colab": {
          "base_uri": "https://localhost:8080/"
        },
        "id": "hly3N6FTJeA8",
        "outputId": "dcfcd362-3aba-4f6b-f146-2187f81ec79c"
      },
      "source": [
        "x_train, x_val, y_train, y_val = train_test_split(df, label, test_size=0.2)\n",
        "print([x.shape for x in[x_train, x_val, y_train, y_val]])"
      ],
      "execution_count": 8,
      "outputs": [
        {
          "output_type": "stream",
          "name": "stdout",
          "text": [
            "[(6644, 8), (1662, 8), (6644,), (1662,)]\n"
          ]
        }
      ]
    },
    {
      "cell_type": "markdown",
      "metadata": {
        "id": "V0iE7H01J77O"
      },
      "source": [
        "# Models\n",
        "We will be implementing:\n",
        "- Random Forest\n",
        "- Logit Boost\n",
        "- SVM Poly\n",
        "- SVM RBF\n",
        "- Two settings of Multilayer Perceptron (FC)"
      ]
    },
    {
      "cell_type": "markdown",
      "metadata": {
        "id": "28KfVSpgKL4b"
      },
      "source": [
        "## Random Forest\n",
        "- 10 trees with unlimited depth"
      ]
    },
    {
      "cell_type": "code",
      "metadata": {
        "colab": {
          "base_uri": "https://localhost:8080/"
        },
        "id": "xTJZP_M7KK1Z",
        "outputId": "3060b5c4-33f1-403d-8883-6ecaee082f20"
      },
      "source": [
        "random_forest_model = RandomForestClassifier(\n",
        "    n_estimators = 10,\n",
        "    max_depth = None,\n",
        "    criterion = 'gini'\n",
        ")\n",
        "random_forest_model.fit(x_train,y_train)\n",
        "pred = random_forest_model.predict(x_val)\n",
        "print(classification_report(pred, y_val, digits=4))\n",
        "print('ROC acc: ',roc_auc_score(pred, y_val))\n"
      ],
      "execution_count": 16,
      "outputs": [
        {
          "output_type": "stream",
          "name": "stdout",
          "text": [
            "              precision    recall  f1-score   support\n",
            "\n",
            "         0.0     0.9869    0.9879    0.9874       994\n",
            "         1.0     0.9820    0.9805    0.9813       668\n",
            "\n",
            "    accuracy                         0.9850      1662\n",
            "   macro avg     0.9845    0.9842    0.9844      1662\n",
            "weighted avg     0.9850    0.9850    0.9850      1662\n",
            "\n",
            "ROC acc:  0.9842332437740213\n"
          ]
        }
      ]
    },
    {
      "cell_type": "markdown",
      "metadata": {
        "id": "8wLzmT5MPq2V"
      },
      "source": [
        "## Logit Boost\n",
        "- Base estimator is decision stump"
      ]
    },
    {
      "cell_type": "code",
      "metadata": {
        "colab": {
          "base_uri": "https://localhost:8080/"
        },
        "id": "VBS49Qq9KssB",
        "outputId": "b5fd219a-e71f-4398-a4ed-59eb80ae29e5"
      },
      "source": [
        "logit_boost_model = LogitBoost(\n",
        "    base_estimator = None, #default None equals decision stump\n",
        "    n_estimators=30, #just a number i choose\n",
        ")\n",
        "logit_boost_model.fit(x_train,y_train)\n",
        "pred = logit_boost_model.predict(x_val.values)\n",
        "print(classification_report(pred, y_val, digits=4))\n",
        "print('ROC acc: ',roc_auc_score(pred, y_val))"
      ],
      "execution_count": 31,
      "outputs": [
        {
          "output_type": "stream",
          "name": "stdout",
          "text": [
            "              precision    recall  f1-score   support\n",
            "\n",
            "         0.0     0.9829    0.9849    0.9839       993\n",
            "         1.0     0.9775    0.9746    0.9760       669\n",
            "\n",
            "    accuracy                         0.9807      1662\n",
            "   macro avg     0.9802    0.9797    0.9800      1662\n",
            "weighted avg     0.9807    0.9807    0.9807      1662\n",
            "\n",
            "ROC acc:  0.9797415992666152\n"
          ]
        }
      ]
    },
    {
      "cell_type": "markdown",
      "metadata": {
        "id": "7p_0j8diS5md"
      },
      "source": [
        "## SVM Poly\n",
        "- Complexity param c = 1\n",
        "- Paper state that data is to be normalized when used with SVM"
      ]
    },
    {
      "cell_type": "code",
      "metadata": {
        "id": "lMFfmSi4UEw7"
      },
      "source": [
        "x_train_norm, x_val_norm = [normalize(X, norm='l2') for X in [x_train, x_val]]"
      ],
      "execution_count": 30,
      "outputs": []
    },
    {
      "cell_type": "code",
      "metadata": {
        "colab": {
          "base_uri": "https://localhost:8080/"
        },
        "id": "69WHQhobS9ou",
        "outputId": "c9801f10-3b77-4529-c6f7-e4c057af68e9"
      },
      "source": [
        "svm_poly_model = SVC(\n",
        "    C = 1,\n",
        "    kernel = 'poly',\n",
        "    degree = 3\n",
        ")\n",
        "svm_poly_model.fit(x_train_norm,y_train)\n",
        "pred = svm_poly_model.predict(x_val_norm)\n",
        "print(classification_report(pred, y_val, digits=4))\n",
        "print('ROC acc: ',roc_auc_score(pred, y_val))\n"
      ],
      "execution_count": 32,
      "outputs": [
        {
          "output_type": "stream",
          "name": "stdout",
          "text": [
            "              precision    recall  f1-score   support\n",
            "\n",
            "         0.0     0.9839    0.9184    0.9500      1066\n",
            "         1.0     0.8696    0.9732    0.9184       596\n",
            "\n",
            "    accuracy                         0.9380      1662\n",
            "   macro avg     0.9267    0.9458    0.9342      1662\n",
            "weighted avg     0.9429    0.9380    0.9387      1662\n",
            "\n",
            "ROC acc:  0.9457704269866654\n"
          ]
        }
      ]
    },
    {
      "cell_type": "markdown",
      "metadata": {
        "id": "tQW4dxhdU63t"
      },
      "source": [
        "## SVM RBF\n",
        "- Similar"
      ]
    },
    {
      "cell_type": "code",
      "metadata": {
        "colab": {
          "base_uri": "https://localhost:8080/"
        },
        "id": "8ZdDtahwU8rn",
        "outputId": "8dbb434a-1c26-4ac6-c65d-8561e849898a"
      },
      "source": [
        "svm_rbf_model = SVC(\n",
        "    C = 1,\n",
        "    kernel = 'rbf',\n",
        ")\n",
        "svm_rbf_model.fit(x_train_norm,y_train)\n",
        "pred = svm_rbf_model.predict(x_val_norm)\n",
        "print(classification_report(pred, y_val, digits=4))\n",
        "print('ROC acc: ',roc_auc_score(pred, y_val))"
      ],
      "execution_count": 33,
      "outputs": [
        {
          "output_type": "stream",
          "name": "stdout",
          "text": [
            "              precision    recall  f1-score   support\n",
            "\n",
            "         0.0     0.9849    0.9116    0.9469      1075\n",
            "         1.0     0.8576    0.9744    0.9123       587\n",
            "\n",
            "    accuracy                         0.9338      1662\n",
            "   macro avg     0.9212    0.9430    0.9296      1662\n",
            "weighted avg     0.9399    0.9338    0.9346      1662\n",
            "\n",
            "ROC acc:  0.9430371221425458\n"
          ]
        }
      ]
    },
    {
      "cell_type": "markdown",
      "metadata": {
        "id": "92jAzTkmVDIi"
      },
      "source": [
        "## Multilayer Perceptron 10\n",
        "- Gradient Decent\n",
        "- Normalization\n",
        "- 500 train epoch\n",
        "- Learn rate 0.3\n",
        "- Momentum 0.2\n",
        "- Hidden layer with 10 nodes\n",
        "- Sigmoid activation\n",
        "- Validation threshold 20\n",
        "\n",
        "### NOTE:\n",
        "validation threshold is the number of traing epochs that we allow the model to not improve, if error does not decrease within this validation threshold epochs, we terminate training. This param in sklearn is `n_iter_no_change`"
      ]
    },
    {
      "cell_type": "code",
      "metadata": {
        "colab": {
          "base_uri": "https://localhost:8080/"
        },
        "id": "Glw7JSFtVR2S",
        "outputId": "5c8eb60d-2417-4092-e2b8-d9fea56b2d22"
      },
      "source": [
        "mlp_10_model = MLPClassifier(\n",
        "    hidden_layer_sizes=(10,), #means only one hidden layer with 10 nodes\n",
        "    learning_rate='constant',\n",
        "    learning_rate_init=0.3,\n",
        "    max_iter=500,\n",
        "    solver='sgd',\n",
        "    activation='logistic', #this is sigmoid\n",
        "    momentum=0.2,\n",
        "    early_stopping=True,\n",
        "    validation_fraction=0.1,\n",
        "    n_iter_no_change=20\n",
        ")\n",
        "mlp_10_model.fit(x_train_norm,y_train)\n",
        "pred = mlp_10_model.predict(x_val_norm)\n",
        "print(classification_report(pred, y_val, digits=4))\n",
        "print('ROC acc: ',roc_auc_score(pred, y_val))"
      ],
      "execution_count": 38,
      "outputs": [
        {
          "output_type": "stream",
          "name": "stdout",
          "text": [
            "              precision    recall  f1-score   support\n",
            "\n",
            "         0.0     0.9849    0.9280    0.9556      1056\n",
            "         1.0     0.8861    0.9752    0.9285       606\n",
            "\n",
            "    accuracy                         0.9452      1662\n",
            "   macro avg     0.9355    0.9516    0.9421      1662\n",
            "weighted avg     0.9489    0.9452    0.9457      1662\n",
            "\n",
            "ROC acc:  0.9516389138913891\n"
          ]
        }
      ]
    },
    {
      "cell_type": "markdown",
      "metadata": {
        "id": "k7UtPRRYYT6A"
      },
      "source": [
        "## Multilayer Perceptron 20\n",
        "Same but hidden layer has 20 nodes"
      ]
    },
    {
      "cell_type": "code",
      "metadata": {
        "colab": {
          "base_uri": "https://localhost:8080/"
        },
        "id": "fDKYl-jCYDU6",
        "outputId": "894b907f-de2f-41ef-cce1-77f8fc64ed29"
      },
      "source": [
        "mlp_20_model = MLPClassifier(\n",
        "    hidden_layer_sizes=(20,), #means only one hidden layer with 10 nodes\n",
        "    learning_rate='constant',\n",
        "    learning_rate_init=0.3,\n",
        "    max_iter=500,\n",
        "    solver='sgd',\n",
        "    activation='logistic', #this is sigmoid\n",
        "    momentum=0.2,\n",
        "    early_stopping=True,\n",
        "    validation_fraction=0.1,\n",
        "    n_iter_no_change=20\n",
        ")\n",
        "mlp_20_model.fit(x_train_norm,y_train)\n",
        "pred = mlp_20_model.predict(x_val_norm)\n",
        "print(classification_report(pred, y_val, digits=4))\n",
        "print('ROC acc: ',roc_auc_score(pred, y_val))"
      ],
      "execution_count": 40,
      "outputs": [
        {
          "output_type": "stream",
          "name": "stdout",
          "text": [
            "              precision    recall  f1-score   support\n",
            "\n",
            "         0.0     0.9849    0.9307    0.9570      1053\n",
            "         1.0     0.8906    0.9754    0.9310       609\n",
            "\n",
            "    accuracy                         0.9471      1662\n",
            "   macro avg     0.9377    0.9530    0.9440      1662\n",
            "weighted avg     0.9503    0.9471    0.9475      1662\n",
            "\n",
            "ROC acc:  0.953021861067838\n"
          ]
        }
      ]
    },
    {
      "cell_type": "markdown",
      "metadata": {
        "id": "GyuZ5yjDYpv1"
      },
      "source": [
        "## Conclude\n",
        "Random 4Rest > LogiBoost > MLP20 > MLP10 > SVM-P > SVM-R"
      ]
    }
  ]
}