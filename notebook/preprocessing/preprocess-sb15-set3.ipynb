{
  "nbformat": 4,
  "nbformat_minor": 0,
  "metadata": {
    "colab": {
      "name": "preprocess-sb15-set3.ipynb",
      "provenance": [],
      "collapsed_sections": []
    },
    "kernelspec": {
      "name": "python3",
      "display_name": "Python 3"
    },
    "language_info": {
      "name": "python"
    }
  },
  "cells": [
    {
      "cell_type": "code",
      "execution_count": 116,
      "metadata": {
        "id": "D0zCp5UnPDOU"
      },
      "outputs": [],
      "source": [
        "# imports\n",
        "import pandas as pd\n",
        "import numpy as np\n",
        "import time\n",
        "\n",
        "# seed\n",
        "np.random.seed(0)"
      ]
    },
    {
      "cell_type": "code",
      "source": [
        "# where data is located\n",
        "!ls ./drive/MyDrive/Thesis\\ Workspace/Notebooks/data/set-3\n",
        "DATA_PATH = \"./drive/MyDrive/Thesis\\ Workspace/Notebooks/data/set-3\""
      ],
      "metadata": {
        "colab": {
          "base_uri": "https://localhost:8080/"
        },
        "id": "C-Plt7tJPHcl",
        "outputId": "00f85e4d-6d33-49f8-bb01-16ce1721dcba"
      },
      "execution_count": 117,
      "outputs": [
        {
          "output_type": "stream",
          "name": "stdout",
          "text": [
            "dev  test  train\n"
          ]
        }
      ]
    },
    {
      "cell_type": "code",
      "source": [
        "folder_names = ['dev', 'test', 'train']\n",
        "for name in folder_names:\n",
        "  print('---Folder: ', name)\n",
        "  %ls $DATA_PATH\\/$name"
      ],
      "metadata": {
        "colab": {
          "base_uri": "https://localhost:8080/"
        },
        "id": "kfKy9IhDPjhW",
        "outputId": "64dd8742-bcfe-47ad-abfc-76736c5bb1e8"
      },
      "execution_count": 118,
      "outputs": [
        {
          "output_type": "stream",
          "name": "stdout",
          "text": [
            "---Folder:  dev\n",
            "domain.csv    following.csv  profile_info.csv      tweet.csv\n",
            "follower.csv  label.csv      profile_location.csv\n",
            "---Folder:  test\n",
            "domain.csv    following.csv  profile_info.csv      tweet.csv\n",
            "follower.csv  label.csv      profile_location.csv\n",
            "---Folder:  train\n",
            "domain.csv    following.csv  profile_info.csv      tweet.csv\n",
            "follower.csv  label.csv      profile_location.csv\n"
          ]
        }
      ]
    },
    {
      "cell_type": "code",
      "source": [
        "DATA_PATH = \"./drive/MyDrive/Thesis Workspace/Notebooks/data/set-3\"\n",
        "\n",
        "\n",
        "def load_tweet_and_label(subfolder):\n",
        "  df_tweet = pd.read_csv(f'{DATA_PATH}/{subfolder}/tweet.csv').iloc[:, 1:].reset_index(drop=True)\n",
        "  df_label = pd.read_csv(f'{DATA_PATH}/{subfolder}/label.csv').iloc[:, 1:]\n",
        "  df_tweet = df_tweet.merge(df_label, on='ID')\n",
        "  return df_tweet\n",
        "\n",
        "subfolder_names = ['dev', 'train', 'test']\n",
        "df_tweet_dev, df_tweet_train, df_tweet_test = [load_tweet_and_label(x) for x in subfolder_names]\n",
        "for folder, df in zip(subfolder_names, [df_tweet_dev, df_tweet_train, df_tweet_test]):\n",
        "  print('Folder: ', folder, 'Shape: ', df.shape)\n",
        "  display(df.head())\n",
        "  char_count = df['tweet'].astype(str).apply(lambda x: len(x))\n",
        "  print(df[char_count==0])"
      ],
      "metadata": {
        "colab": {
          "base_uri": "https://localhost:8080/",
          "height": 793
        },
        "id": "sy7dgvzlRCrj",
        "outputId": "941434bd-ea0a-4181-a6d9-c08ae132fdcf"
      },
      "execution_count": 119,
      "outputs": [
        {
          "output_type": "stream",
          "name": "stdout",
          "text": [
            "Folder:  dev Shape:  (401540, 3)\n"
          ]
        },
        {
          "output_type": "display_data",
          "data": {
            "text/html": [
              "\n",
              "  <div id=\"df-b2a4e4e3-6d7a-484e-9a7f-bd275a90bd71\">\n",
              "    <div class=\"colab-df-container\">\n",
              "      <div>\n",
              "<style scoped>\n",
              "    .dataframe tbody tr th:only-of-type {\n",
              "        vertical-align: middle;\n",
              "    }\n",
              "\n",
              "    .dataframe tbody tr th {\n",
              "        vertical-align: top;\n",
              "    }\n",
              "\n",
              "    .dataframe thead th {\n",
              "        text-align: right;\n",
              "    }\n",
              "</style>\n",
              "<table border=\"1\" class=\"dataframe\">\n",
              "  <thead>\n",
              "    <tr style=\"text-align: right;\">\n",
              "      <th></th>\n",
              "      <th>ID</th>\n",
              "      <th>tweet</th>\n",
              "      <th>label</th>\n",
              "    </tr>\n",
              "  </thead>\n",
              "  <tbody>\n",
              "    <tr>\n",
              "      <th>0</th>\n",
              "      <td>1224667050301255680</td>\n",
              "      <td>@SparklesOnlyme পুরোনো এইদিনের কথা\\n</td>\n",
              "      <td>0</td>\n",
              "    </tr>\n",
              "    <tr>\n",
              "      <th>1</th>\n",
              "      <td>1224667050301255680</td>\n",
              "      <td>@BariraJahan হায়\\n</td>\n",
              "      <td>0</td>\n",
              "    </tr>\n",
              "    <tr>\n",
              "      <th>2</th>\n",
              "      <td>1224667050301255680</td>\n",
              "      <td>সেদিন রাস্তার ধারে নুনু চুলাকাচ্ছিলাম।\\n\\nকে জ...</td>\n",
              "      <td>0</td>\n",
              "    </tr>\n",
              "    <tr>\n",
              "      <th>3</th>\n",
              "      <td>1224667050301255680</td>\n",
              "      <td>নিজের বলতে কিছু নাইরে মাদারচোদ,\\n\\nসালার নুনু ...</td>\n",
              "      <td>0</td>\n",
              "    </tr>\n",
              "    <tr>\n",
              "      <th>4</th>\n",
              "      <td>1224667050301255680</td>\n",
              "      <td>ফোন টিপতে টিপতেই জীবন শেষ হবে অন্যকিছু আর টিপত...</td>\n",
              "      <td>0</td>\n",
              "    </tr>\n",
              "  </tbody>\n",
              "</table>\n",
              "</div>\n",
              "      <button class=\"colab-df-convert\" onclick=\"convertToInteractive('df-b2a4e4e3-6d7a-484e-9a7f-bd275a90bd71')\"\n",
              "              title=\"Convert this dataframe to an interactive table.\"\n",
              "              style=\"display:none;\">\n",
              "        \n",
              "  <svg xmlns=\"http://www.w3.org/2000/svg\" height=\"24px\"viewBox=\"0 0 24 24\"\n",
              "       width=\"24px\">\n",
              "    <path d=\"M0 0h24v24H0V0z\" fill=\"none\"/>\n",
              "    <path d=\"M18.56 5.44l.94 2.06.94-2.06 2.06-.94-2.06-.94-.94-2.06-.94 2.06-2.06.94zm-11 1L8.5 8.5l.94-2.06 2.06-.94-2.06-.94L8.5 2.5l-.94 2.06-2.06.94zm10 10l.94 2.06.94-2.06 2.06-.94-2.06-.94-.94-2.06-.94 2.06-2.06.94z\"/><path d=\"M17.41 7.96l-1.37-1.37c-.4-.4-.92-.59-1.43-.59-.52 0-1.04.2-1.43.59L10.3 9.45l-7.72 7.72c-.78.78-.78 2.05 0 2.83L4 21.41c.39.39.9.59 1.41.59.51 0 1.02-.2 1.41-.59l7.78-7.78 2.81-2.81c.8-.78.8-2.07 0-2.86zM5.41 20L4 18.59l7.72-7.72 1.47 1.35L5.41 20z\"/>\n",
              "  </svg>\n",
              "      </button>\n",
              "      \n",
              "  <style>\n",
              "    .colab-df-container {\n",
              "      display:flex;\n",
              "      flex-wrap:wrap;\n",
              "      gap: 12px;\n",
              "    }\n",
              "\n",
              "    .colab-df-convert {\n",
              "      background-color: #E8F0FE;\n",
              "      border: none;\n",
              "      border-radius: 50%;\n",
              "      cursor: pointer;\n",
              "      display: none;\n",
              "      fill: #1967D2;\n",
              "      height: 32px;\n",
              "      padding: 0 0 0 0;\n",
              "      width: 32px;\n",
              "    }\n",
              "\n",
              "    .colab-df-convert:hover {\n",
              "      background-color: #E2EBFA;\n",
              "      box-shadow: 0px 1px 2px rgba(60, 64, 67, 0.3), 0px 1px 3px 1px rgba(60, 64, 67, 0.15);\n",
              "      fill: #174EA6;\n",
              "    }\n",
              "\n",
              "    [theme=dark] .colab-df-convert {\n",
              "      background-color: #3B4455;\n",
              "      fill: #D2E3FC;\n",
              "    }\n",
              "\n",
              "    [theme=dark] .colab-df-convert:hover {\n",
              "      background-color: #434B5C;\n",
              "      box-shadow: 0px 1px 3px 1px rgba(0, 0, 0, 0.15);\n",
              "      filter: drop-shadow(0px 1px 2px rgba(0, 0, 0, 0.3));\n",
              "      fill: #FFFFFF;\n",
              "    }\n",
              "  </style>\n",
              "\n",
              "      <script>\n",
              "        const buttonEl =\n",
              "          document.querySelector('#df-b2a4e4e3-6d7a-484e-9a7f-bd275a90bd71 button.colab-df-convert');\n",
              "        buttonEl.style.display =\n",
              "          google.colab.kernel.accessAllowed ? 'block' : 'none';\n",
              "\n",
              "        async function convertToInteractive(key) {\n",
              "          const element = document.querySelector('#df-b2a4e4e3-6d7a-484e-9a7f-bd275a90bd71');\n",
              "          const dataTable =\n",
              "            await google.colab.kernel.invokeFunction('convertToInteractive',\n",
              "                                                     [key], {});\n",
              "          if (!dataTable) return;\n",
              "\n",
              "          const docLinkHtml = 'Like what you see? Visit the ' +\n",
              "            '<a target=\"_blank\" href=https://colab.research.google.com/notebooks/data_table.ipynb>data table notebook</a>'\n",
              "            + ' to learn more about interactive tables.';\n",
              "          element.innerHTML = '';\n",
              "          dataTable['output_type'] = 'display_data';\n",
              "          await google.colab.output.renderOutput(dataTable, element);\n",
              "          const docLink = document.createElement('div');\n",
              "          docLink.innerHTML = docLinkHtml;\n",
              "          element.appendChild(docLink);\n",
              "        }\n",
              "      </script>\n",
              "    </div>\n",
              "  </div>\n",
              "  "
            ],
            "text/plain": [
              "                    ID  ... label\n",
              "0  1224667050301255680  ...     0\n",
              "1  1224667050301255680  ...     0\n",
              "2  1224667050301255680  ...     0\n",
              "3  1224667050301255680  ...     0\n",
              "4  1224667050301255680  ...     0\n",
              "\n",
              "[5 rows x 3 columns]"
            ]
          },
          "metadata": {}
        },
        {
          "output_type": "stream",
          "name": "stdout",
          "text": [
            "Empty DataFrame\n",
            "Columns: [ID, tweet, label]\n",
            "Index: []\n",
            "Folder:  train Shape:  (1398465, 3)\n"
          ]
        },
        {
          "output_type": "display_data",
          "data": {
            "text/html": [
              "\n",
              "  <div id=\"df-e00d8e17-afd8-4944-9be6-12e72a9ddf45\">\n",
              "    <div class=\"colab-df-container\">\n",
              "      <div>\n",
              "<style scoped>\n",
              "    .dataframe tbody tr th:only-of-type {\n",
              "        vertical-align: middle;\n",
              "    }\n",
              "\n",
              "    .dataframe tbody tr th {\n",
              "        vertical-align: top;\n",
              "    }\n",
              "\n",
              "    .dataframe thead th {\n",
              "        text-align: right;\n",
              "    }\n",
              "</style>\n",
              "<table border=\"1\" class=\"dataframe\">\n",
              "  <thead>\n",
              "    <tr style=\"text-align: right;\">\n",
              "      <th></th>\n",
              "      <th>ID</th>\n",
              "      <th>tweet</th>\n",
              "      <th>label</th>\n",
              "    </tr>\n",
              "  </thead>\n",
              "  <tbody>\n",
              "    <tr>\n",
              "      <th>0</th>\n",
              "      <td>17461978</td>\n",
              "      <td>RT @CarnivalCruise: 🎉 Are you ready to see wha...</td>\n",
              "      <td>0</td>\n",
              "    </tr>\n",
              "    <tr>\n",
              "      <th>1</th>\n",
              "      <td>17461978</td>\n",
              "      <td>Who has time for receipts? Not me. @epson rece...</td>\n",
              "      <td>0</td>\n",
              "    </tr>\n",
              "    <tr>\n",
              "      <th>2</th>\n",
              "      <td>17461978</td>\n",
              "      <td>Steady wants to encourage you to invest in you...</td>\n",
              "      <td>0</td>\n",
              "    </tr>\n",
              "    <tr>\n",
              "      <th>3</th>\n",
              "      <td>17461978</td>\n",
              "      <td>Good one, @rishid. But let’s see if y'all can ...</td>\n",
              "      <td>0</td>\n",
              "    </tr>\n",
              "    <tr>\n",
              "      <th>4</th>\n",
              "      <td>17461978</td>\n",
              "      <td>#lsunationalchamps\\n</td>\n",
              "      <td>0</td>\n",
              "    </tr>\n",
              "  </tbody>\n",
              "</table>\n",
              "</div>\n",
              "      <button class=\"colab-df-convert\" onclick=\"convertToInteractive('df-e00d8e17-afd8-4944-9be6-12e72a9ddf45')\"\n",
              "              title=\"Convert this dataframe to an interactive table.\"\n",
              "              style=\"display:none;\">\n",
              "        \n",
              "  <svg xmlns=\"http://www.w3.org/2000/svg\" height=\"24px\"viewBox=\"0 0 24 24\"\n",
              "       width=\"24px\">\n",
              "    <path d=\"M0 0h24v24H0V0z\" fill=\"none\"/>\n",
              "    <path d=\"M18.56 5.44l.94 2.06.94-2.06 2.06-.94-2.06-.94-.94-2.06-.94 2.06-2.06.94zm-11 1L8.5 8.5l.94-2.06 2.06-.94-2.06-.94L8.5 2.5l-.94 2.06-2.06.94zm10 10l.94 2.06.94-2.06 2.06-.94-2.06-.94-.94-2.06-.94 2.06-2.06.94z\"/><path d=\"M17.41 7.96l-1.37-1.37c-.4-.4-.92-.59-1.43-.59-.52 0-1.04.2-1.43.59L10.3 9.45l-7.72 7.72c-.78.78-.78 2.05 0 2.83L4 21.41c.39.39.9.59 1.41.59.51 0 1.02-.2 1.41-.59l7.78-7.78 2.81-2.81c.8-.78.8-2.07 0-2.86zM5.41 20L4 18.59l7.72-7.72 1.47 1.35L5.41 20z\"/>\n",
              "  </svg>\n",
              "      </button>\n",
              "      \n",
              "  <style>\n",
              "    .colab-df-container {\n",
              "      display:flex;\n",
              "      flex-wrap:wrap;\n",
              "      gap: 12px;\n",
              "    }\n",
              "\n",
              "    .colab-df-convert {\n",
              "      background-color: #E8F0FE;\n",
              "      border: none;\n",
              "      border-radius: 50%;\n",
              "      cursor: pointer;\n",
              "      display: none;\n",
              "      fill: #1967D2;\n",
              "      height: 32px;\n",
              "      padding: 0 0 0 0;\n",
              "      width: 32px;\n",
              "    }\n",
              "\n",
              "    .colab-df-convert:hover {\n",
              "      background-color: #E2EBFA;\n",
              "      box-shadow: 0px 1px 2px rgba(60, 64, 67, 0.3), 0px 1px 3px 1px rgba(60, 64, 67, 0.15);\n",
              "      fill: #174EA6;\n",
              "    }\n",
              "\n",
              "    [theme=dark] .colab-df-convert {\n",
              "      background-color: #3B4455;\n",
              "      fill: #D2E3FC;\n",
              "    }\n",
              "\n",
              "    [theme=dark] .colab-df-convert:hover {\n",
              "      background-color: #434B5C;\n",
              "      box-shadow: 0px 1px 3px 1px rgba(0, 0, 0, 0.15);\n",
              "      filter: drop-shadow(0px 1px 2px rgba(0, 0, 0, 0.3));\n",
              "      fill: #FFFFFF;\n",
              "    }\n",
              "  </style>\n",
              "\n",
              "      <script>\n",
              "        const buttonEl =\n",
              "          document.querySelector('#df-e00d8e17-afd8-4944-9be6-12e72a9ddf45 button.colab-df-convert');\n",
              "        buttonEl.style.display =\n",
              "          google.colab.kernel.accessAllowed ? 'block' : 'none';\n",
              "\n",
              "        async function convertToInteractive(key) {\n",
              "          const element = document.querySelector('#df-e00d8e17-afd8-4944-9be6-12e72a9ddf45');\n",
              "          const dataTable =\n",
              "            await google.colab.kernel.invokeFunction('convertToInteractive',\n",
              "                                                     [key], {});\n",
              "          if (!dataTable) return;\n",
              "\n",
              "          const docLinkHtml = 'Like what you see? Visit the ' +\n",
              "            '<a target=\"_blank\" href=https://colab.research.google.com/notebooks/data_table.ipynb>data table notebook</a>'\n",
              "            + ' to learn more about interactive tables.';\n",
              "          element.innerHTML = '';\n",
              "          dataTable['output_type'] = 'display_data';\n",
              "          await google.colab.output.renderOutput(dataTable, element);\n",
              "          const docLink = document.createElement('div');\n",
              "          docLink.innerHTML = docLinkHtml;\n",
              "          element.appendChild(docLink);\n",
              "        }\n",
              "      </script>\n",
              "    </div>\n",
              "  </div>\n",
              "  "
            ],
            "text/plain": [
              "         ID                                              tweet  label\n",
              "0  17461978  RT @CarnivalCruise: 🎉 Are you ready to see wha...      0\n",
              "1  17461978  Who has time for receipts? Not me. @epson rece...      0\n",
              "2  17461978  Steady wants to encourage you to invest in you...      0\n",
              "3  17461978  Good one, @rishid. But let’s see if y'all can ...      0\n",
              "4  17461978                               #lsunationalchamps\\n      0"
            ]
          },
          "metadata": {}
        },
        {
          "output_type": "stream",
          "name": "stdout",
          "text": [
            "Empty DataFrame\n",
            "Columns: [ID, tweet, label]\n",
            "Index: []\n",
            "Folder:  test Shape:  (199863, 3)\n"
          ]
        },
        {
          "output_type": "display_data",
          "data": {
            "text/html": [
              "\n",
              "  <div id=\"df-09a411f0-e243-45c0-97fd-426e2bbdf6b1\">\n",
              "    <div class=\"colab-df-container\">\n",
              "      <div>\n",
              "<style scoped>\n",
              "    .dataframe tbody tr th:only-of-type {\n",
              "        vertical-align: middle;\n",
              "    }\n",
              "\n",
              "    .dataframe tbody tr th {\n",
              "        vertical-align: top;\n",
              "    }\n",
              "\n",
              "    .dataframe thead th {\n",
              "        text-align: right;\n",
              "    }\n",
              "</style>\n",
              "<table border=\"1\" class=\"dataframe\">\n",
              "  <thead>\n",
              "    <tr style=\"text-align: right;\">\n",
              "      <th></th>\n",
              "      <th>ID</th>\n",
              "      <th>tweet</th>\n",
              "      <th>label</th>\n",
              "    </tr>\n",
              "  </thead>\n",
              "  <tbody>\n",
              "    <tr>\n",
              "      <th>0</th>\n",
              "      <td>1188812492010487808</td>\n",
              "      <td>RT @clevelanddotcom: Three Ohio House Republic...</td>\n",
              "      <td>1</td>\n",
              "    </tr>\n",
              "    <tr>\n",
              "      <th>1</th>\n",
              "      <td>1188812492010487808</td>\n",
              "      <td>RT @CaliConserv1: California Governor Gavin Ne...</td>\n",
              "      <td>1</td>\n",
              "    </tr>\n",
              "    <tr>\n",
              "      <th>2</th>\n",
              "      <td>1188812492010487808</td>\n",
              "      <td>RT @NRA: Only after all our guns have been ban...</td>\n",
              "      <td>1</td>\n",
              "    </tr>\n",
              "    <tr>\n",
              "      <th>3</th>\n",
              "      <td>1188812492010487808</td>\n",
              "      <td>@ArtValley818_ CaliRed.\\n</td>\n",
              "      <td>1</td>\n",
              "    </tr>\n",
              "    <tr>\n",
              "      <th>4</th>\n",
              "      <td>1188812492010487808</td>\n",
              "      <td>RT @ArtValley818_: I will be looking into star...</td>\n",
              "      <td>1</td>\n",
              "    </tr>\n",
              "  </tbody>\n",
              "</table>\n",
              "</div>\n",
              "      <button class=\"colab-df-convert\" onclick=\"convertToInteractive('df-09a411f0-e243-45c0-97fd-426e2bbdf6b1')\"\n",
              "              title=\"Convert this dataframe to an interactive table.\"\n",
              "              style=\"display:none;\">\n",
              "        \n",
              "  <svg xmlns=\"http://www.w3.org/2000/svg\" height=\"24px\"viewBox=\"0 0 24 24\"\n",
              "       width=\"24px\">\n",
              "    <path d=\"M0 0h24v24H0V0z\" fill=\"none\"/>\n",
              "    <path d=\"M18.56 5.44l.94 2.06.94-2.06 2.06-.94-2.06-.94-.94-2.06-.94 2.06-2.06.94zm-11 1L8.5 8.5l.94-2.06 2.06-.94-2.06-.94L8.5 2.5l-.94 2.06-2.06.94zm10 10l.94 2.06.94-2.06 2.06-.94-2.06-.94-.94-2.06-.94 2.06-2.06.94z\"/><path d=\"M17.41 7.96l-1.37-1.37c-.4-.4-.92-.59-1.43-.59-.52 0-1.04.2-1.43.59L10.3 9.45l-7.72 7.72c-.78.78-.78 2.05 0 2.83L4 21.41c.39.39.9.59 1.41.59.51 0 1.02-.2 1.41-.59l7.78-7.78 2.81-2.81c.8-.78.8-2.07 0-2.86zM5.41 20L4 18.59l7.72-7.72 1.47 1.35L5.41 20z\"/>\n",
              "  </svg>\n",
              "      </button>\n",
              "      \n",
              "  <style>\n",
              "    .colab-df-container {\n",
              "      display:flex;\n",
              "      flex-wrap:wrap;\n",
              "      gap: 12px;\n",
              "    }\n",
              "\n",
              "    .colab-df-convert {\n",
              "      background-color: #E8F0FE;\n",
              "      border: none;\n",
              "      border-radius: 50%;\n",
              "      cursor: pointer;\n",
              "      display: none;\n",
              "      fill: #1967D2;\n",
              "      height: 32px;\n",
              "      padding: 0 0 0 0;\n",
              "      width: 32px;\n",
              "    }\n",
              "\n",
              "    .colab-df-convert:hover {\n",
              "      background-color: #E2EBFA;\n",
              "      box-shadow: 0px 1px 2px rgba(60, 64, 67, 0.3), 0px 1px 3px 1px rgba(60, 64, 67, 0.15);\n",
              "      fill: #174EA6;\n",
              "    }\n",
              "\n",
              "    [theme=dark] .colab-df-convert {\n",
              "      background-color: #3B4455;\n",
              "      fill: #D2E3FC;\n",
              "    }\n",
              "\n",
              "    [theme=dark] .colab-df-convert:hover {\n",
              "      background-color: #434B5C;\n",
              "      box-shadow: 0px 1px 3px 1px rgba(0, 0, 0, 0.15);\n",
              "      filter: drop-shadow(0px 1px 2px rgba(0, 0, 0, 0.3));\n",
              "      fill: #FFFFFF;\n",
              "    }\n",
              "  </style>\n",
              "\n",
              "      <script>\n",
              "        const buttonEl =\n",
              "          document.querySelector('#df-09a411f0-e243-45c0-97fd-426e2bbdf6b1 button.colab-df-convert');\n",
              "        buttonEl.style.display =\n",
              "          google.colab.kernel.accessAllowed ? 'block' : 'none';\n",
              "\n",
              "        async function convertToInteractive(key) {\n",
              "          const element = document.querySelector('#df-09a411f0-e243-45c0-97fd-426e2bbdf6b1');\n",
              "          const dataTable =\n",
              "            await google.colab.kernel.invokeFunction('convertToInteractive',\n",
              "                                                     [key], {});\n",
              "          if (!dataTable) return;\n",
              "\n",
              "          const docLinkHtml = 'Like what you see? Visit the ' +\n",
              "            '<a target=\"_blank\" href=https://colab.research.google.com/notebooks/data_table.ipynb>data table notebook</a>'\n",
              "            + ' to learn more about interactive tables.';\n",
              "          element.innerHTML = '';\n",
              "          dataTable['output_type'] = 'display_data';\n",
              "          await google.colab.output.renderOutput(dataTable, element);\n",
              "          const docLink = document.createElement('div');\n",
              "          docLink.innerHTML = docLinkHtml;\n",
              "          element.appendChild(docLink);\n",
              "        }\n",
              "      </script>\n",
              "    </div>\n",
              "  </div>\n",
              "  "
            ],
            "text/plain": [
              "                    ID  ... label\n",
              "0  1188812492010487808  ...     1\n",
              "1  1188812492010487808  ...     1\n",
              "2  1188812492010487808  ...     1\n",
              "3  1188812492010487808  ...     1\n",
              "4  1188812492010487808  ...     1\n",
              "\n",
              "[5 rows x 3 columns]"
            ]
          },
          "metadata": {}
        },
        {
          "output_type": "stream",
          "name": "stdout",
          "text": [
            "Empty DataFrame\n",
            "Columns: [ID, tweet, label]\n",
            "Index: []\n"
          ]
        }
      ]
    },
    {
      "cell_type": "markdown",
      "source": [
        "## Regexes"
      ],
      "metadata": {
        "id": "bn-ABDM2VHoC"
      }
    },
    {
      "cell_type": "code",
      "source": [
        "import re\n",
        "\n",
        "# hashtag #\n",
        "test_hashtag = \"Somethin big is going down, I can feel it in my @soul. . . .#somethingbig #happeningsoon #2017 #feel_it_in_my_soul #numberswork1337 ####\"\n",
        "HASHTAG_REGEX = r\"#[a-z0-9_]+\"\n",
        "hashtag_matches = re.findall(HASHTAG_REGEX, test_hashtag)\n",
        "print(hashtag_matches)\n"
      ],
      "metadata": {
        "colab": {
          "base_uri": "https://localhost:8080/"
        },
        "id": "AJs2sEwEUg7Y",
        "outputId": "34b3ed31-7b63-410c-b0a8-a3357e160c80"
      },
      "execution_count": 120,
      "outputs": [
        {
          "output_type": "stream",
          "name": "stdout",
          "text": [
            "['#somethingbig', '#happeningsoon', '#2017', '#feel_it_in_my_soul', '#numberswork1337']\n"
          ]
        }
      ]
    },
    {
      "cell_type": "code",
      "source": [
        "# mention @\n",
        "test_mention = \"@beggining This is a @with.dot of some cool #features that @under_score be useful but don't. look at this email@address.ignored @mention! @damm/bro make love @@ not @@@asdfaaf\"\n",
        "MENTION_REGEX = r\"\\s([@][\\w_-]+)\"\n",
        "mention_matches = re.findall(MENTION_REGEX, test_mention)\n",
        "print(mention_matches)"
      ],
      "metadata": {
        "colab": {
          "base_uri": "https://localhost:8080/"
        },
        "id": "5ZPhv0vDVKVf",
        "outputId": "a7e82c8a-3145-48c0-f473-9b820e818750"
      },
      "execution_count": 121,
      "outputs": [
        {
          "output_type": "stream",
          "name": "stdout",
          "text": [
            "['@with', '@under_score', '@mention', '@damm']\n"
          ]
        }
      ]
    },
    {
      "cell_type": "code",
      "source": [
        "# url google.com\n",
        "test_url = \"\"\"\n",
        "Welcome to RegExr 0.3b, an intuitive tool for learning, writing, and testing Regular Expressions. Key features include: \n",
        "www.google.com\n",
        "* real time results: shows results as you type \n",
        "* code hinting: roll over your expression to see info on specific elements \n",
        "* detailed results: roll over a match to see details & view group info below \n",
        "* built in regex guide: double click entries to insert them into your expression \n",
        "* online & desktop: regexr.com or download the desktop version for Mac, Windows, or Linux \n",
        "* save your expressions: My Saved expressions are saved locally \n",
        "* search Comm https://google.us.edi?34535/534534?dfg=g&fg unity expressions and add your own \n",
        "* create Share Links to send your expressions to co-workers or link to them on Twitter or your blog [ex. http://RegExr.com?2rjl6] \n",
        "\n",
        "Built by gskinner.com with Flex 3 [adobe.com/go/flex] and Spelling Plus Library for text highlighting [gskinner.com/products/spl].\n",
        "\"\"\"\n",
        "URL_REGEX = r\"(?i)\\b((?:https?:(?:/{1,3}|[a-z0-9%])|[a-z0-9.\\-]+[.](?:com|net|org|edu|gov|mil|aero|asia|biz|cat|coop|info|int|jobs|mobi|museum|name|post|pro|tel|travel|xxx|ac|ad|ae|af|ag|ai|al|am|an|ao|aq|ar|as|at|au|aw|ax|az|ba|bb|bd|be|bf|bg|bh|bi|bj|bm|bn|bo|br|bs|bt|bv|bw|by|bz|ca|cc|cd|cf|cg|ch|ci|ck|cl|cm|cn|co|cr|cs|cu|cv|cx|cy|cz|dd|de|dj|dk|dm|do|dz|ec|ee|eg|eh|er|es|et|eu|fi|fj|fk|fm|fo|fr|ga|gb|gd|ge|gf|gg|gh|gi|gl|gm|gn|gp|gq|gr|gs|gt|gu|gw|gy|hk|hm|hn|hr|ht|hu|id|ie|il|im|in|io|iq|ir|is|it|je|jm|jo|jp|ke|kg|kh|ki|km|kn|kp|kr|kw|ky|kz|la|lb|lc|li|lk|lr|ls|lt|lu|lv|ly|ma|mc|md|me|mg|mh|mk|ml|mm|mn|mo|mp|mq|mr|ms|mt|mu|mv|mw|mx|my|mz|na|nc|ne|nf|ng|ni|nl|no|np|nr|nu|nz|om|pa|pe|pf|pg|ph|pk|pl|pm|pn|pr|ps|pt|pw|py|qa|re|ro|rs|ru|rw|sa|sb|sc|sd|se|sg|sh|si|sj|Ja|sk|sl|sm|sn|so|sr|ss|st|su|sv|sx|sy|sz|tc|td|tf|tg|th|tj|tk|tl|tm|tn|to|tp|tr|tt|tv|tw|tz|ua|ug|uk|us|uy|uz|va|vc|ve|vg|vi|vn|vu|wf|ws|ye|yt|yu|za|zm|zw)/)(?:[^\\s()<>{}\\[\\]]+|\\([^\\s()]*?\\([^\\s()]+\\)[^\\s()]*?\\)|\\([^\\s]+?\\))+(?:\\([^\\s()]*?\\([^\\s()]+\\)[^\\s()]*?\\)|\\([^\\s]+?\\)|[^\\s`!()\\[\\]{};:'\\\".,<>?«»“”‘’])|(?:(?<!@)[a-z0-9]+(?:[.\\-][a-z0-9]+)*[.](?:com|net|org|edu|gov|mil|aero|asia|biz|cat|coop|info|int|jobs|mobi|museum|name|post|pro|tel|travel|xxx|ac|ad|ae|af|ag|ai|al|am|an|ao|aq|ar|as|at|au|aw|ax|az|ba|bb|bd|be|bf|bg|bh|bi|bj|bm|bn|bo|br|bs|bt|bv|bw|by|bz|ca|cc|cd|cf|cg|ch|ci|ck|cl|cm|cn|co|cr|cs|cu|cv|cx|cy|cz|dd|de|dj|dk|dm|do|dz|ec|ee|eg|eh|er|es|et|eu|fi|fj|fk|fm|fo|fr|ga|gb|gd|ge|gf|gg|gh|gi|gl|gm|gn|gp|gq|gr|gs|gt|gu|gw|gy|hk|hm|hn|hr|ht|hu|id|ie|il|im|in|io|iq|ir|is|it|je|jm|jo|jp|ke|kg|kh|ki|km|kn|kp|kr|kw|ky|kz|la|lb|lc|li|lk|lr|ls|lt|lu|lv|ly|ma|mc|md|me|mg|mh|mk|ml|mm|mn|mo|mp|mq|mr|ms|mt|mu|mv|mw|mx|my|mz|na|nc|ne|nf|ng|ni|nl|no|np|nr|nu|nz|om|pa|pe|pf|pg|ph|pk|pl|pm|pn|pr|ps|pt|pw|py|qa|re|ro|rs|ru|rw|sa|sb|sc|sd|se|sg|sh|si|sj|Ja|sk|sl|sm|sn|so|sr|ss|st|su|sv|sx|sy|sz|tc|td|tf|tg|th|tj|tk|tl|tm|tn|to|tp|tr|tt|tv|tw|tz|ua|ug|uk|us|uy|uz|va|vc|ve|vg|vi|vn|vu|wf|ws|ye|yt|yu|za|zm|zw)\\b/?(?!@)))\"\n",
        "url_matches = re.findall(URL_REGEX, test_url)\n",
        "print(url_matches)"
      ],
      "metadata": {
        "colab": {
          "base_uri": "https://localhost:8080/"
        },
        "id": "6wDhCIlGWbBC",
        "outputId": "3b3541ed-cc22-42ac-d694-3a0c31ea4fa7"
      },
      "execution_count": 122,
      "outputs": [
        {
          "output_type": "stream",
          "name": "stdout",
          "text": [
            "['www.google.com', 'regexr.com', 'https://google.us.edi?34535/534534?dfg=g&fg', 'http://RegExr.com?2rjl6', 'gskinner.com', 'adobe.com/go/flex', 'gskinner.com/products/spl']\n"
          ]
        }
      ]
    },
    {
      "cell_type": "markdown",
      "source": [
        "## NOTE\n",
        "Missing feature:\n",
        "- favorites of a tweet\n",
        "- retweets of a tweet\n",
        "- avg_tweet_same_time (no timestamp)"
      ],
      "metadata": {
        "id": "Vj8f2C48T77T"
      }
    },
    {
      "cell_type": "code",
      "source": [
        "def feature_extraction(df):\n",
        "  tweet_series = df['tweet'].astype(str)\n",
        "\n",
        "  df = df.assign(num_hashtags = tweet_series.apply(lambda x: len(re.findall(HASHTAG_REGEX, x))))\n",
        "  df = df.assign(num_mentions = tweet_series.apply(lambda x: len(re.findall(MENTION_REGEX, x))))\n",
        "  df = df.assign(num_urls = tweet_series.apply(lambda x: len(re.findall(URL_REGEX, x))))\n",
        "  df_grouped = df.groupby('ID')\n",
        "  df_return = pd.DataFrame()\n",
        "\n",
        "  character_per_tweet = pd.DataFrame({\n",
        "      'text_len': tweet_series.apply(lambda x: len(x))\n",
        "  })\n",
        "  character_per_tweet['user_id'] = df['ID']\n",
        "  character_per_tweet = character_per_tweet.groupby('user_id')['text_len']\n",
        "  df_return['avg_characters'] = character_per_tweet.mean()\n",
        "  df_return['std_characters'] = character_per_tweet.std()\n",
        "\n",
        "  df_return['avg_hashtags'] = df_grouped['num_hashtags'].mean()\n",
        "  df_return['avg_mentions'] = df_grouped['num_mentions'].mean()\n",
        "  df_return['avg_urls'] = df_grouped['num_urls'].mean()\n",
        "\n",
        "  # df_return['favorites_received'] = df_grouped['favorite_count'].sum()\n",
        "  # df_return['retweets_received'] = df_grouped['retweet_count'].mean()\n",
        "\n",
        "  # df_return['avg_tweet_same_time'] =df.groupby(['user_id', 'timestamp'])['timestamp'].agg(['count']).groupby('user_id').mean()\n",
        "  df_return['label'] = df_grouped['label'].apply(lambda x: x.unique()[0])\n",
        "  return df_return"
      ],
      "metadata": {
        "id": "vkn5EgxDSNmN"
      },
      "execution_count": 123,
      "outputs": []
    },
    {
      "cell_type": "code",
      "source": [
        "feature_time = time.time()\n",
        "df_dev = feature_extraction(df_tweet_dev)\n",
        "end_feature_time = time.time()\n",
        "print('Time: ', end_feature_time - feature_time)\n",
        "print('shape: ', df_dev.shape)\n",
        "df_dev.head()"
      ],
      "metadata": {
        "colab": {
          "base_uri": "https://localhost:8080/",
          "height": 316
        },
        "id": "i0DVM9knZtOa",
        "outputId": "b45eae4c-3a8b-431d-d4ca-96f06583d431"
      },
      "execution_count": 124,
      "outputs": [
        {
          "output_type": "stream",
          "name": "stdout",
          "text": [
            "Time:  12.350919485092163\n",
            "shape:  (2365, 6)\n"
          ]
        },
        {
          "output_type": "execute_result",
          "data": {
            "text/html": [
              "\n",
              "  <div id=\"df-3533f7ae-d767-4e1e-b552-a724d7993ea4\">\n",
              "    <div class=\"colab-df-container\">\n",
              "      <div>\n",
              "<style scoped>\n",
              "    .dataframe tbody tr th:only-of-type {\n",
              "        vertical-align: middle;\n",
              "    }\n",
              "\n",
              "    .dataframe tbody tr th {\n",
              "        vertical-align: top;\n",
              "    }\n",
              "\n",
              "    .dataframe thead th {\n",
              "        text-align: right;\n",
              "    }\n",
              "</style>\n",
              "<table border=\"1\" class=\"dataframe\">\n",
              "  <thead>\n",
              "    <tr style=\"text-align: right;\">\n",
              "      <th></th>\n",
              "      <th>avg_characters</th>\n",
              "      <th>std_characters</th>\n",
              "      <th>avg_hashtags</th>\n",
              "      <th>avg_mentions</th>\n",
              "      <th>avg_urls</th>\n",
              "      <th>label</th>\n",
              "    </tr>\n",
              "    <tr>\n",
              "      <th>user_id</th>\n",
              "      <th></th>\n",
              "      <th></th>\n",
              "      <th></th>\n",
              "      <th></th>\n",
              "      <th></th>\n",
              "      <th></th>\n",
              "    </tr>\n",
              "  </thead>\n",
              "  <tbody>\n",
              "    <tr>\n",
              "      <th>3382</th>\n",
              "      <td>108.235000</td>\n",
              "      <td>47.623627</td>\n",
              "      <td>0.01</td>\n",
              "      <td>1.045</td>\n",
              "      <td>0.235000</td>\n",
              "      <td>0</td>\n",
              "    </tr>\n",
              "    <tr>\n",
              "      <th>13348</th>\n",
              "      <td>142.695000</td>\n",
              "      <td>84.269381</td>\n",
              "      <td>0.01</td>\n",
              "      <td>1.075</td>\n",
              "      <td>0.215000</td>\n",
              "      <td>0</td>\n",
              "    </tr>\n",
              "    <tr>\n",
              "      <th>759251</th>\n",
              "      <td>218.245000</td>\n",
              "      <td>55.118100</td>\n",
              "      <td>0.00</td>\n",
              "      <td>0.150</td>\n",
              "      <td>1.120000</td>\n",
              "      <td>0</td>\n",
              "    </tr>\n",
              "    <tr>\n",
              "      <th>813286</th>\n",
              "      <td>224.055000</td>\n",
              "      <td>67.038217</td>\n",
              "      <td>0.00</td>\n",
              "      <td>0.320</td>\n",
              "      <td>0.805000</td>\n",
              "      <td>0</td>\n",
              "    </tr>\n",
              "    <tr>\n",
              "      <th>994431</th>\n",
              "      <td>78.642857</td>\n",
              "      <td>44.271238</td>\n",
              "      <td>0.00</td>\n",
              "      <td>0.000</td>\n",
              "      <td>0.119048</td>\n",
              "      <td>0</td>\n",
              "    </tr>\n",
              "  </tbody>\n",
              "</table>\n",
              "</div>\n",
              "      <button class=\"colab-df-convert\" onclick=\"convertToInteractive('df-3533f7ae-d767-4e1e-b552-a724d7993ea4')\"\n",
              "              title=\"Convert this dataframe to an interactive table.\"\n",
              "              style=\"display:none;\">\n",
              "        \n",
              "  <svg xmlns=\"http://www.w3.org/2000/svg\" height=\"24px\"viewBox=\"0 0 24 24\"\n",
              "       width=\"24px\">\n",
              "    <path d=\"M0 0h24v24H0V0z\" fill=\"none\"/>\n",
              "    <path d=\"M18.56 5.44l.94 2.06.94-2.06 2.06-.94-2.06-.94-.94-2.06-.94 2.06-2.06.94zm-11 1L8.5 8.5l.94-2.06 2.06-.94-2.06-.94L8.5 2.5l-.94 2.06-2.06.94zm10 10l.94 2.06.94-2.06 2.06-.94-2.06-.94-.94-2.06-.94 2.06-2.06.94z\"/><path d=\"M17.41 7.96l-1.37-1.37c-.4-.4-.92-.59-1.43-.59-.52 0-1.04.2-1.43.59L10.3 9.45l-7.72 7.72c-.78.78-.78 2.05 0 2.83L4 21.41c.39.39.9.59 1.41.59.51 0 1.02-.2 1.41-.59l7.78-7.78 2.81-2.81c.8-.78.8-2.07 0-2.86zM5.41 20L4 18.59l7.72-7.72 1.47 1.35L5.41 20z\"/>\n",
              "  </svg>\n",
              "      </button>\n",
              "      \n",
              "  <style>\n",
              "    .colab-df-container {\n",
              "      display:flex;\n",
              "      flex-wrap:wrap;\n",
              "      gap: 12px;\n",
              "    }\n",
              "\n",
              "    .colab-df-convert {\n",
              "      background-color: #E8F0FE;\n",
              "      border: none;\n",
              "      border-radius: 50%;\n",
              "      cursor: pointer;\n",
              "      display: none;\n",
              "      fill: #1967D2;\n",
              "      height: 32px;\n",
              "      padding: 0 0 0 0;\n",
              "      width: 32px;\n",
              "    }\n",
              "\n",
              "    .colab-df-convert:hover {\n",
              "      background-color: #E2EBFA;\n",
              "      box-shadow: 0px 1px 2px rgba(60, 64, 67, 0.3), 0px 1px 3px 1px rgba(60, 64, 67, 0.15);\n",
              "      fill: #174EA6;\n",
              "    }\n",
              "\n",
              "    [theme=dark] .colab-df-convert {\n",
              "      background-color: #3B4455;\n",
              "      fill: #D2E3FC;\n",
              "    }\n",
              "\n",
              "    [theme=dark] .colab-df-convert:hover {\n",
              "      background-color: #434B5C;\n",
              "      box-shadow: 0px 1px 3px 1px rgba(0, 0, 0, 0.15);\n",
              "      filter: drop-shadow(0px 1px 2px rgba(0, 0, 0, 0.3));\n",
              "      fill: #FFFFFF;\n",
              "    }\n",
              "  </style>\n",
              "\n",
              "      <script>\n",
              "        const buttonEl =\n",
              "          document.querySelector('#df-3533f7ae-d767-4e1e-b552-a724d7993ea4 button.colab-df-convert');\n",
              "        buttonEl.style.display =\n",
              "          google.colab.kernel.accessAllowed ? 'block' : 'none';\n",
              "\n",
              "        async function convertToInteractive(key) {\n",
              "          const element = document.querySelector('#df-3533f7ae-d767-4e1e-b552-a724d7993ea4');\n",
              "          const dataTable =\n",
              "            await google.colab.kernel.invokeFunction('convertToInteractive',\n",
              "                                                     [key], {});\n",
              "          if (!dataTable) return;\n",
              "\n",
              "          const docLinkHtml = 'Like what you see? Visit the ' +\n",
              "            '<a target=\"_blank\" href=https://colab.research.google.com/notebooks/data_table.ipynb>data table notebook</a>'\n",
              "            + ' to learn more about interactive tables.';\n",
              "          element.innerHTML = '';\n",
              "          dataTable['output_type'] = 'display_data';\n",
              "          await google.colab.output.renderOutput(dataTable, element);\n",
              "          const docLink = document.createElement('div');\n",
              "          docLink.innerHTML = docLinkHtml;\n",
              "          element.appendChild(docLink);\n",
              "        }\n",
              "      </script>\n",
              "    </div>\n",
              "  </div>\n",
              "  "
            ],
            "text/plain": [
              "         avg_characters  std_characters  ...  avg_urls  label\n",
              "user_id                                  ...                 \n",
              "3382         108.235000       47.623627  ...  0.235000      0\n",
              "13348        142.695000       84.269381  ...  0.215000      0\n",
              "759251       218.245000       55.118100  ...  1.120000      0\n",
              "813286       224.055000       67.038217  ...  0.805000      0\n",
              "994431        78.642857       44.271238  ...  0.119048      0\n",
              "\n",
              "[5 rows x 6 columns]"
            ]
          },
          "metadata": {},
          "execution_count": 124
        }
      ]
    },
    {
      "cell_type": "code",
      "source": [
        "feature_time = time.time()\n",
        "df_train = feature_extraction(df_tweet_train)\n",
        "end_feature_time = time.time()\n",
        "print('Time: ', end_feature_time - feature_time)\n",
        "print('shape: ', df_train.shape)\n",
        "df_train.head()"
      ],
      "metadata": {
        "colab": {
          "base_uri": "https://localhost:8080/",
          "height": 316
        },
        "id": "_sut8KVAQthQ",
        "outputId": "27f02dfc-4d2e-4e6a-a78e-8d8d0ab497c5"
      },
      "execution_count": 125,
      "outputs": [
        {
          "output_type": "stream",
          "name": "stdout",
          "text": [
            "Time:  42.549440145492554\n",
            "shape:  (8278, 6)\n"
          ]
        },
        {
          "output_type": "execute_result",
          "data": {
            "text/html": [
              "\n",
              "  <div id=\"df-df26cc6f-e565-4e6a-8925-d716cd2b3e82\">\n",
              "    <div class=\"colab-df-container\">\n",
              "      <div>\n",
              "<style scoped>\n",
              "    .dataframe tbody tr th:only-of-type {\n",
              "        vertical-align: middle;\n",
              "    }\n",
              "\n",
              "    .dataframe tbody tr th {\n",
              "        vertical-align: top;\n",
              "    }\n",
              "\n",
              "    .dataframe thead th {\n",
              "        text-align: right;\n",
              "    }\n",
              "</style>\n",
              "<table border=\"1\" class=\"dataframe\">\n",
              "  <thead>\n",
              "    <tr style=\"text-align: right;\">\n",
              "      <th></th>\n",
              "      <th>avg_characters</th>\n",
              "      <th>std_characters</th>\n",
              "      <th>avg_hashtags</th>\n",
              "      <th>avg_mentions</th>\n",
              "      <th>avg_urls</th>\n",
              "      <th>label</th>\n",
              "    </tr>\n",
              "    <tr>\n",
              "      <th>user_id</th>\n",
              "      <th></th>\n",
              "      <th></th>\n",
              "      <th></th>\n",
              "      <th></th>\n",
              "      <th></th>\n",
              "      <th></th>\n",
              "    </tr>\n",
              "  </thead>\n",
              "  <tbody>\n",
              "    <tr>\n",
              "      <th>12</th>\n",
              "      <td>112.140704</td>\n",
              "      <td>59.040307</td>\n",
              "      <td>0.040201</td>\n",
              "      <td>1.120603</td>\n",
              "      <td>0.39196</td>\n",
              "      <td>0</td>\n",
              "    </tr>\n",
              "    <tr>\n",
              "      <th>1605</th>\n",
              "      <td>148.205000</td>\n",
              "      <td>72.954470</td>\n",
              "      <td>0.005000</td>\n",
              "      <td>0.330000</td>\n",
              "      <td>0.25000</td>\n",
              "      <td>0</td>\n",
              "    </tr>\n",
              "    <tr>\n",
              "      <th>10350</th>\n",
              "      <td>72.890000</td>\n",
              "      <td>45.363943</td>\n",
              "      <td>0.000000</td>\n",
              "      <td>0.405000</td>\n",
              "      <td>0.22500</td>\n",
              "      <td>0</td>\n",
              "    </tr>\n",
              "    <tr>\n",
              "      <th>10441</th>\n",
              "      <td>115.005000</td>\n",
              "      <td>62.810275</td>\n",
              "      <td>0.150000</td>\n",
              "      <td>1.210000</td>\n",
              "      <td>0.60000</td>\n",
              "      <td>1</td>\n",
              "    </tr>\n",
              "    <tr>\n",
              "      <th>12830</th>\n",
              "      <td>170.585000</td>\n",
              "      <td>69.144033</td>\n",
              "      <td>0.555000</td>\n",
              "      <td>0.040000</td>\n",
              "      <td>1.23000</td>\n",
              "      <td>0</td>\n",
              "    </tr>\n",
              "  </tbody>\n",
              "</table>\n",
              "</div>\n",
              "      <button class=\"colab-df-convert\" onclick=\"convertToInteractive('df-df26cc6f-e565-4e6a-8925-d716cd2b3e82')\"\n",
              "              title=\"Convert this dataframe to an interactive table.\"\n",
              "              style=\"display:none;\">\n",
              "        \n",
              "  <svg xmlns=\"http://www.w3.org/2000/svg\" height=\"24px\"viewBox=\"0 0 24 24\"\n",
              "       width=\"24px\">\n",
              "    <path d=\"M0 0h24v24H0V0z\" fill=\"none\"/>\n",
              "    <path d=\"M18.56 5.44l.94 2.06.94-2.06 2.06-.94-2.06-.94-.94-2.06-.94 2.06-2.06.94zm-11 1L8.5 8.5l.94-2.06 2.06-.94-2.06-.94L8.5 2.5l-.94 2.06-2.06.94zm10 10l.94 2.06.94-2.06 2.06-.94-2.06-.94-.94-2.06-.94 2.06-2.06.94z\"/><path d=\"M17.41 7.96l-1.37-1.37c-.4-.4-.92-.59-1.43-.59-.52 0-1.04.2-1.43.59L10.3 9.45l-7.72 7.72c-.78.78-.78 2.05 0 2.83L4 21.41c.39.39.9.59 1.41.59.51 0 1.02-.2 1.41-.59l7.78-7.78 2.81-2.81c.8-.78.8-2.07 0-2.86zM5.41 20L4 18.59l7.72-7.72 1.47 1.35L5.41 20z\"/>\n",
              "  </svg>\n",
              "      </button>\n",
              "      \n",
              "  <style>\n",
              "    .colab-df-container {\n",
              "      display:flex;\n",
              "      flex-wrap:wrap;\n",
              "      gap: 12px;\n",
              "    }\n",
              "\n",
              "    .colab-df-convert {\n",
              "      background-color: #E8F0FE;\n",
              "      border: none;\n",
              "      border-radius: 50%;\n",
              "      cursor: pointer;\n",
              "      display: none;\n",
              "      fill: #1967D2;\n",
              "      height: 32px;\n",
              "      padding: 0 0 0 0;\n",
              "      width: 32px;\n",
              "    }\n",
              "\n",
              "    .colab-df-convert:hover {\n",
              "      background-color: #E2EBFA;\n",
              "      box-shadow: 0px 1px 2px rgba(60, 64, 67, 0.3), 0px 1px 3px 1px rgba(60, 64, 67, 0.15);\n",
              "      fill: #174EA6;\n",
              "    }\n",
              "\n",
              "    [theme=dark] .colab-df-convert {\n",
              "      background-color: #3B4455;\n",
              "      fill: #D2E3FC;\n",
              "    }\n",
              "\n",
              "    [theme=dark] .colab-df-convert:hover {\n",
              "      background-color: #434B5C;\n",
              "      box-shadow: 0px 1px 3px 1px rgba(0, 0, 0, 0.15);\n",
              "      filter: drop-shadow(0px 1px 2px rgba(0, 0, 0, 0.3));\n",
              "      fill: #FFFFFF;\n",
              "    }\n",
              "  </style>\n",
              "\n",
              "      <script>\n",
              "        const buttonEl =\n",
              "          document.querySelector('#df-df26cc6f-e565-4e6a-8925-d716cd2b3e82 button.colab-df-convert');\n",
              "        buttonEl.style.display =\n",
              "          google.colab.kernel.accessAllowed ? 'block' : 'none';\n",
              "\n",
              "        async function convertToInteractive(key) {\n",
              "          const element = document.querySelector('#df-df26cc6f-e565-4e6a-8925-d716cd2b3e82');\n",
              "          const dataTable =\n",
              "            await google.colab.kernel.invokeFunction('convertToInteractive',\n",
              "                                                     [key], {});\n",
              "          if (!dataTable) return;\n",
              "\n",
              "          const docLinkHtml = 'Like what you see? Visit the ' +\n",
              "            '<a target=\"_blank\" href=https://colab.research.google.com/notebooks/data_table.ipynb>data table notebook</a>'\n",
              "            + ' to learn more about interactive tables.';\n",
              "          element.innerHTML = '';\n",
              "          dataTable['output_type'] = 'display_data';\n",
              "          await google.colab.output.renderOutput(dataTable, element);\n",
              "          const docLink = document.createElement('div');\n",
              "          docLink.innerHTML = docLinkHtml;\n",
              "          element.appendChild(docLink);\n",
              "        }\n",
              "      </script>\n",
              "    </div>\n",
              "  </div>\n",
              "  "
            ],
            "text/plain": [
              "         avg_characters  std_characters  ...  avg_urls  label\n",
              "user_id                                  ...                 \n",
              "12           112.140704       59.040307  ...   0.39196      0\n",
              "1605         148.205000       72.954470  ...   0.25000      0\n",
              "10350         72.890000       45.363943  ...   0.22500      0\n",
              "10441        115.005000       62.810275  ...   0.60000      1\n",
              "12830        170.585000       69.144033  ...   1.23000      0\n",
              "\n",
              "[5 rows x 6 columns]"
            ]
          },
          "metadata": {},
          "execution_count": 125
        }
      ]
    },
    {
      "cell_type": "code",
      "source": [
        "feature_time = time.time()\n",
        "df_test = feature_extraction(df_tweet_test)\n",
        "end_feature_time = time.time()\n",
        "print('Time: ', end_feature_time - feature_time)\n",
        "print('shape: ', df_test.shape)\n",
        "df_test.head()"
      ],
      "metadata": {
        "colab": {
          "base_uri": "https://localhost:8080/",
          "height": 316
        },
        "id": "Jihu72LvUEHP",
        "outputId": "4933fc02-54ce-420f-bc28-a4f7cf303f02"
      },
      "execution_count": 126,
      "outputs": [
        {
          "output_type": "stream",
          "name": "stdout",
          "text": [
            "Time:  6.135536193847656\n",
            "shape:  (1183, 6)\n"
          ]
        },
        {
          "output_type": "execute_result",
          "data": {
            "text/html": [
              "\n",
              "  <div id=\"df-6177af70-d797-4855-8f73-34dd5c278273\">\n",
              "    <div class=\"colab-df-container\">\n",
              "      <div>\n",
              "<style scoped>\n",
              "    .dataframe tbody tr th:only-of-type {\n",
              "        vertical-align: middle;\n",
              "    }\n",
              "\n",
              "    .dataframe tbody tr th {\n",
              "        vertical-align: top;\n",
              "    }\n",
              "\n",
              "    .dataframe thead th {\n",
              "        text-align: right;\n",
              "    }\n",
              "</style>\n",
              "<table border=\"1\" class=\"dataframe\">\n",
              "  <thead>\n",
              "    <tr style=\"text-align: right;\">\n",
              "      <th></th>\n",
              "      <th>avg_characters</th>\n",
              "      <th>std_characters</th>\n",
              "      <th>avg_hashtags</th>\n",
              "      <th>avg_mentions</th>\n",
              "      <th>avg_urls</th>\n",
              "      <th>label</th>\n",
              "    </tr>\n",
              "    <tr>\n",
              "      <th>user_id</th>\n",
              "      <th></th>\n",
              "      <th></th>\n",
              "      <th></th>\n",
              "      <th></th>\n",
              "      <th></th>\n",
              "      <th></th>\n",
              "    </tr>\n",
              "  </thead>\n",
              "  <tbody>\n",
              "    <tr>\n",
              "      <th>691353</th>\n",
              "      <td>129.100503</td>\n",
              "      <td>63.987451</td>\n",
              "      <td>0.090452</td>\n",
              "      <td>1.366834</td>\n",
              "      <td>0.537688</td>\n",
              "      <td>0</td>\n",
              "    </tr>\n",
              "    <tr>\n",
              "      <th>1068831</th>\n",
              "      <td>90.740000</td>\n",
              "      <td>17.731453</td>\n",
              "      <td>0.000000</td>\n",
              "      <td>0.030000</td>\n",
              "      <td>0.995000</td>\n",
              "      <td>0</td>\n",
              "    </tr>\n",
              "    <tr>\n",
              "      <th>1367531</th>\n",
              "      <td>26.570000</td>\n",
              "      <td>14.007001</td>\n",
              "      <td>0.000000</td>\n",
              "      <td>0.000000</td>\n",
              "      <td>1.000000</td>\n",
              "      <td>0</td>\n",
              "    </tr>\n",
              "    <tr>\n",
              "      <th>5286532</th>\n",
              "      <td>122.315000</td>\n",
              "      <td>75.405209</td>\n",
              "      <td>0.205000</td>\n",
              "      <td>0.485000</td>\n",
              "      <td>0.250000</td>\n",
              "      <td>0</td>\n",
              "    </tr>\n",
              "    <tr>\n",
              "      <th>5894372</th>\n",
              "      <td>126.545000</td>\n",
              "      <td>50.115525</td>\n",
              "      <td>0.010000</td>\n",
              "      <td>0.445000</td>\n",
              "      <td>0.920000</td>\n",
              "      <td>0</td>\n",
              "    </tr>\n",
              "  </tbody>\n",
              "</table>\n",
              "</div>\n",
              "      <button class=\"colab-df-convert\" onclick=\"convertToInteractive('df-6177af70-d797-4855-8f73-34dd5c278273')\"\n",
              "              title=\"Convert this dataframe to an interactive table.\"\n",
              "              style=\"display:none;\">\n",
              "        \n",
              "  <svg xmlns=\"http://www.w3.org/2000/svg\" height=\"24px\"viewBox=\"0 0 24 24\"\n",
              "       width=\"24px\">\n",
              "    <path d=\"M0 0h24v24H0V0z\" fill=\"none\"/>\n",
              "    <path d=\"M18.56 5.44l.94 2.06.94-2.06 2.06-.94-2.06-.94-.94-2.06-.94 2.06-2.06.94zm-11 1L8.5 8.5l.94-2.06 2.06-.94-2.06-.94L8.5 2.5l-.94 2.06-2.06.94zm10 10l.94 2.06.94-2.06 2.06-.94-2.06-.94-.94-2.06-.94 2.06-2.06.94z\"/><path d=\"M17.41 7.96l-1.37-1.37c-.4-.4-.92-.59-1.43-.59-.52 0-1.04.2-1.43.59L10.3 9.45l-7.72 7.72c-.78.78-.78 2.05 0 2.83L4 21.41c.39.39.9.59 1.41.59.51 0 1.02-.2 1.41-.59l7.78-7.78 2.81-2.81c.8-.78.8-2.07 0-2.86zM5.41 20L4 18.59l7.72-7.72 1.47 1.35L5.41 20z\"/>\n",
              "  </svg>\n",
              "      </button>\n",
              "      \n",
              "  <style>\n",
              "    .colab-df-container {\n",
              "      display:flex;\n",
              "      flex-wrap:wrap;\n",
              "      gap: 12px;\n",
              "    }\n",
              "\n",
              "    .colab-df-convert {\n",
              "      background-color: #E8F0FE;\n",
              "      border: none;\n",
              "      border-radius: 50%;\n",
              "      cursor: pointer;\n",
              "      display: none;\n",
              "      fill: #1967D2;\n",
              "      height: 32px;\n",
              "      padding: 0 0 0 0;\n",
              "      width: 32px;\n",
              "    }\n",
              "\n",
              "    .colab-df-convert:hover {\n",
              "      background-color: #E2EBFA;\n",
              "      box-shadow: 0px 1px 2px rgba(60, 64, 67, 0.3), 0px 1px 3px 1px rgba(60, 64, 67, 0.15);\n",
              "      fill: #174EA6;\n",
              "    }\n",
              "\n",
              "    [theme=dark] .colab-df-convert {\n",
              "      background-color: #3B4455;\n",
              "      fill: #D2E3FC;\n",
              "    }\n",
              "\n",
              "    [theme=dark] .colab-df-convert:hover {\n",
              "      background-color: #434B5C;\n",
              "      box-shadow: 0px 1px 3px 1px rgba(0, 0, 0, 0.15);\n",
              "      filter: drop-shadow(0px 1px 2px rgba(0, 0, 0, 0.3));\n",
              "      fill: #FFFFFF;\n",
              "    }\n",
              "  </style>\n",
              "\n",
              "      <script>\n",
              "        const buttonEl =\n",
              "          document.querySelector('#df-6177af70-d797-4855-8f73-34dd5c278273 button.colab-df-convert');\n",
              "        buttonEl.style.display =\n",
              "          google.colab.kernel.accessAllowed ? 'block' : 'none';\n",
              "\n",
              "        async function convertToInteractive(key) {\n",
              "          const element = document.querySelector('#df-6177af70-d797-4855-8f73-34dd5c278273');\n",
              "          const dataTable =\n",
              "            await google.colab.kernel.invokeFunction('convertToInteractive',\n",
              "                                                     [key], {});\n",
              "          if (!dataTable) return;\n",
              "\n",
              "          const docLinkHtml = 'Like what you see? Visit the ' +\n",
              "            '<a target=\"_blank\" href=https://colab.research.google.com/notebooks/data_table.ipynb>data table notebook</a>'\n",
              "            + ' to learn more about interactive tables.';\n",
              "          element.innerHTML = '';\n",
              "          dataTable['output_type'] = 'display_data';\n",
              "          await google.colab.output.renderOutput(dataTable, element);\n",
              "          const docLink = document.createElement('div');\n",
              "          docLink.innerHTML = docLinkHtml;\n",
              "          element.appendChild(docLink);\n",
              "        }\n",
              "      </script>\n",
              "    </div>\n",
              "  </div>\n",
              "  "
            ],
            "text/plain": [
              "         avg_characters  std_characters  ...  avg_urls  label\n",
              "user_id                                  ...                 \n",
              "691353       129.100503       63.987451  ...  0.537688      0\n",
              "1068831       90.740000       17.731453  ...  0.995000      0\n",
              "1367531       26.570000       14.007001  ...  1.000000      0\n",
              "5286532      122.315000       75.405209  ...  0.250000      0\n",
              "5894372      126.545000       50.115525  ...  0.920000      0\n",
              "\n",
              "[5 rows x 6 columns]"
            ]
          },
          "metadata": {},
          "execution_count": 126
        }
      ]
    },
    {
      "cell_type": "markdown",
      "source": [
        "### Check and cleanup"
      ],
      "metadata": {
        "id": "5hJSSlHQUXSM"
      }
    },
    {
      "cell_type": "code",
      "source": [
        "outputs = [df_dev, df_train, df_test]"
      ],
      "metadata": {
        "id": "-Y8KxbQ8UPzi"
      },
      "execution_count": 127,
      "outputs": []
    },
    {
      "cell_type": "code",
      "source": [
        "for df in outputs:\n",
        "  display(df.info())"
      ],
      "metadata": {
        "colab": {
          "base_uri": "https://localhost:8080/",
          "height": 746
        },
        "id": "JViR9pzmUbfQ",
        "outputId": "8ee4c12d-03c0-4626-874f-a4c28e63cd37"
      },
      "execution_count": 128,
      "outputs": [
        {
          "output_type": "stream",
          "name": "stdout",
          "text": [
            "<class 'pandas.core.frame.DataFrame'>\n",
            "Int64Index: 2365 entries, 3382 to 1301535104989265920\n",
            "Data columns (total 6 columns):\n",
            " #   Column          Non-Null Count  Dtype  \n",
            "---  ------          --------------  -----  \n",
            " 0   avg_characters  2365 non-null   float64\n",
            " 1   std_characters  2322 non-null   float64\n",
            " 2   avg_hashtags    2365 non-null   float64\n",
            " 3   avg_mentions    2365 non-null   float64\n",
            " 4   avg_urls        2365 non-null   float64\n",
            " 5   label           2365 non-null   int64  \n",
            "dtypes: float64(5), int64(1)\n",
            "memory usage: 129.3 KB\n"
          ]
        },
        {
          "output_type": "display_data",
          "data": {
            "text/plain": [
              "None"
            ]
          },
          "metadata": {}
        },
        {
          "output_type": "stream",
          "name": "stdout",
          "text": [
            "<class 'pandas.core.frame.DataFrame'>\n",
            "Int64Index: 8278 entries, 12 to 1301790704050593792\n",
            "Data columns (total 6 columns):\n",
            " #   Column          Non-Null Count  Dtype  \n",
            "---  ------          --------------  -----  \n",
            " 0   avg_characters  8278 non-null   float64\n",
            " 1   std_characters  8135 non-null   float64\n",
            " 2   avg_hashtags    8278 non-null   float64\n",
            " 3   avg_mentions    8278 non-null   float64\n",
            " 4   avg_urls        8278 non-null   float64\n",
            " 5   label           8278 non-null   int64  \n",
            "dtypes: float64(5), int64(1)\n",
            "memory usage: 452.7 KB\n"
          ]
        },
        {
          "output_type": "display_data",
          "data": {
            "text/plain": [
              "None"
            ]
          },
          "metadata": {}
        },
        {
          "output_type": "stream",
          "name": "stdout",
          "text": [
            "<class 'pandas.core.frame.DataFrame'>\n",
            "Int64Index: 1183 entries, 691353 to 1301559664690319360\n",
            "Data columns (total 6 columns):\n",
            " #   Column          Non-Null Count  Dtype  \n",
            "---  ------          --------------  -----  \n",
            " 0   avg_characters  1183 non-null   float64\n",
            " 1   std_characters  1153 non-null   float64\n",
            " 2   avg_hashtags    1183 non-null   float64\n",
            " 3   avg_mentions    1183 non-null   float64\n",
            " 4   avg_urls        1183 non-null   float64\n",
            " 5   label           1183 non-null   int64  \n",
            "dtypes: float64(5), int64(1)\n",
            "memory usage: 64.7 KB\n"
          ]
        },
        {
          "output_type": "display_data",
          "data": {
            "text/plain": [
              "None"
            ]
          },
          "metadata": {}
        }
      ]
    },
    {
      "cell_type": "code",
      "source": [
        "for df in outputs:\n",
        "  display(df.apply(lambda x: x.unique()))"
      ],
      "metadata": {
        "colab": {
          "base_uri": "https://localhost:8080/",
          "height": 381
        },
        "id": "rAmNV7LKUe-R",
        "outputId": "abc37590-db94-4f25-dc2a-06ab057521c3"
      },
      "execution_count": 129,
      "outputs": [
        {
          "output_type": "display_data",
          "data": {
            "text/plain": [
              "avg_characters    [108.235, 142.695, 218.245, 224.055, 78.642857...\n",
              "std_characters    [47.623626742622235, 84.26938126087347, 55.118...\n",
              "avg_hashtags      [0.01, 0.0, 0.005, 0.04, 0.020202020202020204,...\n",
              "avg_mentions      [1.045, 1.075, 0.15, 0.32, 0.0, 0.565, 1.335, ...\n",
              "avg_urls          [0.235, 0.215, 1.12, 0.805, 0.1190476190476190...\n",
              "label                                                        [0, 1]\n",
              "dtype: object"
            ]
          },
          "metadata": {}
        },
        {
          "output_type": "display_data",
          "data": {
            "text/plain": [
              "avg_characters    [112.14070351758794, 148.205, 72.89, 115.005, ...\n",
              "std_characters    [59.040307251153806, 72.95447038217547, 45.363...\n",
              "avg_hashtags      [0.04020100502512563, 0.005, 0.0, 0.15, 0.555,...\n",
              "avg_mentions      [1.120603015075377, 0.33, 0.405, 1.21, 0.04, 0...\n",
              "avg_urls          [0.39195979899497485, 0.25, 0.225, 0.6, 1.23, ...\n",
              "label                                                        [0, 1]\n",
              "dtype: object"
            ]
          },
          "metadata": {}
        },
        {
          "output_type": "display_data",
          "data": {
            "text/plain": [
              "avg_characters    [129.10050251256283, 90.74, 26.57, 122.315, 12...\n",
              "std_characters    [63.987451024674314, 17.731452904670636, 14.00...\n",
              "avg_hashtags      [0.09045226130653267, 0.0, 0.205, 0.01, 0.005,...\n",
              "avg_mentions      [1.3668341708542713, 0.03, 0.0, 0.485, 0.445, ...\n",
              "avg_urls          [0.5376884422110553, 0.995, 1.0, 0.25, 0.92, 0...\n",
              "label                                                        [0, 1]\n",
              "dtype: object"
            ]
          },
          "metadata": {}
        }
      ]
    },
    {
      "cell_type": "code",
      "source": [
        "for df in outputs:\n",
        "  display(df.isin([np.nan, np.inf, -np.inf]).sum())"
      ],
      "metadata": {
        "colab": {
          "base_uri": "https://localhost:8080/",
          "height": 381
        },
        "id": "NXORPccUUoTy",
        "outputId": "d3524384-6b4d-42c9-e069-44f1a5b4d097"
      },
      "execution_count": 130,
      "outputs": [
        {
          "output_type": "display_data",
          "data": {
            "text/plain": [
              "avg_characters     0\n",
              "std_characters    43\n",
              "avg_hashtags       0\n",
              "avg_mentions       0\n",
              "avg_urls           0\n",
              "label              0\n",
              "dtype: int64"
            ]
          },
          "metadata": {}
        },
        {
          "output_type": "display_data",
          "data": {
            "text/plain": [
              "avg_characters      0\n",
              "std_characters    143\n",
              "avg_hashtags        0\n",
              "avg_mentions        0\n",
              "avg_urls            0\n",
              "label               0\n",
              "dtype: int64"
            ]
          },
          "metadata": {}
        },
        {
          "output_type": "display_data",
          "data": {
            "text/plain": [
              "avg_characters     0\n",
              "std_characters    30\n",
              "avg_hashtags       0\n",
              "avg_mentions       0\n",
              "avg_urls           0\n",
              "label              0\n",
              "dtype: int64"
            ]
          },
          "metadata": {}
        }
      ]
    },
    {
      "cell_type": "markdown",
      "source": [
        "### NOTE\n",
        "- As seen above, there are `Nan` values for std\n",
        "- This happends due to the formula of std of sample which has degree of freedom being `N-1`\n",
        "- So if sample only have one value, STD will be `Nan`\n",
        "- Simple solution is to set `Nan` STD as `0`"
      ],
      "metadata": {
        "id": "dQQWYtCgZLCU"
      }
    },
    {
      "cell_type": "markdown",
      "source": [
        "### Fix Nan STD\n",
        "std_characters    "
      ],
      "metadata": {
        "id": "DrF6RzACZiPN"
      }
    },
    {
      "cell_type": "code",
      "source": [
        "df_dev['std_characters'] = df_dev['std_characters'].fillna(0)\n",
        "df_train['std_characters'] = df_train['std_characters'].fillna(0)\n",
        "df_test['std_characters'] = df_test['std_characters'].fillna(0)"
      ],
      "metadata": {
        "id": "p3R0nULfZhm3"
      },
      "execution_count": 131,
      "outputs": []
    },
    {
      "cell_type": "code",
      "source": [
        "for df in [df_dev, df_train, df_test]:\n",
        "  display(df.isin([np.nan, np.inf, -np.inf]).sum())"
      ],
      "metadata": {
        "colab": {
          "base_uri": "https://localhost:8080/",
          "height": 381
        },
        "id": "FjUrNg84Z72w",
        "outputId": "369aa759-3cf7-467d-c85c-bba39d40fac6"
      },
      "execution_count": 132,
      "outputs": [
        {
          "output_type": "display_data",
          "data": {
            "text/plain": [
              "avg_characters    0\n",
              "std_characters    0\n",
              "avg_hashtags      0\n",
              "avg_mentions      0\n",
              "avg_urls          0\n",
              "label             0\n",
              "dtype: int64"
            ]
          },
          "metadata": {}
        },
        {
          "output_type": "display_data",
          "data": {
            "text/plain": [
              "avg_characters    0\n",
              "std_characters    0\n",
              "avg_hashtags      0\n",
              "avg_mentions      0\n",
              "avg_urls          0\n",
              "label             0\n",
              "dtype: int64"
            ]
          },
          "metadata": {}
        },
        {
          "output_type": "display_data",
          "data": {
            "text/plain": [
              "avg_characters    0\n",
              "std_characters    0\n",
              "avg_hashtags      0\n",
              "avg_mentions      0\n",
              "avg_urls          0\n",
              "label             0\n",
              "dtype: int64"
            ]
          },
          "metadata": {}
        }
      ]
    },
    {
      "cell_type": "code",
      "source": [
        "save_path = \"./drive/MyDrive/Thesis Workspace/Notebooks/data/sb15-set3/\"\n",
        "for name, df in zip(subfolder_names, [df_dev, df_train, df_test]):\n",
        "  df.to_csv(f'{save_path}{name}.csv', index = False)\n"
      ],
      "metadata": {
        "id": "y-FUQYGlUsUJ"
      },
      "execution_count": 135,
      "outputs": []
    }
  ]
}