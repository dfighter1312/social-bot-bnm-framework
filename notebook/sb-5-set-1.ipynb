{
 "cells": [
  {
   "cell_type": "code",
   "execution_count": 1,
   "id": "4ef8ccfc",
   "metadata": {},
   "outputs": [],
   "source": [
    "import pandas as pd\n",
    "import numpy as np\n",
    "import math\n",
    "import time\n",
    "\n",
    "from sklearn.ensemble import AdaBoostClassifier\n",
    "from sklearn.metrics import classification_report, roc_auc_score\n",
    "from sklearn.model_selection import train_test_split\n",
    "\n",
    "from imblearn.over_sampling import SMOTE\n",
    "from imblearn.under_sampling import EditedNearestNeighbours"
   ]
  },
  {
   "cell_type": "code",
   "execution_count": 2,
   "id": "39573648",
   "metadata": {},
   "outputs": [],
   "source": [
    "df_bot = bot_accounts = pd.concat(\n",
    "    [\n",
    "        pd.read_csv('../data/set-1/social_spambots_1.csv'),\n",
    "        pd.read_csv('../data/set-1/social_spambots_2.csv'),\n",
    "        pd.read_csv('../data/set-1/social_spambots_3.csv')\n",
    "    ]\n",
    ").reset_index(drop=True)\n",
    "\n",
    "df_naive = pd.read_csv('../data/set-1/geniune_accounts.csv')"
   ]
  },
  {
   "cell_type": "code",
   "execution_count": 3,
   "id": "6ce977c8",
   "metadata": {},
   "outputs": [],
   "source": [
    "def feature_engineering(df):\n",
    "    used_columns = [\n",
    "        'statuses_count',\n",
    "        'followers_count',\n",
    "        'friends_count',\n",
    "        'favourites_count',\n",
    "        'listed_count',\n",
    "        'default_profile',\n",
    "        'geo_enabled',\n",
    "        'profile_use_background_image',\n",
    "        'verified',\n",
    "        'protected'\n",
    "    ]\n",
    "    df_return = df[used_columns].fillna(0.0)\n",
    "    return df_return"
   ]
  },
  {
   "cell_type": "code",
   "execution_count": 4,
   "id": "623ab996",
   "metadata": {},
   "outputs": [],
   "source": [
    "feature_time = time.time()\n",
    "df_bot = feature_engineering(df_bot)\n",
    "df_naive = feature_engineering(df_naive)\n",
    "end_feature_time = time.time()"
   ]
  },
  {
   "cell_type": "code",
   "execution_count": null,
   "id": "3a554d2a",
   "metadata": {},
   "outputs": [],
   "source": []
  },
  {
   "cell_type": "code",
   "execution_count": 5,
   "id": "e51086aa",
   "metadata": {},
   "outputs": [],
   "source": [
    "X = pd.concat([df_bot, df_naive], ignore_index=True).values\n",
    "y = np.concatenate(\n",
    "    [\n",
    "        np.zeros((df_bot.shape[0],)),\n",
    "        np.ones((df_naive.shape[0],))\n",
    "    ]\n",
    ")"
   ]
  },
  {
   "cell_type": "code",
   "execution_count": 6,
   "id": "045e18f6",
   "metadata": {},
   "outputs": [],
   "source": [
    "X_train, X_test, y_train, y_test = train_test_split(X, y, test_size=0.2, random_state=0)"
   ]
  },
  {
   "cell_type": "code",
   "execution_count": 7,
   "id": "2d69f9c0",
   "metadata": {},
   "outputs": [],
   "source": [
    "start_time = time.time()\n",
    "\n",
    "smote = SMOTE()\n",
    "smote_X, smote_y = smote.fit_resample(X_train, y_train)\n",
    "\n",
    "e = EditedNearestNeighbours()\n",
    "r_X, r_y = e.fit_resample(smote_X, smote_y)\n",
    "\n",
    "a = AdaBoostClassifier(n_estimators=500, random_state=0)\n",
    "a.fit(r_X, r_y)\n",
    "\n",
    "end_time = time.time()"
   ]
  },
  {
   "cell_type": "code",
   "execution_count": 8,
   "id": "45e1a53a",
   "metadata": {},
   "outputs": [],
   "source": [
    "y_predict = a.predict(r_X)"
   ]
  },
  {
   "cell_type": "code",
   "execution_count": 9,
   "id": "fa9b5cba",
   "metadata": {},
   "outputs": [
    {
     "name": "stdout",
     "output_type": "stream",
     "text": [
      "              precision    recall  f1-score   support\n",
      "\n",
      "         0.0     0.9903    0.9964    0.9933      3883\n",
      "         1.0     0.9961    0.9895    0.9928      3619\n",
      "\n",
      "    accuracy                         0.9931      7502\n",
      "   macro avg     0.9932    0.9929    0.9931      7502\n",
      "weighted avg     0.9931    0.9931    0.9931      7502\n",
      "\n"
     ]
    }
   ],
   "source": [
    "print(classification_report(y_predict, r_y, digits=4))"
   ]
  },
  {
   "cell_type": "code",
   "execution_count": 10,
   "id": "df13b4f9",
   "metadata": {},
   "outputs": [
    {
     "data": {
      "text/plain": [
       "0.9929472010720881"
      ]
     },
     "execution_count": 10,
     "metadata": {},
     "output_type": "execute_result"
    }
   ],
   "source": [
    "# ROC AUC score\n",
    "roc_auc_score(y_predict, r_y)"
   ]
  },
  {
   "cell_type": "code",
   "execution_count": 11,
   "id": "f866e313",
   "metadata": {},
   "outputs": [
    {
     "data": {
      "text/plain": [
       "(3.1318323612213135, 0.010021209716796875)"
      ]
     },
     "execution_count": 11,
     "metadata": {},
     "output_type": "execute_result"
    }
   ],
   "source": [
    "# Training time and feature engineering time\n",
    "end_time - start_time, end_feature_time - feature_time"
   ]
  },
  {
   "cell_type": "code",
   "execution_count": 12,
   "id": "91393641",
   "metadata": {},
   "outputs": [],
   "source": [
    "y_test_predict = a.predict(X_test)"
   ]
  },
  {
   "cell_type": "code",
   "execution_count": 13,
   "id": "89b063cb",
   "metadata": {},
   "outputs": [
    {
     "name": "stdout",
     "output_type": "stream",
     "text": [
      "              precision    recall  f1-score   support\n",
      "\n",
      "         0.0     0.9920    0.9765    0.9842      1021\n",
      "         1.0     0.9643    0.9878    0.9759       657\n",
      "\n",
      "    accuracy                         0.9809      1678\n",
      "   macro avg     0.9782    0.9822    0.9801      1678\n",
      "weighted avg     0.9812    0.9809    0.9810      1678\n",
      "\n"
     ]
    }
   ],
   "source": [
    "print(classification_report(y_test_predict, y_test, digits=4))"
   ]
  },
  {
   "cell_type": "code",
   "execution_count": 14,
   "id": "4caf2e97",
   "metadata": {},
   "outputs": [
    {
     "data": {
      "text/plain": [
       "0.9821585367853464"
      ]
     },
     "execution_count": 14,
     "metadata": {},
     "output_type": "execute_result"
    }
   ],
   "source": [
    "roc_auc_score(y_test_predict, y_test)"
   ]
  }
 ],
 "metadata": {
  "kernelspec": {
   "display_name": "Python 3",
   "language": "python",
   "name": "python3"
  },
  "language_info": {
   "codemirror_mode": {
    "name": "ipython",
    "version": 3
   },
   "file_extension": ".py",
   "mimetype": "text/x-python",
   "name": "python",
   "nbconvert_exporter": "python",
   "pygments_lexer": "ipython3",
   "version": "3.8.8"
  }
 },
 "nbformat": 4,
 "nbformat_minor": 5
}
