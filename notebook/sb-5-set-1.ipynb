{
 "cells": [
  {
   "cell_type": "code",
   "execution_count": 1,
   "id": "4ef8ccfc",
   "metadata": {},
   "outputs": [],
   "source": [
    "import pandas as pd\n",
    "import numpy as np\n",
    "import math\n",
    "import time\n",
    "\n",
    "\n",
    "from sklearn.ensemble import AdaBoostClassifier\n",
    "from sklearn.metrics import classification_report, roc_auc_score\n",
    "from sklearn.model_selection import train_test_split"
   ]
  },
  {
   "cell_type": "code",
   "execution_count": 2,
   "id": "39573648",
   "metadata": {},
   "outputs": [],
   "source": [
    "df_bot = bot_accounts = pd.concat(\n",
    "    [\n",
    "        pd.read_csv('../data/set-1/social_spambots_1.csv'),\n",
    "        pd.read_csv('../data/set-1/social_spambots_2.csv'),\n",
    "        pd.read_csv('../data/set-1/social_spambots_3.csv')\n",
    "    ]\n",
    ").reset_index(drop=True)\n",
    "\n",
    "df_naive = pd.read_csv('../data/set-1/geniune_accounts.csv')"
   ]
  },
  {
   "cell_type": "code",
   "execution_count": 3,
   "id": "6ce977c8",
   "metadata": {},
   "outputs": [],
   "source": [
    "def feature_engineering(df):\n",
    "    used_columns = [\n",
    "        'statuses_count',\n",
    "        'followers_count',\n",
    "        'friends_count',\n",
    "        'favourites_count',\n",
    "        'listed_count',\n",
    "        'default_profile',\n",
    "        'geo_enabled',\n",
    "        'profile_use_background_image',\n",
    "        'verified',\n",
    "        'protected'\n",
    "    ]\n",
    "    df_return = df[used_columns].fillna(0.0)\n",
    "    return df_return"
   ]
  },
  {
   "cell_type": "code",
   "execution_count": 4,
   "id": "623ab996",
   "metadata": {},
   "outputs": [],
   "source": [
    "df_bot = feature_engineering(df_bot)\n",
    "df_naive = feature_engineering(df_naive)"
   ]
  },
  {
   "cell_type": "code",
   "execution_count": 5,
   "id": "e51086aa",
   "metadata": {},
   "outputs": [],
   "source": [
    "X = pd.concat([df_bot, df_naive]).values\n",
    "y = np.concatenate(\n",
    "    [\n",
    "        np.zeros((df_bot.shape[0],)),\n",
    "        np.ones((df_naive.shape[0],))\n",
    "    ]\n",
    ")"
   ]
  },
  {
   "cell_type": "code",
   "execution_count": 6,
   "id": "d1cd1c57",
   "metadata": {},
   "outputs": [
    {
     "data": {
      "text/plain": [
       "((8386, 10), (8386,))"
      ]
     },
     "execution_count": 6,
     "metadata": {},
     "output_type": "execute_result"
    }
   ],
   "source": [
    "X.shape, y.shape"
   ]
  },
  {
   "cell_type": "code",
   "execution_count": 7,
   "id": "3ef09b1a",
   "metadata": {},
   "outputs": [
    {
     "data": {
      "text/plain": [
       "array([[1.2990e+03, 2.2000e+01, 4.0000e+01, 1.0000e+00, 0.0000e+00,\n",
       "        1.0000e+00, 1.0000e+00, 1.0000e+00, 0.0000e+00, 0.0000e+00],\n",
       "       [1.8665e+04, 1.2561e+04, 3.4420e+03, 1.6358e+04, 1.1000e+02,\n",
       "        0.0000e+00, 1.0000e+00, 1.0000e+00, 0.0000e+00, 0.0000e+00],\n",
       "       [2.2987e+04, 6.0000e+02, 7.5500e+02, 1.4000e+01, 6.0000e+00,\n",
       "        0.0000e+00, 0.0000e+00, 1.0000e+00, 0.0000e+00, 0.0000e+00],\n",
       "       [7.9750e+03, 3.9800e+02, 3.5000e+02, 1.1000e+01, 2.0000e+00,\n",
       "        0.0000e+00, 0.0000e+00, 1.0000e+00, 0.0000e+00, 0.0000e+00],\n",
       "       [2.0218e+04, 4.1300e+02, 4.0500e+02, 1.6200e+02, 8.0000e+00,\n",
       "        0.0000e+00, 1.0000e+00, 1.0000e+00, 0.0000e+00, 0.0000e+00]])"
      ]
     },
     "execution_count": 7,
     "metadata": {},
     "output_type": "execute_result"
    }
   ],
   "source": [
    "X[:5]"
   ]
  },
  {
   "cell_type": "code",
   "execution_count": 8,
   "id": "e60bf6b5",
   "metadata": {},
   "outputs": [
    {
     "data": {
      "text/plain": [
       "array([0., 0., 0., 0., 0.])"
      ]
     },
     "execution_count": 8,
     "metadata": {},
     "output_type": "execute_result"
    }
   ],
   "source": [
    "y[:5]"
   ]
  },
  {
   "cell_type": "code",
   "execution_count": 9,
   "id": "045e18f6",
   "metadata": {},
   "outputs": [],
   "source": [
    "X_train, X_test, y_train, y_test = train_test_split(X, y, test_size=0.2, random_state=0)"
   ]
  },
  {
   "cell_type": "code",
   "execution_count": 10,
   "id": "2d69f9c0",
   "metadata": {},
   "outputs": [],
   "source": [
    "start_time = time.time()\n",
    "\n",
    "smote = SMOTE()\n",
    "smote_X, smote_y = smote.fit_resample(X_train, y_train)\n",
    "\n",
    "e = EditedNearestNeighbours()\n",
    "r_X, r_y = e.fit_resample(smote_X, smote_y)\n",
    "\n",
    "a = AdaBoostClassifier(n_estimators=500, random_state=0)\n",
    "a.fit(r_X, r_y)\n",
    "\n",
    "end_time = time.time()"
   ]
  },
  {
   "cell_type": "code",
   "execution_count": 11,
   "id": "45e1a53a",
   "metadata": {},
   "outputs": [],
   "source": [
    "y_predict = a.predict(r_X)"
   ]
  },
  {
   "cell_type": "code",
   "execution_count": 12,
   "id": "fa9b5cba",
   "metadata": {},
   "outputs": [
    {
     "name": "stdout",
     "output_type": "stream",
     "text": [
      "              precision    recall  f1-score   support\n",
      "\n",
      "         0.0     0.9908    0.9969    0.9938      3883\n",
      "         1.0     0.9967    0.9901    0.9934      3632\n",
      "\n",
      "    accuracy                         0.9936      7515\n",
      "   macro avg     0.9937    0.9935    0.9936      7515\n",
      "weighted avg     0.9936    0.9936    0.9936      7515\n",
      "\n"
     ]
    }
   ],
   "source": [
    "print(classification_report(y_predict, r_y, digits=4))"
   ]
  },
  {
   "cell_type": "code",
   "execution_count": 13,
   "id": "df13b4f9",
   "metadata": {},
   "outputs": [
    {
     "data": {
      "text/plain": [
       "0.993498855850817"
      ]
     },
     "execution_count": 13,
     "metadata": {},
     "output_type": "execute_result"
    }
   ],
   "source": [
    "# ROC AUC score\n",
    "roc_auc_score(y_predict, r_y)"
   ]
  },
  {
   "cell_type": "code",
   "execution_count": 14,
   "id": "f866e313",
   "metadata": {},
   "outputs": [
    {
     "data": {
      "text/plain": [
       "3.7763688564300537"
      ]
     },
     "execution_count": 14,
     "metadata": {},
     "output_type": "execute_result"
    }
   ],
   "source": [
    "# Training time\n",
    "end_time - start_time"
   ]
  },
  {
   "cell_type": "code",
   "execution_count": 15,
   "id": "91393641",
   "metadata": {},
   "outputs": [],
   "source": [
    "y_test_predict = a.predict(X_test)"
   ]
  },
  {
   "cell_type": "code",
   "execution_count": 16,
   "id": "89b063cb",
   "metadata": {},
   "outputs": [
    {
     "name": "stdout",
     "output_type": "stream",
     "text": [
      "              precision    recall  f1-score   support\n",
      "\n",
      "         0.0     0.9910    0.9813    0.9861      1015\n",
      "         1.0     0.9718    0.9864    0.9790       663\n",
      "\n",
      "    accuracy                         0.9833      1678\n",
      "   macro avg     0.9814    0.9839    0.9826      1678\n",
      "weighted avg     0.9834    0.9833    0.9833      1678\n",
      "\n"
     ]
    }
   ],
   "source": [
    "print(classification_report(y_test_predict, y_test, digits=4))"
   ]
  },
  {
   "cell_type": "code",
   "execution_count": 17,
   "id": "4caf2e97",
   "metadata": {},
   "outputs": [
    {
     "data": {
      "text/plain": [
       "0.9838530637719279"
      ]
     },
     "execution_count": 17,
     "metadata": {},
     "output_type": "execute_result"
    }
   ],
   "source": [
    "roc_auc_score(y_test_predict, y_test)"
   ]
  }
 ],
 "metadata": {
  "kernelspec": {
   "display_name": "Python 3",
   "language": "python",
   "name": "python3"
  },
  "language_info": {
   "codemirror_mode": {
    "name": "ipython",
    "version": 3
   },
   "file_extension": ".py",
   "mimetype": "text/x-python",
   "name": "python",
   "nbconvert_exporter": "python",
   "pygments_lexer": "ipython3",
   "version": "3.8.8"
  }
 },
 "nbformat": 4,
 "nbformat_minor": 5
}
